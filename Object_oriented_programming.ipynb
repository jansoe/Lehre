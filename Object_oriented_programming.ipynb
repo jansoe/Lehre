{
  "cells": [
    {
      "cell_type": "markdown",
      "metadata": {
        "id": "nP8Z4n-YDpke"
      },
      "source": [
        "# Object Oriented Programming \n",
        "adapted from  https://github.com/UofTCoders/studyGroup/blob/gh-pages/lessons/python/classes/lesson.md and https://github.com/UofTCoders/studyGroup/blob/edit-events/lessons/python/object_oriented_programming/Object_oriented_programming.ipynb"
      ]
    },
    {
      "cell_type": "markdown",
      "metadata": {
        "id": "TIk_vocgDpki"
      },
      "source": [
        "\n",
        "Object Oriented Programming is an approach in programming in which properties and behaviors are bundled into individual *objects*.\n",
        "in real world, an object has some properties and functions: a car has color, model, engine type, etc. and can move, speed, brake, etc. or an email has recipient list, subject, body, etc., and behaviors like adding attachments and sending; or a person who has name, height, weight, address and can walk, talk, laugh, etc. \n",
        "\n",
        "We can have the same approach in desigining programs based on objects that represent both properties and functions that can be applied to those properties. \n",
        "\n",
        "## Classes in Python\n",
        "Each object is an instance of a class (each person is an instance of *human beings* class!) \n",
        "Class is a data structure that allows the user to define any needed properties and functions that the object will contain. So the objects are instances of an specific class. \n",
        "Like when Sara with 170 cm height and dark hair is an instance of human() class. \n",
        "\n",
        "so: \n",
        "\n",
        "- A class provides the form or structure\n",
        "- an Object is an instance of a class which has: \n",
        "    - features, that are called **attributes**\n",
        "    - functions, that are called **methods**\n",
        "\n",
        "## Defining a class in python \n",
        "Let's assume we want to file the subjects of an ongoing study. \n",
        "\n",
        "We want to define a class called *subjet* with attributes such as ID, first name, last name, admission_date and a function that will just print out the full name of the subject. \n",
        "suppose we wnat to create two objects: \n",
        "111,  Jane Doe, 2019_01_01\n",
        "112,  John Smith, 2019_01_09"
      ]
    },
    {
      "cell_type": "code",
      "execution_count": 1,
      "metadata": {
        "id": "O0Vc0VO5Dpkn"
      },
      "outputs": [],
      "source": [
        "# first we need to creat a class. \n",
        "# If you like to create an empty class at first, you use the command pass inside the class\n",
        "class Student:  \n",
        "    pass  "
      ]
    },
    {
      "cell_type": "code",
      "execution_count": 2,
      "metadata": {
        "id": "toXI4GKkDpkq"
      },
      "outputs": [],
      "source": [
        "# create the objects of that class. \n",
        "# we create 2 and call them S1 and S2: \n",
        "S1 = Student()\n",
        "S1.fname = \"Jane\"\n",
        "S1.lname = \"Doe\"\n",
        "S1.ID = 111\n",
        "S1.date_of_admission = \"2019_01_01\"\n",
        "\n",
        "S2 = Student()\n",
        "S2.fname = \"John\"\n",
        "S2.lname = \"Smith\"\n",
        "S2.ID = 112\n",
        "S2.date_of_admission = \"2019_01_09\""
      ]
    },
    {
      "cell_type": "code",
      "execution_count": 3,
      "metadata": {
        "id": "yjgTPzhfDpkr",
        "outputId": "4d429144-f12c-4321-fcca-ca3406311479",
        "colab": {
          "base_uri": "https://localhost:8080/"
        }
      },
      "outputs": [
        {
          "output_type": "stream",
          "name": "stdout",
          "text": [
            "Jane Doe\n"
          ]
        }
      ],
      "source": [
        "# you can use these objects in any form. Let's say we want to bring up some info about subject 1\n",
        "print(S1.fname,S1.lname)"
      ]
    },
    {
      "cell_type": "markdown",
      "source": [
        "####  Task: Create a Student object with your data"
      ],
      "metadata": {
        "id": "F8QvaHu8D_C2"
      }
    },
    {
      "cell_type": "code",
      "source": [],
      "metadata": {
        "id": "p-HHq1A_EINO"
      },
      "execution_count": null,
      "outputs": []
    },
    {
      "cell_type": "markdown",
      "metadata": {
        "id": "Eu5bC8SpDpkt"
      },
      "source": [
        "## method\n",
        "We said in object oriented programming, we can have functions associated with the object. \n",
        "so, we want this printing of the full name to be a method of the object. \n",
        "We can rewrite the class and then run the above cell to fill the two objects again:"
      ]
    },
    {
      "cell_type": "code",
      "execution_count": 4,
      "metadata": {
        "id": "pP8zp9YsDpkv"
      },
      "outputs": [],
      "source": [
        "class Student:\n",
        "    def fullname(self):\n",
        "        print(self.fname, self.lname)"
      ]
    },
    {
      "cell_type": "code",
      "execution_count": 5,
      "metadata": {
        "id": "f7ggExwqDpkw"
      },
      "outputs": [],
      "source": [
        "# since we rewrite the class, we have to fill in the attributes again: \n",
        "S1 = Student()\n",
        "S1.fname = \"Jane\"\n",
        "S1.lname = \"Doe\"\n",
        "S1.ID = 111\n",
        "S1.date_of_admission = \"2019_01_01\"\n",
        "\n",
        "S2 = Student()\n",
        "S2.fname = \"John\"\n",
        "S2.lname = \"Smith\"\n",
        "S2.ID = 112\n",
        "S2.date_of_admission = \"2019_01_09\""
      ]
    },
    {
      "cell_type": "markdown",
      "metadata": {
        "id": "tU-kDATxDpky"
      },
      "source": [
        "Now if we look at the objects it has a method + the attributes: "
      ]
    },
    {
      "cell_type": "code",
      "execution_count": 6,
      "metadata": {
        "id": "FqxusVxeDpk0",
        "outputId": "3b5f9a55-a5d9-4d83-970e-b0def2ec9b7a",
        "colab": {
          "base_uri": "https://localhost:8080/"
        }
      },
      "outputs": [
        {
          "output_type": "stream",
          "name": "stdout",
          "text": [
            "John Smith\n"
          ]
        }
      ],
      "source": [
        "S2.fullname()"
      ]
    },
    {
      "cell_type": "markdown",
      "metadata": {
        "id": "Hxa2gYGODpk1"
      },
      "source": [
        "But the above approach is not efficient, we don't want to repeat filling in the attributes individually: both boring and prone to typos. \n",
        "\n",
        "## constructor\n",
        "We actually don't need to. We can use a *constructor* to design the attributes within the class: "
      ]
    },
    {
      "cell_type": "code",
      "execution_count": 7,
      "metadata": {
        "id": "ZB3pa9O7Dpk3"
      },
      "outputs": [],
      "source": [
        "class Student: \n",
        "    def __init__(self, fname,lname,ID,date_of_admission):\n",
        "        self.fname = fname\n",
        "        self.lname = lname\n",
        "        self.ID = ID\n",
        "        self.date_of_admission = date_of_admission\n",
        "        \n",
        "    def fullname(self):\n",
        "        print(self.fname,self.lname)\n",
        "    "
      ]
    },
    {
      "cell_type": "markdown",
      "metadata": {
        "id": "esI5TGLbDpk3"
      },
      "source": [
        "In this way, to fill in the objects of a class, we can give it the first name, last name, the ID, and the data of admission in order. "
      ]
    },
    {
      "cell_type": "code",
      "execution_count": 11,
      "metadata": {
        "id": "ncpp_FhmDpk4"
      },
      "outputs": [],
      "source": [
        "# let's fill in the same subjects' info \n",
        "S1 = Student(fname=\"Jane\",lname=\"Doe\",ID=111,date_of_admission=\"2019_01_01\")\n",
        "S2 = Student(\"John\",\"Smith\",112,\"2019_01_02\")"
      ]
    },
    {
      "cell_type": "code",
      "execution_count": 12,
      "metadata": {
        "id": "TS3JuKHrDpk5",
        "outputId": "0f90b776-7c19-491b-95e3-b072caf5606f",
        "colab": {
          "base_uri": "https://localhost:8080/"
        }
      },
      "outputs": [
        {
          "output_type": "stream",
          "name": "stdout",
          "text": [
            "Jane Doe\n"
          ]
        }
      ],
      "source": [
        "# now the method 'fullname' should give the same info as before:\n",
        "S1.fullname()"
      ]
    },
    {
      "cell_type": "markdown",
      "source": [
        "#### Task: Add a Method `year_of_admission` which returns the year of admission for a student\n",
        "\n"
      ],
      "metadata": {
        "id": "RmfiL0ZwEkPB"
      }
    },
    {
      "cell_type": "code",
      "source": [],
      "metadata": {
        "id": "GteCEdGIGXco"
      },
      "execution_count": null,
      "outputs": []
    },
    {
      "cell_type": "markdown",
      "source": [
        "#### Task: Add a second Method `in_time()` which should return True if the year of admission is less than 2 years ago and otherwise False "
      ],
      "metadata": {
        "id": "8XnyDW5hGXxZ"
      }
    },
    {
      "cell_type": "code",
      "source": [
        "import datetime\n",
        "date = datetime.date.today()\n",
        "date.year"
      ],
      "metadata": {
        "id": "SkmPiCTyFDmY",
        "outputId": "bca822a7-5bbd-40ca-88cf-882b91e4418c",
        "colab": {
          "base_uri": "https://localhost:8080/"
        }
      },
      "execution_count": 16,
      "outputs": [
        {
          "output_type": "execute_result",
          "data": {
            "text/plain": [
              "2023"
            ]
          },
          "metadata": {},
          "execution_count": 16
        }
      ]
    },
    {
      "cell_type": "code",
      "source": [],
      "metadata": {
        "id": "G5oaEhLiGTzt"
      },
      "execution_count": null,
      "outputs": []
    },
    {
      "cell_type": "markdown",
      "metadata": {
        "id": "0wrZCyG8Dpk_"
      },
      "source": [
        "## Example 2\n",
        "Now let's work with another example: "
      ]
    },
    {
      "cell_type": "markdown",
      "metadata": {
        "id": "CpgqUrqXDpk_"
      },
      "source": [
        "Programing for a bank: Let's define a class called *Client* in which a new instance stores a client's name, balance, and account level."
      ]
    },
    {
      "cell_type": "code",
      "execution_count": null,
      "metadata": {
        "id": "WLeMyxF7DplA"
      },
      "outputs": [],
      "source": [
        "# create the Client class below\n",
        "class Client(object):\n",
        "    def __init__(self, name, balance):\n",
        "        self.name = name\n",
        "        self.balance = balance + 100\n",
        "        \n",
        "        #define account level\n",
        "        if self.balance < 5000:\n",
        "            self.level = \"Basic\"\n",
        "        elif self.balance < 15000:\n",
        "            self.level = \"Intermediate\"\n",
        "        else:\n",
        "            self.level = \"Advanced\""
      ]
    },
    {
      "cell_type": "markdown",
      "metadata": {
        "id": "vrR-eVyCDplD"
      },
      "source": [
        "Now, lets try creating some new clients named John_Doe, and Jane_Defoe (i.e. two instances of the 'Client' class, or two objects):\n"
      ]
    },
    {
      "cell_type": "code",
      "execution_count": null,
      "metadata": {
        "id": "pBHQF0A2DplD"
      },
      "outputs": [],
      "source": [
        "C1 = Client(\"John Doe\", 500)\n",
        "C2 = Client(\"Jane Defoe\", 150000)"
      ]
    },
    {
      "cell_type": "markdown",
      "metadata": {
        "id": "vW1aBRnzDplE"
      },
      "source": [
        "We can see the attributes of John_Doe, or Jane_Defoe by calling them:"
      ]
    },
    {
      "cell_type": "code",
      "execution_count": null,
      "metadata": {
        "id": "cMkUCR7sDplE",
        "outputId": "7618d677-3479-4c40-de7a-da4d66ca7312"
      },
      "outputs": [
        {
          "data": {
            "text/plain": [
              "'John Doe'"
            ]
          },
          "execution_count": 17,
          "metadata": {},
          "output_type": "execute_result"
        }
      ],
      "source": [
        "C1.name"
      ]
    },
    {
      "cell_type": "code",
      "execution_count": null,
      "metadata": {
        "id": "WcjfnwXnDplF",
        "outputId": "0ea5c0de-492d-4c46-e12b-1d96bcd08421"
      },
      "outputs": [
        {
          "data": {
            "text/plain": [
              "'Advanced'"
            ]
          },
          "execution_count": 19,
          "metadata": {},
          "output_type": "execute_result"
        }
      ],
      "source": [
        "C2.level"
      ]
    },
    {
      "cell_type": "code",
      "execution_count": null,
      "metadata": {
        "id": "JyA7JeYcDplF",
        "outputId": "b126071d-88c5-49a3-97f7-3351d016f0d4"
      },
      "outputs": [
        {
          "data": {
            "text/plain": [
              "150100"
            ]
          },
          "execution_count": 21,
          "metadata": {},
          "output_type": "execute_result"
        }
      ],
      "source": [
        "C2.balance"
      ]
    },
    {
      "cell_type": "markdown",
      "metadata": {
        "id": "Z1fCICKTDplF"
      },
      "source": [
        "We can also add, remove or modify attributes as we like:"
      ]
    },
    {
      "cell_type": "code",
      "execution_count": null,
      "metadata": {
        "id": "O10Y6dBXDplG"
      },
      "outputs": [],
      "source": [
        "C1.email = \"jdoe23@gmail.com\"\n",
        "C2.email = \"johndoe23@gmail.com\""
      ]
    },
    {
      "cell_type": "code",
      "execution_count": null,
      "metadata": {
        "id": "FX-WtCeoDplG",
        "outputId": "f9af277d-be36-4a6a-f4e0-8cc6b846e175"
      },
      "outputs": [
        {
          "data": {
            "text/plain": [
              "'jdoe23@gmail.com'"
            ]
          },
          "execution_count": 24,
          "metadata": {},
          "output_type": "execute_result"
        }
      ],
      "source": [
        "C1.email"
      ]
    },
    {
      "cell_type": "code",
      "execution_count": null,
      "metadata": {
        "id": "s3HfuBBZDplH"
      },
      "outputs": [],
      "source": [
        "del C1.email"
      ]
    },
    {
      "cell_type": "code",
      "execution_count": null,
      "metadata": {
        "id": "uGtJee_BDplH",
        "outputId": "69ed6cde-af9d-4ea6-e47e-c9726cb12253"
      },
      "outputs": [
        {
          "data": {
            "text/plain": [
              "'johndoe23@gmail.com'"
            ]
          },
          "execution_count": 28,
          "metadata": {},
          "output_type": "execute_result"
        }
      ],
      "source": [
        "# C1.email\n",
        "C2.email"
      ]
    },
    {
      "cell_type": "markdown",
      "metadata": {
        "id": "L4JswfXQDplI"
      },
      "source": [
        "### Class Attributes vs. Normal Attributes\n",
        "\n",
        "A class attribute is an attribute set at the class-level rather than the instance-level, such that the value of this attribute will be the same across all instances.\n",
        "\n",
        "For our *Client* class, we might want to set the name of the bank, and the location, which would not change from instance to instance."
      ]
    },
    {
      "cell_type": "code",
      "execution_count": null,
      "metadata": {
        "jupyter": {
          "outputs_hidden": false
        },
        "id": "4yYZw6xwDplI"
      },
      "outputs": [],
      "source": [
        "Client.bank = \"TD\"\n",
        "Client.location = \"Toronto, ON\""
      ]
    },
    {
      "cell_type": "markdown",
      "metadata": {
        "id": "YDLKr8pTDplJ"
      },
      "source": [
        "In the case of our 'Client' class, we may want to update a person's bank account once they withdraw or deposit money. Let's create these methods below."
      ]
    },
    {
      "cell_type": "code",
      "execution_count": null,
      "metadata": {
        "id": "mUGfk-oyDplK"
      },
      "outputs": [],
      "source": [
        "# Use the Client class code above to now add methods for withdrawal and depositing of money\n",
        "\n",
        "# create the Client class below\n",
        "class Client(object):\n",
        "    def __init__(self, name, balance):\n",
        "        self.name = name\n",
        "        self.balance = balance + 100\n",
        "        \n",
        "        #define account level\n",
        "        if self.balance < 5000:\n",
        "            self.level = \"Basic\"\n",
        "        elif self.balance < 15000:\n",
        "            self.level = \"Intermediate\"\n",
        "        else:\n",
        "            self.level = \"Advanced\"\n",
        "            \n",
        "    def deposit(self, amount):\n",
        "        self.balance += amount\n",
        "        return self.balance\n",
        "    \n",
        "    def withdraw(self, amount):\n",
        "        if amount > self.balance:\n",
        "            raise RuntimeError(\"Insufficient for withdrawal\")\n",
        "        else:\n",
        "            self.balance -= amount\n",
        "        return self.balance\n",
        "    \n"
      ]
    },
    {
      "cell_type": "code",
      "execution_count": null,
      "metadata": {
        "id": "Sx9C2OpKDplL"
      },
      "outputs": [],
      "source": [
        "C1 = Client(\"John Doe\", 500)"
      ]
    },
    {
      "cell_type": "code",
      "execution_count": null,
      "metadata": {
        "id": "HqWfBSE3DplL",
        "outputId": "71c9fa5e-c7e3-4744-b439-33e3b84f1bd8"
      },
      "outputs": [
        {
          "data": {
            "text/plain": [
              "'Basic'"
            ]
          },
          "execution_count": 5,
          "metadata": {},
          "output_type": "execute_result"
        }
      ],
      "source": [
        "C1.level"
      ]
    },
    {
      "cell_type": "code",
      "execution_count": null,
      "metadata": {
        "jupyter": {
          "outputs_hidden": false
        },
        "id": "nSi3YF2xDplM",
        "outputId": "e2ca0297-1cff-4bb1-f964-86daefab5a83"
      },
      "outputs": [
        {
          "data": {
            "text/plain": [
              "165600"
            ]
          },
          "execution_count": 7,
          "metadata": {},
          "output_type": "execute_result"
        }
      ],
      "source": [
        "C1.deposit(150000)"
      ]
    },
    {
      "cell_type": "code",
      "execution_count": null,
      "metadata": {
        "id": "yttGh-tJDplM",
        "outputId": "3ae03f62-4d1f-4a19-c7af-6d692a9623e4"
      },
      "outputs": [
        {
          "data": {
            "text/plain": [
              "'Basic'"
            ]
          },
          "execution_count": 10,
          "metadata": {},
          "output_type": "execute_result"
        }
      ],
      "source": [
        "C1.level"
      ]
    },
    {
      "cell_type": "code",
      "execution_count": null,
      "metadata": {
        "id": "jw8MUumKDplN"
      },
      "outputs": [],
      "source": [
        "# yes, we have to repeat the part that defines the account level after each deposit\n",
        "\n",
        "class Client():\n",
        "    def __init__(self, name, balance):\n",
        "        self.name = name\n",
        "        self.balance = balance + 100\n",
        "        \n",
        "        # define account level \n",
        "        if self.balance < 5000: \n",
        "            self.level = \"Basic\"\n",
        "        elif self.balance < 15000:\n",
        "            self.level = \"Intermediate\"\n",
        "        else: \n",
        "            self.level = \"Advanced\"\n",
        "        \n",
        "    \n",
        "    def deposit(self, amount):\n",
        "            self.balance += amount         \n",
        "\n",
        "            if self.balance < 5000: \n",
        "                self.level = \"Basic\"\n",
        "            elif self.balance < 15000:\n",
        "                self.level = \"Intermediate\"\n",
        "            else: \n",
        "                self.level = \"Advanced\"\n",
        "            return self.balance\n",
        "        \n",
        "            \n",
        "        \n",
        "    def withdraw(self, amount):\n",
        "            if amount > self.balance: \n",
        "                raise RuntimeError(\"Insufficient for withdrawal\")\n",
        "            else: \n",
        "                self.balance -= amount\n",
        "            return self.balance\n",
        "\n"
      ]
    },
    {
      "cell_type": "markdown",
      "metadata": {
        "id": "ZtWPwF4xDplN"
      },
      "source": [
        "## Challenge: \n",
        "can we write this Class in a more efficient way to not repeat assigining the balance?"
      ]
    },
    {
      "cell_type": "code",
      "source": [],
      "metadata": {
        "id": "9dL2EsPGEs_h"
      },
      "execution_count": null,
      "outputs": []
    },
    {
      "cell_type": "markdown",
      "metadata": {
        "id": "pmgbJqCvDplN"
      },
      "source": [
        "### Static Methods \n",
        "\n",
        "Static methods are methods that belong to a class but do not have access to *self* and hence don't require an instance to function (i.e. it will work on the class level as well as the instance level). \n",
        "\n",
        "We denote these with the line `@staticmethod` before we define our static method.\n",
        "\n",
        "Let's create a static method called make_money_sound() that will simply print \"Cha-ching!\" when called."
      ]
    },
    {
      "cell_type": "code",
      "execution_count": null,
      "metadata": {
        "jupyter": {
          "outputs_hidden": false
        },
        "id": "n0lx2TGdDplO"
      },
      "outputs": [],
      "source": [
        "# Add a static method called make_money_sound()\n",
        "# create the Client class below\n",
        "class Client(object):\n",
        "    def __init__(self, name, balance):\n",
        "        self.name = name\n",
        "        self.balance = balance + 100\n",
        "        \n",
        "        #define account level\n",
        "        if self.balance < 5000:\n",
        "            self.level = \"Basic\"\n",
        "        elif self.balance < 15000:\n",
        "            self.level = \"Intermediate\"\n",
        "        else:\n",
        "            self.level = \"Advanced\"\n",
        "    \n",
        "    def deposit(self, amount):\n",
        "        self.balance += amount\n",
        "        if self.balance < 5000: \n",
        "               self.level = \"Basic\"\n",
        "        elif self.balance < 15000:\n",
        "               self.level = \"Intermediate\"\n",
        "        else: \n",
        "               self.level = \"Advanced\"\n",
        "        return self.balance\n",
        "   \n",
        "    def withdraw(self, amount):\n",
        "        if amount > self.balance:\n",
        "            raise RuntimeError(\"Insufficient for withdrawal\")\n",
        "        else:\n",
        "            self.balance -= amount\n",
        "        return self.balance\n",
        "            \n",
        "    @staticmethod\n",
        "    def make_money_sound():\n",
        "        print(\"Cha-ching!\")\n",
        "        \n",
        "    \n"
      ]
    },
    {
      "cell_type": "code",
      "execution_count": null,
      "metadata": {
        "jupyter": {
          "outputs_hidden": false
        },
        "id": "etKGck_SDplP",
        "outputId": "8fc3014e-13a1-4dbe-ec81-5de5b95a9734"
      },
      "outputs": [
        {
          "name": "stdout",
          "output_type": "stream",
          "text": [
            "Cha-ching!\n"
          ]
        }
      ],
      "source": [
        "Client.make_money_sound()\n"
      ]
    },
    {
      "cell_type": "code",
      "execution_count": null,
      "metadata": {
        "id": "uuAFZvKvDplP",
        "outputId": "c57317fd-1c92-449e-820a-fe5ce85fca45"
      },
      "outputs": [
        {
          "name": "stdout",
          "output_type": "stream",
          "text": [
            "Cha-ching!\n"
          ]
        }
      ],
      "source": [
        "C1.make_money_sound()"
      ]
    },
    {
      "cell_type": "markdown",
      "metadata": {
        "id": "L3lNm59nDplP"
      },
      "source": [
        "### Class Methods\n",
        "\n",
        "A class method is a type of method that will receive the class rather than the instance as the first parameter. It is also identified similarly to a static method, with `@classmethod`.\n",
        "\n",
        "Create a class method called bank_location() that will print both the bank name and location when called upon the class."
      ]
    },
    {
      "cell_type": "code",
      "execution_count": null,
      "metadata": {
        "id": "u7ey7R4iDplP"
      },
      "outputs": [],
      "source": [
        "# Add a class method called bank_location()\n",
        "# create the Client class below\n",
        "class Client(object):\n",
        "    def __init__(self, name, balance):\n",
        "        self.name = name\n",
        "        self.balance = balance + 100\n",
        "        \n",
        "        #define account level\n",
        "        if self.balance < 5000:\n",
        "            self.level = \"Basic\"\n",
        "        elif self.balance < 15000:\n",
        "            self.level = \"Intermediate\"\n",
        "        else:\n",
        "            self.level = \"Advanced\"\n",
        "    \n",
        "    def deposit(self, amount):\n",
        "        self.balance += amount\n",
        "        return self.balance\n",
        "    \n",
        "    def withdraw(self, amount):\n",
        "        if amount > self.balance:\n",
        "            raise RuntimeError(\"Insufficient for withdrawal\")\n",
        "        else:\n",
        "            self.balance -= amount\n",
        "        return self.balance\n",
        "            \n",
        "    @staticmethod\n",
        "    def make_money_sound():\n",
        "        print(\"Cha-ching!\")\n",
        "            \n",
        "    @classmethod\n",
        "    def bank_location(cls):\n",
        "        return str(cls.bank + \" \" + cls.location)\n",
        "\n"
      ]
    },
    {
      "cell_type": "code",
      "execution_count": null,
      "metadata": {
        "jupyter": {
          "outputs_hidden": false
        },
        "id": "uKIQSmtZDplR",
        "outputId": "2a731ef8-2705-4d15-d4bb-73eade7fbf95"
      },
      "outputs": [
        {
          "data": {
            "text/plain": [
              "'TD Toronto, ON'"
            ]
          },
          "execution_count": 14,
          "metadata": {},
          "output_type": "execute_result"
        }
      ],
      "source": [
        "Client.bank_location()"
      ]
    },
    {
      "cell_type": "markdown",
      "metadata": {
        "id": "0btQXZAZDplR"
      },
      "source": [
        "The code worked because we have assigned 'bank' and 'location' variables before. You can integrate this information in your class: "
      ]
    },
    {
      "cell_type": "code",
      "execution_count": null,
      "metadata": {
        "id": "XjjZfjZVDplS"
      },
      "outputs": [],
      "source": [
        "class Client(object):\n",
        "    bank = \"TD\"\n",
        "    location = \"Toronto, ON\"\n",
        "    \n",
        "    def __init__(self, name, balance):\n",
        "        self.name = name\n",
        "        self.balance = balance + 100\n",
        "        \n",
        "        # define account level \n",
        "        if self.balance < 5000: \n",
        "            self.level = \"Basic\"\n",
        "        elif self.balance < 15000:\n",
        "            self.level = \"Intermediate\"\n",
        "        else: \n",
        "            self.level = \"Advanced\"\n",
        "        \n",
        "    \n",
        "    def deposit(self, amount):\n",
        "            self.balance += amount         \n",
        "            # define account level \n",
        "            if self.balance < 5000: \n",
        "                self.level = \"Basic\"\n",
        "            elif self.balance < 15000:\n",
        "                self.level = \"Intermediate\"\n",
        "            else: \n",
        "                self.level = \"Advanced\"\n",
        "            return self.balance\n",
        "        \n",
        "            \n",
        "        \n",
        "    def withdraw(self, amount):\n",
        "            if amount > self.balance: \n",
        "                raise RuntimeError(\"Insufficient for withdrawal\")\n",
        "            else: \n",
        "                self.balance -= amount\n",
        "            return self.balance\n",
        "    \n",
        "    @classmethod \n",
        "    def bank_location(cls):\n",
        "        return str(cls.bank + \" \" + cls.location)"
      ]
    },
    {
      "cell_type": "code",
      "execution_count": null,
      "metadata": {
        "id": "XWSBZzBqDplS",
        "outputId": "0165cdfc-48dc-4820-8286-f0251573825b"
      },
      "outputs": [
        {
          "data": {
            "text/plain": [
              "'TD Toronto, ON'"
            ]
          },
          "execution_count": 16,
          "metadata": {},
          "output_type": "execute_result"
        }
      ],
      "source": [
        "Client.bank_location()"
      ]
    },
    {
      "cell_type": "markdown",
      "metadata": {
        "id": "eQx6TO6fDplT"
      },
      "source": [
        "### Key Concept: Inheritance\n",
        "\n",
        "A 'child' class can be created from a 'parent' class, whereby the child will bring over attributes and methods that its parent has, but where new features can be created as well. \n",
        "\n",
        "This would be useful if you want to create multiple classes that would have some features that are kept the same between them. You would simply create a parent class of these children classes that have those maintained features.\n",
        "\n",
        "Imagine we want to create different types of clients but still have all the base attributes and methods found in client currently. \n",
        "\n",
        "For example, let's create a class called *Savings* that inherits from the *Client* class. In doing so, we do not need to write another `__init__` method as it will inherit this from its parent."
      ]
    },
    {
      "cell_type": "code",
      "execution_count": null,
      "metadata": {
        "id": "5ocJCSArDplT"
      },
      "outputs": [],
      "source": [
        "# create the Savings class below\n",
        "class Savings(Client):\n",
        "    interest_rate = 0.005\n",
        "    \n",
        "    def update_balance(self):\n",
        "        self.balance += self.balance*self.interest_rate\n",
        "        return self.balance\n"
      ]
    },
    {
      "cell_type": "code",
      "execution_count": null,
      "metadata": {
        "id": "iJA0V1YNDplU"
      },
      "outputs": [],
      "source": [
        "# create an instance the same way as a Client but this time by calling Savings instead\n",
        "C3 = Savings(\"Tom Smith\", 50)"
      ]
    },
    {
      "cell_type": "code",
      "execution_count": null,
      "metadata": {
        "jupyter": {
          "outputs_hidden": false
        },
        "id": "PN0DTdSbDplU",
        "outputId": "ccdc60f9-c5d2-4029-b9ba-fe22e7f66181"
      },
      "outputs": [
        {
          "name": "stdout",
          "output_type": "stream",
          "text": [
            "Tom Smith\n",
            "150\n",
            "0.005\n"
          ]
        }
      ],
      "source": [
        "# it now has access to the new attributes and methods in Savings...\n",
        "print(C3.name)\n",
        "print(C3.balance)\n",
        "print(C3.interest_rate)"
      ]
    },
    {
      "cell_type": "code",
      "execution_count": null,
      "metadata": {
        "jupyter": {
          "outputs_hidden": false
        },
        "id": "Ei3cmdjuDplV",
        "outputId": "d37f5a9e-e0af-447e-d531-6be3d3b888df"
      },
      "outputs": [
        {
          "data": {
            "text/plain": [
              "150.75"
            ]
          },
          "execution_count": 20,
          "metadata": {},
          "output_type": "execute_result"
        }
      ],
      "source": [
        "# ...as well as access to attributes and methods from the Client class as well\n",
        "C3.update_balance()"
      ]
    },
    {
      "cell_type": "code",
      "execution_count": null,
      "metadata": {
        "jupyter": {
          "outputs_hidden": false
        },
        "id": "Rvh89y6vDplV"
      },
      "outputs": [],
      "source": [
        "#defining a method outside the class definition\n",
        "def check_balance(self):\n",
        "    return self.balance\n",
        "\n",
        "Client.check_balance = check_balance"
      ]
    },
    {
      "cell_type": "code",
      "execution_count": null,
      "metadata": {
        "jupyter": {
          "outputs_hidden": false
        },
        "id": "5xkVEmqnDplV",
        "outputId": "42ff414b-1eb5-4139-85ea-40136139fe59"
      },
      "outputs": [
        {
          "data": {
            "text/plain": [
              "150.75"
            ]
          },
          "execution_count": 23,
          "metadata": {},
          "output_type": "execute_result"
        }
      ],
      "source": [
        "C3.check_balance()"
      ]
    },
    {
      "cell_type": "code",
      "execution_count": null,
      "metadata": {
        "id": "r_-pvjdgDplV",
        "outputId": "16efb873-1c4e-4a63-d560-2d2eaa279e62"
      },
      "outputs": [
        {
          "data": {
            "text/plain": [
              "150100"
            ]
          },
          "execution_count": 26,
          "metadata": {},
          "output_type": "execute_result"
        }
      ],
      "source": [
        "C2.check_balance()"
      ]
    },
    {
      "cell_type": "markdown",
      "metadata": {
        "id": "XGNcfCW0DplW"
      },
      "source": [
        "## Challenge:\n",
        "make a child for Savings Class that doubles the amount of savings and adds 2 more dollars. "
      ]
    }
  ],
  "metadata": {
    "kernelspec": {
      "display_name": "Python 3",
      "language": "python",
      "name": "python3"
    },
    "language_info": {
      "codemirror_mode": {
        "name": "ipython",
        "version": 3
      },
      "file_extension": ".py",
      "mimetype": "text/x-python",
      "name": "python",
      "nbconvert_exporter": "python",
      "pygments_lexer": "ipython3",
      "version": "3.6.5"
    },
    "colab": {
      "provenance": []
    }
  },
  "nbformat": 4,
  "nbformat_minor": 0
}