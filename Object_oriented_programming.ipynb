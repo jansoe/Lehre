{
  "cells": [
    {
      "cell_type": "markdown",
      "metadata": {
        "id": "view-in-github",
        "colab_type": "text"
      },
      "source": [
        "<a href=\"https://colab.research.google.com/github/jansoe/Lehre/blob/main/Object_oriented_programming.ipynb\" target=\"_parent\"><img src=\"https://colab.research.google.com/assets/colab-badge.svg\" alt=\"Open In Colab\"/></a>"
      ]
    },
    {
      "cell_type": "markdown",
      "metadata": {
        "id": "nP8Z4n-YDpke"
      },
      "source": [
        "# Object Oriented Programming \n",
        "adapted from  https://github.com/UofTCoders/studyGroup/blob/gh-pages/lessons/python/classes/lesson.md and https://github.com/UofTCoders/studyGroup/blob/edit-events/lessons/python/object_oriented_programming/Object_oriented_programming.ipynb"
      ]
    },
    {
      "cell_type": "markdown",
      "metadata": {
        "id": "TIk_vocgDpki"
      },
      "source": [
        "\n",
        "Object Oriented Programming is an approach in programming in which properties and behaviors are bundled into individual *objects*.\n",
        "in real world, an object has some properties and functions: a car has color, model, engine type, etc. and can move, speed, brake, etc. or an email has recipient list, subject, body, etc., and behaviors like adding attachments and sending; or a person who has name, height, weight, address and can walk, talk, laugh, etc. \n",
        "\n",
        "We can have the same approach in desigining programs based on objects that represent both properties and functions that can be applied to those properties. \n",
        "\n",
        "## Classes in Python\n",
        "Each object is an instance of a class (each person is an instance of *human beings* class!) \n",
        "Class is a data structure that allows the user to define any needed properties and functions that the object will contain. So the objects are instances of an specific class. \n",
        "Like when Sara with 170 cm height and dark hair is an instance of human() class. \n",
        "\n",
        "so: \n",
        "\n",
        "- A class provides the form or structure\n",
        "- an Object is an instance of a class which has: \n",
        "    - features, that are called **attributes**\n",
        "    - functions, that are called **methods**\n",
        "\n",
        "## Defining a class in python \n",
        "Let's assume we want to file the subjects of an ongoing study. \n",
        "\n",
        "We want to define a class called *subjet* with attributes such as ID, first name, last name, admission_date and a function that will just print out the full name of the subject. \n",
        "suppose we wnat to create two objects: \n",
        "111,  Jane Doe, 2019_01_01\n",
        "112,  John Smith, 2019_01_09"
      ]
    },
    {
      "cell_type": "code",
      "execution_count": null,
      "metadata": {
        "id": "O0Vc0VO5Dpkn"
      },
      "outputs": [],
      "source": [
        "# first we need to creat a class. \n",
        "# If you like to create an empty class at first, you use the command pass inside the class\n",
        "class Student:  \n",
        "    pass  "
      ]
    },
    {
      "cell_type": "code",
      "execution_count": null,
      "metadata": {
        "id": "toXI4GKkDpkq"
      },
      "outputs": [],
      "source": [
        "# create the objects of that class. \n",
        "# we create 2 and call them S1 and S2: \n",
        "S1 = Student()\n",
        "S1.fname = \"Jane\"\n",
        "S1.lname = \"Doe\"\n",
        "S1.ID = 111\n",
        "S1.date_of_admission = \"2019_01_01\"\n",
        "\n",
        "S2 = Student()\n",
        "S2.fname = \"John\"\n",
        "S2.lname = \"Smith\"\n",
        "S2.ID = 112\n",
        "S2.date_of_admission = \"2019_01_09\""
      ]
    },
    {
      "cell_type": "code",
      "execution_count": null,
      "metadata": {
        "id": "yjgTPzhfDpkr",
        "outputId": "4d429144-f12c-4321-fcca-ca3406311479",
        "colab": {
          "base_uri": "https://localhost:8080/"
        }
      },
      "outputs": [
        {
          "output_type": "stream",
          "name": "stdout",
          "text": [
            "Jane Doe\n"
          ]
        }
      ],
      "source": [
        "# you can use these objects in any form. Let's say we want to bring up some info about subject 1\n",
        "print(S1.fname,S1.lname)"
      ]
    },
    {
      "cell_type": "markdown",
      "source": [
        "####  Task: Create a Student object with your data"
      ],
      "metadata": {
        "id": "F8QvaHu8D_C2"
      }
    },
    {
      "cell_type": "code",
      "source": [],
      "metadata": {
        "id": "p-HHq1A_EINO"
      },
      "execution_count": null,
      "outputs": []
    },
    {
      "cell_type": "markdown",
      "metadata": {
        "id": "Eu5bC8SpDpkt"
      },
      "source": [
        "## method\n",
        "We said in object oriented programming, we can have functions associated with the object. \n",
        "so, we want this printing of the full name to be a method of the object. \n",
        "We can rewrite the class and then run the above cell to fill the two objects again:"
      ]
    },
    {
      "cell_type": "code",
      "execution_count": null,
      "metadata": {
        "id": "pP8zp9YsDpkv"
      },
      "outputs": [],
      "source": [
        "class Student:\n",
        "    def fullname(self):\n",
        "        print(self.fname, self.lname)"
      ]
    },
    {
      "cell_type": "code",
      "execution_count": null,
      "metadata": {
        "id": "f7ggExwqDpkw"
      },
      "outputs": [],
      "source": [
        "# since we rewrite the class, we have to fill in the attributes again: \n",
        "S1 = Student()\n",
        "S1.fname = \"Jane\"\n",
        "S1.lname = \"Doe\"\n",
        "S1.ID = 111\n",
        "S1.date_of_admission = \"2019_01_01\"\n",
        "\n",
        "S2 = Student()\n",
        "S2.fname = \"John\"\n",
        "S2.lname = \"Smith\"\n",
        "S2.ID = 112\n",
        "S2.date_of_admission = \"2019_01_09\""
      ]
    },
    {
      "cell_type": "markdown",
      "metadata": {
        "id": "tU-kDATxDpky"
      },
      "source": [
        "Now if we look at the objects it has a method + the attributes: "
      ]
    },
    {
      "cell_type": "code",
      "execution_count": null,
      "metadata": {
        "id": "FqxusVxeDpk0",
        "outputId": "3b5f9a55-a5d9-4d83-970e-b0def2ec9b7a",
        "colab": {
          "base_uri": "https://localhost:8080/"
        }
      },
      "outputs": [
        {
          "output_type": "stream",
          "name": "stdout",
          "text": [
            "John Smith\n"
          ]
        }
      ],
      "source": [
        "S2.fullname()"
      ]
    },
    {
      "cell_type": "markdown",
      "metadata": {
        "id": "Hxa2gYGODpk1"
      },
      "source": [
        "But the above approach is not efficient, we don't want to repeat filling in the attributes individually: both boring and prone to typos. \n",
        "\n",
        "## constructor\n",
        "We actually don't need to. We can use a *constructor* to design the attributes within the class: "
      ]
    },
    {
      "cell_type": "code",
      "execution_count": null,
      "metadata": {
        "id": "ZB3pa9O7Dpk3"
      },
      "outputs": [],
      "source": [
        "class Student: \n",
        "    def __init__(self, fname,lname,ID,date_of_admission):\n",
        "        self.fname = fname\n",
        "        self.lname = lname\n",
        "        self.ID = ID\n",
        "        self.date_of_admission = date_of_admission\n",
        "        \n",
        "    def fullname(self):\n",
        "        print(self.fname,self.lname)\n",
        "    "
      ]
    },
    {
      "cell_type": "markdown",
      "metadata": {
        "id": "esI5TGLbDpk3"
      },
      "source": [
        "In this way, to fill in the objects of a class, we can give it the first name, last name, the ID, and the data of admission in order. "
      ]
    },
    {
      "cell_type": "code",
      "execution_count": null,
      "metadata": {
        "id": "ncpp_FhmDpk4"
      },
      "outputs": [],
      "source": [
        "# let's fill in the same subjects' info \n",
        "S1 = Student(fname=\"Jane\",lname=\"Doe\",ID=111,date_of_admission=\"2019_01_01\")\n",
        "S2 = Student(\"John\",\"Smith\",112,\"2019_01_02\")"
      ]
    },
    {
      "cell_type": "code",
      "execution_count": null,
      "metadata": {
        "id": "TS3JuKHrDpk5",
        "outputId": "0f90b776-7c19-491b-95e3-b072caf5606f",
        "colab": {
          "base_uri": "https://localhost:8080/"
        }
      },
      "outputs": [
        {
          "output_type": "stream",
          "name": "stdout",
          "text": [
            "Jane Doe\n"
          ]
        }
      ],
      "source": [
        "# now the method 'fullname' should give the same info as before:\n",
        "S1.fullname()"
      ]
    },
    {
      "cell_type": "markdown",
      "source": [
        "#### Task: Add a Method `year_of_admission` which returns the year of admission for a student\n",
        "\n"
      ],
      "metadata": {
        "id": "RmfiL0ZwEkPB"
      }
    },
    {
      "cell_type": "code",
      "source": [],
      "metadata": {
        "id": "GteCEdGIGXco"
      },
      "execution_count": null,
      "outputs": []
    },
    {
      "cell_type": "markdown",
      "source": [
        "#### Task: Add a second Method `in_time()` which should return True if the year of admission is less than 2 years ago and otherwise False "
      ],
      "metadata": {
        "id": "8XnyDW5hGXxZ"
      }
    },
    {
      "cell_type": "code",
      "source": [
        "import datetime\n",
        "date = datetime.date.today()\n",
        "date.year"
      ],
      "metadata": {
        "id": "SkmPiCTyFDmY",
        "outputId": "bca822a7-5bbd-40ca-88cf-882b91e4418c",
        "colab": {
          "base_uri": "https://localhost:8080/"
        }
      },
      "execution_count": null,
      "outputs": [
        {
          "output_type": "execute_result",
          "data": {
            "text/plain": [
              "2023"
            ]
          },
          "metadata": {},
          "execution_count": 16
        }
      ]
    }
  ],
  "metadata": {
    "kernelspec": {
      "display_name": "Python 3",
      "language": "python",
      "name": "python3"
    },
    "language_info": {
      "codemirror_mode": {
        "name": "ipython",
        "version": 3
      },
      "file_extension": ".py",
      "mimetype": "text/x-python",
      "name": "python",
      "nbconvert_exporter": "python",
      "pygments_lexer": "ipython3",
      "version": "3.6.5"
    },
    "colab": {
      "provenance": [],
      "include_colab_link": true
    }
  },
  "nbformat": 4,
  "nbformat_minor": 0
}