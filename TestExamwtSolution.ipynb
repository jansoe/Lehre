{
  "nbformat": 4,
  "nbformat_minor": 0,
  "metadata": {
    "colab": {
      "provenance": [],
      "authorship_tag": "ABX9TyNSuOrBKyWAgQoLsGY5bT1a",
      "include_colab_link": true
    },
    "kernelspec": {
      "name": "python3",
      "display_name": "Python 3"
    },
    "language_info": {
      "name": "python"
    }
  },
  "cells": [
    {
      "cell_type": "markdown",
      "metadata": {
        "id": "view-in-github",
        "colab_type": "text"
      },
      "source": [
        "<a href=\"https://colab.research.google.com/github/jansoe/Lehre/blob/main/TestExamwtSolution.ipynb\" target=\"_parent\"><img src=\"https://colab.research.google.com/assets/colab-badge.svg\" alt=\"Open In Colab\"/></a>"
      ]
    },
    {
      "cell_type": "markdown",
      "source": [
        "## Task 1\n",
        "**(3 points, easy)**"
      ],
      "metadata": {
        "id": "064tixvTqx8Y"
      }
    },
    {
      "cell_type": "markdown",
      "source": [
        "The `randint(a,b)` function from the `random` module gives one random number between a and b including both end points  "
      ],
      "metadata": {
        "id": "WKEbCB86hXFp"
      }
    },
    {
      "cell_type": "code",
      "execution_count": 11,
      "metadata": {
        "colab": {
          "base_uri": "https://localhost:8080/"
        },
        "id": "5ttzNftGhVLs",
        "outputId": "d6211b3d-4595-4d17-9a6e-0a2a64803899"
      },
      "outputs": [
        {
          "output_type": "execute_result",
          "data": {
            "text/plain": [
              "5"
            ]
          },
          "metadata": {},
          "execution_count": 11
        }
      ],
      "source": [
        "import random\n",
        "random.randint(0, 10)"
      ]
    },
    {
      "cell_type": "markdown",
      "source": [
        "Write a function `create_random_int_list(max_value, num_entries)` that creates a list of length `num_entries`, such that each value is between 0 and max_value.\n",
        "\n",
        "Example:\n",
        "```\n",
        "create_random_int_list(5, 4)\n",
        "\n",
        "[0, 5, 2, 3]\n",
        "```"
      ],
      "metadata": {
        "id": "LB1DD_iLiJFF"
      }
    },
    {
      "cell_type": "code",
      "source": [
        "def create_random_int_list(max_value, num_entries):\n",
        "    random_number_list = []\n",
        "    for i in range(num_entries):\n",
        "        rand_int = random.randint(0, max_value)\n",
        "        random_number_list.append(rand_int)\n",
        "    return random_number_list\n",
        "\n",
        "create_random_int_list(5, 4)"
      ],
      "metadata": {
        "colab": {
          "base_uri": "https://localhost:8080/"
        },
        "id": "f0tsmmp2hdgp",
        "outputId": "bd187379-a7b9-4ce2-aca7-f4c55ab069c9"
      },
      "execution_count": 15,
      "outputs": [
        {
          "output_type": "execute_result",
          "data": {
            "text/plain": [
              "[3, 4, 2, 2]"
            ]
          },
          "metadata": {},
          "execution_count": 15
        }
      ]
    },
    {
      "cell_type": "markdown",
      "source": [
        "## Task 2\n",
        "**(5 points, medium)**\n",
        "\n",
        "The goal of this task is to create a Python function named `clear_list_of(list_to_clear, multiples_of)`.\n",
        "Your function should return a new list that only contains the elements from `list_to_clear` which are **not** divisible by any number in the `multiples_of set`.\n",
        "\n",
        "Example:\n",
        "```\n",
        "test_list = [4,1,3,21,35,5,7]\n",
        "multiples_of = {2,7}\n",
        "clear_list_of(list_to_clear, multiples_of)\n",
        "\n",
        "[1,3,5]\n",
        "```"
      ],
      "metadata": {
        "id": "7fdZtDSNoGTV"
      }
    },
    {
      "cell_type": "code",
      "source": [
        "def clear_list_of(list_to_clear, remove_multiples_of):\n",
        "    list_without_multiples = []\n",
        "    for element in list_to_clear:\n",
        "        remove_element = False\n",
        "        for multiple in remove_multiples_of:\n",
        "            if element % multiple == 0:\n",
        "                remove_element = True\n",
        "        if not(remove_element):\n",
        "            list_without_multiples.append(element)\n",
        "    return list_without_multiples"
      ],
      "metadata": {
        "id": "jCtiHaV1iQoo"
      },
      "execution_count": 18,
      "outputs": []
    },
    {
      "cell_type": "code",
      "source": [
        "test_list = [4,2,3,21,5,27,11]\n",
        "multiples_of = {2,7}\n",
        "clear_list_of(test_list, multiples_of)"
      ],
      "metadata": {
        "colab": {
          "base_uri": "https://localhost:8080/"
        },
        "id": "_pPLML9KiW3I",
        "outputId": "335919c5-89c3-4c80-d8aa-99f366275f2f"
      },
      "execution_count": 19,
      "outputs": [
        {
          "output_type": "execute_result",
          "data": {
            "text/plain": [
              "[3, 5, 27, 11]"
            ]
          },
          "metadata": {},
          "execution_count": 19
        }
      ]
    },
    {
      "cell_type": "markdown",
      "source": [
        "### Task 3\n",
        "**(2 points, easy)**\n",
        "\n",
        "You are given a numpy array x. Write some code that removes all elements from the array which are not divisible by 2. Do not write a loop but use effective numpy computation.\n",
        "\n",
        "Examples:\n",
        "```\n",
        "x = np.arange(0,20,3)\n",
        "\n",
        "For this x your code should give:\n",
        "array([0, 6, 12, 18])\n",
        "```"
      ],
      "metadata": {
        "id": "K7XGR69M43xv"
      }
    },
    {
      "cell_type": "code",
      "source": [
        "x = np.arange(0,20,3)"
      ],
      "metadata": {
        "id": "SgPzKHa-5Ttr"
      },
      "execution_count": 20,
      "outputs": []
    },
    {
      "cell_type": "code",
      "source": [
        "x[x%2==0]"
      ],
      "metadata": {
        "colab": {
          "base_uri": "https://localhost:8080/"
        },
        "id": "PREoS_Yo5Twj",
        "outputId": "e0e67abf-2ef5-4e90-b2d1-2d10c5426ee9"
      },
      "execution_count": 22,
      "outputs": [
        {
          "output_type": "execute_result",
          "data": {
            "text/plain": [
              "array([ 0,  6, 12, 18])"
            ]
          },
          "metadata": {},
          "execution_count": 22
        }
      ]
    },
    {
      "cell_type": "markdown",
      "source": [
        "### Task 4\n",
        "**(5 points, medium)**\n",
        "\n",
        "Now rewrite the function using effective computation in numpy. To this end you are not provided with a `list_to_clear`, but with a numpy `array_to_clear`:\n",
        "\n",
        "Example:\n",
        "```\n",
        "test_array = np.array([4,1,3,21,35,5,7])\n",
        "multiples_of = {2,7}\n",
        "clear_array_of(array_to_clear, multiples_of)\n",
        "\n",
        "array([1,3,5])\n",
        "```\n",
        "\n",
        "Implement your solution without writing a loop, but instead create a boolean `mask` that selects all elements from the original array which are not divisible by the `multiples_of`.\n",
        "\n",
        "Hint: Create a seperate mask for each element in `multiples_of` and than combine this mask to the final one"
      ],
      "metadata": {
        "id": "nOCbY8VnxgO_"
      }
    },
    {
      "cell_type": "code",
      "source": [
        "import numpy as np\n",
        "\n",
        "def clear_array_of(array_to_clear, remove_multiples_of):\n",
        "    mask = np.ones_like(array_to_clear).astype('bool')\n",
        "    for multiple in remove_multiples_of:\n",
        "        not_divisible = (array_to_clear % multiple) != 0\n",
        "        mask = mask & not_divisible\n",
        "    return array_to_clear[mask]"
      ],
      "metadata": {
        "id": "AxJDrSJ3yqdV"
      },
      "execution_count": 25,
      "outputs": []
    },
    {
      "cell_type": "code",
      "source": [
        "test_array = np.array([4,1,3,21,35,5,7])\n",
        "multiples_of = {2,7}\n",
        "clear_array_of(test_array, multiples_of)"
      ],
      "metadata": {
        "colab": {
          "base_uri": "https://localhost:8080/"
        },
        "id": "N0XrBMwMyy8j",
        "outputId": "92066cde-5d41-4996-db6f-3864ab16f658"
      },
      "execution_count": 26,
      "outputs": [
        {
          "output_type": "execute_result",
          "data": {
            "text/plain": [
              "array([1, 3, 5])"
            ]
          },
          "metadata": {},
          "execution_count": 26
        }
      ]
    },
    {
      "cell_type": "markdown",
      "source": [
        "## Task 5\n",
        "**(7 points, medium)**\n",
        "\n",
        "You are provided with a function `first_last_letter(word)` that returns a tuple with the first and last letter from the word."
      ],
      "metadata": {
        "id": "_9VbWYTpq5lo"
      }
    },
    {
      "cell_type": "code",
      "source": [
        "def first_last_letter(word):\n",
        "    word = word.strip()\n",
        "    first = word[0]\n",
        "    last = word[-1]\n",
        "    return first, last"
      ],
      "metadata": {
        "id": "VP1o-ed4pji0"
      },
      "execution_count": 27,
      "outputs": []
    },
    {
      "cell_type": "markdown",
      "source": [
        "You are also provided with some code that iterates through a text and word by word (removing punctuation and converting it to lower case). For demonstration purposes, each word is printed:"
      ],
      "metadata": {
        "id": "rML8Hz3mswH3"
      }
    },
    {
      "cell_type": "code",
      "source": [
        "text = \"This is just (some) text to test.\"\n",
        "\n",
        "import re\n",
        "for word in text.split():\n",
        "    cleaned_word = re.sub(r'[^\\w\\s]', '', word).lower()\n",
        "    print(cleaned_word)"
      ],
      "metadata": {
        "colab": {
          "base_uri": "https://localhost:8080/"
        },
        "id": "UY5hq5ZWu09j",
        "outputId": "d5dcf849-4bef-4759-b6ed-fa114f42565a"
      },
      "execution_count": 28,
      "outputs": [
        {
          "output_type": "stream",
          "name": "stdout",
          "text": [
            "this\n",
            "is\n",
            "just\n",
            "some\n",
            "text\n",
            "to\n",
            "test\n"
          ]
        }
      ]
    },
    {
      "cell_type": "markdown",
      "source": [
        "Complete the function `start_end_occurence_difference(text)` that returns a dictionary which contains for each letter the difference in times of occurences at the beginning and at the end of the word of a letter. That is, in the example text, the letter `t` appears 4 times at the beginning and 3 times at the end of a word, so the value for `t` should be 1 as it appears once more often at the beginning.\n",
        "\n",
        "Make use of the `first_last_letter` function!\n",
        "\n",
        "Example:\n",
        "```\n",
        "start_end_occurence_difference(text)\n",
        "\n",
        "{'t': 1, 's': -1, 'i': 1, 'j': 1, 'e': -1, 'o': -1}\n",
        "```"
      ],
      "metadata": {
        "id": "wCWV4ooQ0gIy"
      }
    },
    {
      "cell_type": "code",
      "source": [
        "def start_end_occurence_difference(text):\n",
        "    diff_counter = {}\n",
        "    for word in text.split():\n",
        "        cleaned_word = re.sub(r'[^\\w\\s]', '', word).lower()\n",
        "        start, end = first_last_letter(cleaned_word)\n",
        "        if start not in diff_counter:\n",
        "            diff_counter[start] = 0\n",
        "        if end not in diff_counter:\n",
        "            diff_counter[end] = 0\n",
        "        diff_counter[start] += 1\n",
        "        diff_counter[end] -= 1\n",
        "    return diff_counter"
      ],
      "metadata": {
        "id": "cJEZukc_2iQC"
      },
      "execution_count": 29,
      "outputs": []
    },
    {
      "cell_type": "code",
      "source": [
        "start_end_occurence_difference(text)"
      ],
      "metadata": {
        "colab": {
          "base_uri": "https://localhost:8080/"
        },
        "id": "kPGK_5rV1IKp",
        "outputId": "b48b4856-d626-4a15-948f-ce6126322362"
      },
      "execution_count": 30,
      "outputs": [
        {
          "output_type": "execute_result",
          "data": {
            "text/plain": [
              "{'t': 1, 's': -1, 'i': 1, 'j': 1, 'e': -1, 'o': -1}"
            ]
          },
          "metadata": {},
          "execution_count": 30
        }
      ]
    },
    {
      "cell_type": "markdown",
      "source": [
        "## Task 6\n",
        "**(15 points, easy)**\n",
        "\n",
        "In this task, you will create a basic shopping system using Object-Oriented Programming (OOP) in Python. You need to create two classes: Product and ShoppingCart.\n",
        "\n",
        "- **Product class**:\n",
        "\n",
        "  - Attributes:\n",
        "    - `name` (string)\n",
        "    - `price` (float)\n",
        "    - `quantity` (integer)\n",
        "\n",
        "  - Methods:\n",
        "    - `__init__(self, name, price, quantity)`: Initialize a new product.\n",
        "    - `is_available(self, quantity)`: Check if at least the quantity of  product is available. If so, return `True`. Otherwise, return `False`.\n",
        "\n",
        "- **ShoppingCart class**:\n",
        "\n",
        "  - Attributes:\n",
        "    - `products` (dictionary mapping Product instances to quantities).\n",
        "\n",
        "  - Methods:\n",
        "    - `__init__(self`): Initialize an empty shopping cart.\n",
        "    - `add_product(self, product, quantity)`: Add a certain quantity of a product to the cart. If the product isn't available in the necessary quantity, print \"Not enough {product.name} in stock.\"\n",
        "    - `remove_product(self, product)`: Remove a product from the cart.\n",
        "    - `checkout(self)`: Print out a list of all products in the cart along with their quantities, and the total cost. After printing, clear the cart.\n",
        "\n",
        "Example:\n",
        "```\n",
        "apple = Product(\"Apple\", 0.5, 10)\n",
        "banana = Product(\"Banana\", 0.3, 5)\n",
        "\n",
        "cart = ShoppingCart()\n",
        "cart.add_product(apple, 5)  # Adds 5 apples to the cart\n",
        "cart.add_product(banana, 10)  # Prints \"Not enough Banana in stock.\"\n",
        "cart.add_product(banana, 4)  # Adds 4 bananas to the cart\n",
        "\n",
        "cart.checkout()  \n",
        "# Should print:\n",
        "# Apple x5\n",
        "# Banana x4\n",
        "# Total cost: $4.7\n",
        "# And clear the cart.\n",
        "```"
      ],
      "metadata": {
        "id": "VdURFlPz1k2A"
      }
    },
    {
      "cell_type": "code",
      "source": [
        "class Product:\n",
        "\n",
        "    def __init__(self, name, price, quantity):\n",
        "        self.name = name\n",
        "        self.price = price\n",
        "        self.quantity = quantity\n",
        "\n",
        "    def is_available(self, quantity):\n",
        "        return quantity <= self.quantity\n",
        "\n",
        "\n",
        "class ShoppingCart:\n",
        "\n",
        "    def __init__(self):\n",
        "        self.products = {}\n",
        "\n",
        "    def add_product(self, product, quantity):\n",
        "        if product.is_available(quantity):\n",
        "            if product not in self.products:\n",
        "                self.products[product] = 0\n",
        "            self.products[product] += quantity\n",
        "        else:\n",
        "            print(f\"Not enough {product.name} in stock\")\n",
        "\n",
        "    def checkout(self):\n",
        "        total = 0\n",
        "        for product in self.products:\n",
        "          quantity = self.products[product]\n",
        "          print(product.name + ' x' + str(quantity))\n",
        "          total += quantity * product.price\n",
        "        print(\"Total cost: \" + str(total) + \"$\")"
      ],
      "metadata": {
        "id": "FDYF0Ize3g9i"
      },
      "execution_count": 49,
      "outputs": []
    },
    {
      "cell_type": "code",
      "source": [],
      "metadata": {
        "id": "3r5_vdQJ1Xc8"
      },
      "execution_count": 46,
      "outputs": []
    },
    {
      "cell_type": "code",
      "source": [
        "apple = Product(\"Apple\", 0.5, 10)\n",
        "banana = Product(\"Banana\", 0.3, 5)\n",
        "\n",
        "cart = ShoppingCart()\n",
        "cart.add_product(apple, 5)  # Adds 5 apples to the cart\n",
        "cart.add_product(banana, 10)  # Prints \"Not enough Banana in stock.\"\n",
        "cart.add_product(banana, 4)  # Adds 4 bananas to the cart\n",
        "\n",
        "cart.checkout()\n",
        "# Should print:\n",
        "# Apple x5\n",
        "# Banana x4\n",
        "# Total cost: $3.7\n",
        "# And clear the cart."
      ],
      "metadata": {
        "colab": {
          "base_uri": "https://localhost:8080/"
        },
        "id": "Hvjf8HH81Iw5",
        "outputId": "fb5855f9-43e6-4ef6-bdda-97a682923752"
      },
      "execution_count": 48,
      "outputs": [
        {
          "output_type": "stream",
          "name": "stdout",
          "text": [
            "Not enough Banana in stock\n",
            "Apple x5\n",
            "Banana x4\n",
            "Total cost: 3.7$\n"
          ]
        }
      ]
    },
    {
      "cell_type": "markdown",
      "source": [
        "## Task 7\n",
        "**(5 points, easy)**\n",
        "\n",
        "In this task, you will extend the shopping system you created earlier by adding a new class DiscountedProduct that inherits from the Product class. This class represents a product that is currently being sold at a discount.\n",
        "\n",
        "Here are the details:\n",
        "\n",
        "- DiscountedProduct class:\n",
        "\n",
        "  - Attributes: Inherits name, price, and quantity from Product. Adds discount (float, representing the discount as a percentage. For example, a 20% discount would be represented as 0.2).\n",
        "\n",
        "  - Methods:\n",
        "    - `__init__(self, name, price, quantity, discount):` Initialize a new discounted product.\n",
        "    - `get_discounted_price(self)`: Return the price of the product after the discount has been applied."
      ],
      "metadata": {
        "id": "_qQZ-kop3hX3"
      }
    },
    {
      "cell_type": "code",
      "source": [
        "class DiscountedProduct(Product):\n",
        "\n",
        "    def __init__(self, name, price, quantity, discount):\n",
        "        super().__init__(name, price, quantity)\n",
        "        self.discount = discount\n",
        "\n",
        "    def get_discounted_price(self):\n",
        "        return self.price * (1-self.discount)"
      ],
      "metadata": {
        "id": "gloqeuXX5KjU"
      },
      "execution_count": 57,
      "outputs": []
    },
    {
      "cell_type": "code",
      "source": [
        "banana = DiscountedProduct(\"Banana\", 0.3, 5, 0.2)"
      ],
      "metadata": {
        "id": "Ak4W8FXBE621"
      },
      "execution_count": 59,
      "outputs": []
    },
    {
      "cell_type": "markdown",
      "source": [
        "## Task 8\n",
        "**(8 points, medium-difficult)**\n",
        "\n",
        "You are provided with the MNIST handwritten digit dataset and a simple untrained neural network.\n",
        "\n"
      ],
      "metadata": {
        "id": "A56rpoRe6VZm"
      }
    },
    {
      "cell_type": "code",
      "source": [
        "import tensorflow as tf\n",
        "import numpy as np\n",
        "\n",
        "(train_images, train_labels), (test_images, test_labels) = tf.keras.datasets.mnist.load_data()\n",
        "train_images_flat = train_images.reshape((-1, 28*28))\n",
        "\n",
        "print(train_images.shape)\n",
        "print(train_images_flat.shape)"
      ],
      "metadata": {
        "colab": {
          "base_uri": "https://localhost:8080/"
        },
        "id": "9LtaYp3s6eAi",
        "outputId": "6f5a14eb-8bff-4d7b-da4b-4d7e75a34445"
      },
      "execution_count": 60,
      "outputs": [
        {
          "output_type": "stream",
          "name": "stdout",
          "text": [
            "Downloading data from https://storage.googleapis.com/tensorflow/tf-keras-datasets/mnist.npz\n",
            "11490434/11490434 [==============================] - 0s 0us/step\n",
            "(60000, 28, 28)\n",
            "(60000, 784)\n"
          ]
        }
      ]
    },
    {
      "cell_type": "code",
      "source": [
        "out_layer = tf.keras.layers.Dense(\n",
        "    input_shape = (28*28,),\n",
        "    units = 10,\n",
        "    activation='softmax',\n",
        "    name = 'one_layer'\n",
        ")\n",
        "\n",
        "model1 = tf.keras.models.Sequential()\n",
        "model1.add(out_layer)\n",
        "\n",
        "tf.keras.utils.plot_model(model1, show_shapes=True)"
      ],
      "metadata": {
        "colab": {
          "base_uri": "https://localhost:8080/",
          "height": 201
        },
        "id": "EaDvf_tp72R7",
        "outputId": "1445e34b-e5b2-477e-e3b1-71daa545dda9"
      },
      "execution_count": 61,
      "outputs": [
        {
          "output_type": "execute_result",
          "data": {
            "image/png": "[encoded data removed]",
            "text/plain": [
              "<IPython.core.display.Image object>"
            ]
          },
          "metadata": {},
          "execution_count": 61
        }
      ]
    },
    {
      "cell_type": "markdown",
      "source": [
        "#### Actual Task\n",
        "- Use the `predict`-method of the model to predict the outputs for the first 20 images from the training data.\n",
        "- Use the function `np.argmax(array, axis)` that returns the index of the maximal value along the axis to find the output-neuron with the highest activity for each of the 20 images\n",
        "- Now compare the predictions to the train_labels and calculate the fraction of correct predictions (accuracy)"
      ],
      "metadata": {
        "id": "fINME3Y09zl6"
      }
    },
    {
      "cell_type": "code",
      "source": [
        "prob = model1.predict(train_images_flat[:20])"
      ],
      "metadata": {
        "colab": {
          "base_uri": "https://localhost:8080/"
        },
        "id": "GsnHjAQ28hCd",
        "outputId": "74d96673-ef36-4a7e-f5d8-175f82a41f58"
      },
      "execution_count": 62,
      "outputs": [
        {
          "output_type": "stream",
          "name": "stdout",
          "text": [
            "1/1 [==============================] - 0s 294ms/step\n"
          ]
        }
      ]
    },
    {
      "cell_type": "code",
      "source": [
        "pred = np.argmax(prob, 1)"
      ],
      "metadata": {
        "id": "pH8h9vK389VU"
      },
      "execution_count": 63,
      "outputs": []
    },
    {
      "cell_type": "code",
      "source": [
        "(pred == train_labels[:20]).mean()"
      ],
      "metadata": {
        "colab": {
          "base_uri": "https://localhost:8080/"
        },
        "id": "FD2ciS6S-DdA",
        "outputId": "d7b50292-2400-4ec5-b2a0-033ce39b8036"
      },
      "execution_count": 64,
      "outputs": [
        {
          "output_type": "execute_result",
          "data": {
            "text/plain": [
              "0.25"
            ]
          },
          "metadata": {},
          "execution_count": 64
        }
      ]
    }
  ]
}