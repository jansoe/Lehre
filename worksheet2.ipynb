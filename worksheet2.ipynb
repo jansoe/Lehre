{
  "nbformat": 4,
  "nbformat_minor": 0,
  "metadata": {
    "colab": {
      "provenance": [],
      "authorship_tag": "ABX9TyP6clbiZXd5wBwyE8+QWYi0",
      "include_colab_link": true
    },
    "kernelspec": {
      "name": "python3",
      "display_name": "Python 3"
    },
    "language_info": {
      "name": "python"
    }
  },
  "cells": [
    {
      "cell_type": "markdown",
      "metadata": {
        "id": "view-in-github",
        "colab_type": "text"
      },
      "source": [
        "<a href=\"https://colab.research.google.com/github/jansoe/Lehre/blob/main/worksheet2.ipynb\" target=\"_parent\"><img src=\"https://colab.research.google.com/assets/colab-badge.svg\" alt=\"Open In Colab\"/></a>"
      ]
    },
    {
      "cell_type": "markdown",
      "source": [
        "### Task 1\n",
        "\n",
        "Write a function that takes as input a list of integers and returns the mean, min and max value of the numbers. Do **not** use buildin functions like `sum`, `max` and `min` \n"
      ],
      "metadata": {
        "id": "N2gwBsYvv-Gk"
      }
    },
    {
      "cell_type": "code",
      "execution_count": 1,
      "metadata": {
        "id": "zKXMl1iGv5eL"
      },
      "outputs": [],
      "source": [
        "def stats(x : list[int]) -> tuple[float, int, int]:\n",
        "    pass"
      ]
    },
    {
      "cell_type": "code",
      "source": [
        "mylist = [3,6,2,3,7,4,6,7,8]\n",
        "stats(mylist)"
      ],
      "metadata": {
        "id": "pI9XXnwix36I"
      },
      "execution_count": 2,
      "outputs": []
    },
    {
      "cell_type": "markdown",
      "source": [
        "Now, use the result of your `stats` function to calculate the difference between the smallest und largets value in the list"
      ],
      "metadata": {
        "id": "r7WrQIJfxya7"
      }
    },
    {
      "cell_type": "code",
      "source": [],
      "metadata": {
        "id": "tj5h1sQOxrPW"
      },
      "execution_count": 2,
      "outputs": []
    },
    {
      "cell_type": "markdown",
      "source": [
        "### Task 2\n",
        "\n",
        "The following Code splits a text into words (at whitespaces), removes all punctuation and converts all words to lowercase:"
      ],
      "metadata": {
        "id": "DpDJuuY0xpP8"
      }
    },
    {
      "cell_type": "code",
      "source": [
        "test_text = \"\"\"This is some text. It shall be only used for testing. And does not make any sense.\"\"\"\n",
        "\n",
        "for word in test_text.split():\n",
        "    clean_word = word.strip(\".?!:;\").lower()\n",
        "    print(clean_word, end='|') "
      ],
      "metadata": {
        "colab": {
          "base_uri": "https://localhost:8080/"
        },
        "id": "4XYdPSaKxJ76",
        "outputId": "16e399dc-69e5-45a8-b991-83cedcb89c2b"
      },
      "execution_count": 3,
      "outputs": [
        {
          "output_type": "stream",
          "name": "stdout",
          "text": [
            "this|is|some|text|it|shall|be|only|used|for|testing|and|does|not|make|any|sense|"
          ]
        }
      ]
    },
    {
      "cell_type": "markdown",
      "source": [
        "Use this snippet to write some code that counts how often each word is contained in a string (using a dictionary)"
      ],
      "metadata": {
        "id": "hO0OIb4oxS-u"
      }
    },
    {
      "cell_type": "code",
      "source": [],
      "metadata": {
        "id": "M17uspjbxLor"
      },
      "execution_count": 3,
      "outputs": []
    },
    {
      "cell_type": "markdown",
      "source": [
        "### Task 3"
      ],
      "metadata": {
        "id": "On4KGBb_3Od0"
      }
    },
    {
      "cell_type": "markdown",
      "source": [
        "For Dictionaries you can generate different iterators with the methods `keys()`, `values()` and `items()`. Those iterators provide you the possibility to obtain all entries in the dictionary of either keys, values or key-value pairs "
      ],
      "metadata": {
        "id": "zfrGbmZn1xu_"
      }
    },
    {
      "cell_type": "code",
      "source": [
        "mydict = {'a': 3, 'b': 5, 'c': 6}\n",
        "\n",
        "print('keys  ', end=': ')\n",
        "for k in mydict.keys():\n",
        "    print(k, end=' | ')\n",
        "\n",
        "print('\\nvalues', end=': ')\n",
        "for k in mydict.values():\n",
        "    print(k, end=' | ')\n",
        "\n",
        "print('\\nitems ', end=': ')\n",
        "for k in mydict.items():\n",
        "    print(k, end=' | ')"
      ],
      "metadata": {
        "colab": {
          "base_uri": "https://localhost:8080/"
        },
        "id": "D_MylblS1f2t",
        "outputId": "af26974f-ef92-45ac-9c7b-dbf076e9351c"
      },
      "execution_count": 4,
      "outputs": [
        {
          "output_type": "stream",
          "name": "stdout",
          "text": [
            "keys  : a | b | c | \n",
            "values: 3 | 5 | 6 | \n",
            "items : ('a', 3) | ('b', 5) | ('c', 6) | "
          ]
        }
      ]
    },
    {
      "cell_type": "markdown",
      "source": [
        "Use such an iterator to find the the word with the most occurences in your dictionary."
      ],
      "metadata": {
        "id": "yzMYqO8n3Uag"
      }
    },
    {
      "cell_type": "code",
      "source": [],
      "metadata": {
        "id": "RLGHxgPy2fn-"
      },
      "execution_count": 4,
      "outputs": []
    },
    {
      "cell_type": "markdown",
      "source": [
        "### Task 4"
      ],
      "metadata": {
        "id": "aGMULsVZ4AIl"
      }
    },
    {
      "cell_type": "markdown",
      "source": [
        "The following iterator generates all unique triple combinations for small latin letters, e.g. (`aaa`, `aab`, ...)"
      ],
      "metadata": {
        "id": "kZkygR7as-Gp"
      }
    },
    {
      "cell_type": "code",
      "source": [
        "import itertools, string\n",
        "\n",
        "codeword_generator = (''.join(letters) for letters in itertools.combinations_with_replacement(string.ascii_lowercase, 3))\n",
        "next(codeword_generator)"
      ],
      "metadata": {
        "colab": {
          "base_uri": "https://localhost:8080/",
          "height": 35
        },
        "id": "hInXLdjEswJE",
        "outputId": "07793b8e-9f3f-46b0-f10f-c7de63ec6e42"
      },
      "execution_count": 5,
      "outputs": [
        {
          "output_type": "execute_result",
          "data": {
            "text/plain": [
              "'aaa'"
            ],
            "application/vnd.google.colaboratory.intrinsic+json": {
              "type": "string"
            }
          },
          "metadata": {},
          "execution_count": 5
        }
      ]
    },
    {
      "cell_type": "markdown",
      "source": [
        "Write a for loop that counts how many different combinations exists"
      ],
      "metadata": {
        "id": "V63yKOK0te5d"
      }
    },
    {
      "cell_type": "code",
      "source": [],
      "metadata": {
        "id": "Bi2qbHOMtdJi"
      },
      "execution_count": 5,
      "outputs": []
    },
    {
      "cell_type": "markdown",
      "source": [
        "### Task 5\n",
        "\n",
        "The following functions replaces words in a string wihth 3-letter codes: "
      ],
      "metadata": {
        "id": "XbaEPuDcuI6t"
      }
    },
    {
      "cell_type": "code",
      "source": [
        "def encode_string(input_text : str) -> tuple[str, dict[str:str]]:\n",
        "    codebook = {}\n",
        "    decodebook = {}\n",
        "    encoded_text = ''\n",
        "    codeword_generator = (\n",
        "        ''.join(letters) for letters in \n",
        "          itertools.combinations_with_replacement(string.ascii_lowercase, 3)\n",
        "    )\n",
        "\n",
        "    for word in input_text.split(\" \"):\n",
        "        if word in codebook:\n",
        "            code = codebook[word]\n",
        "        else:\n",
        "            code = next(codeword_generator)\n",
        "            codebook[word] = code\n",
        "            decodebook[code] = word\n",
        "        encoded_text = ' '.join([encoded_text,  code])\n",
        "\n",
        "    return encoded_text, decodebook"
      ],
      "metadata": {
        "id": "UGMxUkLR3_CK"
      },
      "execution_count": 6,
      "outputs": []
    },
    {
      "cell_type": "code",
      "source": [
        "test_text = \"\"\"\\\n",
        "The text contains words and without sense. You can use it for your tests. \n",
        "It is just some text. But it could be other text as well. \n",
        "I do not know what to write. You can write something if you like ...\n",
        "\"\"\" "
      ],
      "metadata": {
        "id": "Hr70p4HTpKlU"
      },
      "execution_count": 7,
      "outputs": []
    },
    {
      "cell_type": "code",
      "source": [
        "encoded_string, decode_book = encode_string(test_text)"
      ],
      "metadata": {
        "id": "MhljXr3T6H-P"
      },
      "execution_count": 8,
      "outputs": []
    },
    {
      "cell_type": "code",
      "source": [
        "encoded_string"
      ],
      "metadata": {
        "colab": {
          "base_uri": "https://localhost:8080/",
          "height": 35
        },
        "id": "aQEsiBzAsjRP",
        "outputId": "086a1bbb-e5be-4d5c-821b-57d792a7cc31"
      },
      "execution_count": 9,
      "outputs": [
        {
          "output_type": "execute_result",
          "data": {
            "text/plain": [
              "' aaa aab aac aad aae aaf aag aah aai aaj aak aal aam aan aao aap aaq aar aas aat aak aau aav aaw aab aax aay aaz abb abc abd abe abf abg aah aai abh abi abj abk abl abm'"
            ],
            "application/vnd.google.colaboratory.intrinsic+json": {
              "type": "string"
            }
          },
          "metadata": {},
          "execution_count": 9
        }
      ]
    },
    {
      "cell_type": "markdown",
      "source": [
        "Use the `decode_book` to decode the `encoded_string` and recover the original string. "
      ],
      "metadata": {
        "id": "iTiCu3yE76Ci"
      }
    },
    {
      "cell_type": "code",
      "source": [],
      "metadata": {
        "id": "tM2jmRrB7ICu"
      },
      "execution_count": 9,
      "outputs": []
    },
    {
      "cell_type": "markdown",
      "source": [
        "### Task 6\n",
        "\n",
        "Complete the warehouse example from the lecture"
      ],
      "metadata": {
        "id": "WnZFiDCI824b"
      }
    },
    {
      "cell_type": "code",
      "source": [
        "import random\n",
        "\n",
        "def random_letter() -> str:\n",
        "    return random.choice(string.ascii_letters)"
      ],
      "metadata": {
        "id": "cQhVHuQmmvsv"
      },
      "execution_count": 10,
      "outputs": []
    },
    {
      "cell_type": "code",
      "source": [
        "def random_product_amount() -> tuple[str, int]:\n",
        "    product_name = random_letter()\n",
        "    quantity = random.randint(1, 4)\n",
        "    return product_name, quantity"
      ],
      "metadata": {
        "id": "yU34Ch5ImdMX"
      },
      "execution_count": 11,
      "outputs": []
    },
    {
      "cell_type": "code",
      "source": [
        "prod, qt  = random_product_amount()"
      ],
      "metadata": {
        "id": "3QFXghCDFV1l"
      },
      "execution_count": 12,
      "outputs": []
    },
    {
      "cell_type": "markdown",
      "source": [
        "Write a short script that simulates a warehouse that can store a total quantity of 200 products. \n",
        "* Execute 100 deliveries\n",
        "* Than for further 100 iteration do\n",
        "  * either another delivery with 50% probability\n",
        "  * or perform a request to withdraw a random quantity of a random product\n",
        "    * decrease the amount of the product in the warehouse, but never go below 0\n",
        "    * print out the request and how much of it could be fullfilled "
      ],
      "metadata": {
        "id": "yH6SFkcfpHkk"
      }
    },
    {
      "cell_type": "code",
      "source": [
        "warehouse = {}\n",
        "used_capacity = 0\n",
        "\n",
        "\n",
        "# Part1: Execute 100 deliveries\n",
        "for ix in range(100):\n",
        "    # random delivery\n",
        "    prod, qt  = random_product_amount()\n",
        "\n",
        "    remaining_capacity = 200 - used_capacity\n",
        "    if remaining_capacity > qt:\n",
        "        if prod not in warehouse:\n",
        "            warehouse[prod] = 0\n",
        "        warehouse[prod] += qt\n",
        "        used_capacity += qt\n",
        "    else:\n",
        "        print('Delivery not possible', prod, qt)\n",
        "\n",
        "\n",
        "# Part2"
      ],
      "metadata": {
        "colab": {
          "base_uri": "https://localhost:8080/"
        },
        "id": "rNxHLsqH2nD1",
        "outputId": "45b0ce5f-48a3-4b2c-e926-9b11540658ea"
      },
      "execution_count": 13,
      "outputs": [
        {
          "output_type": "stream",
          "name": "stdout",
          "text": [
            "Delivery not possible A 4\n",
            "Delivery not possible C 2\n",
            "Delivery not possible m 4\n",
            "Delivery not possible B 1\n",
            "Delivery not possible a 4\n",
            "Delivery not possible C 2\n",
            "Delivery not possible v 1\n",
            "Delivery not possible m 1\n",
            "Delivery not possible n 3\n",
            "Delivery not possible w 1\n",
            "Delivery not possible u 4\n",
            "Delivery not possible t 4\n",
            "Delivery not possible U 1\n",
            "Delivery not possible U 3\n",
            "Delivery not possible G 2\n",
            "Delivery not possible G 1\n",
            "Delivery not possible Y 4\n",
            "Delivery not possible E 2\n",
            "Delivery not possible i 3\n",
            "Delivery not possible t 2\n",
            "Delivery not possible j 3\n"
          ]
        }
      ]
    },
    {
      "cell_type": "code",
      "source": [],
      "metadata": {
        "id": "lIAZJumK9GHT"
      },
      "execution_count": 13,
      "outputs": []
    }
  ]
}