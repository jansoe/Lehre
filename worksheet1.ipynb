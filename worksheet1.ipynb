{
  "nbformat": 4,
  "nbformat_minor": 0,
  "metadata": {
    "colab": {
      "provenance": [],
      "authorship_tag": "ABX9TyPq3zY1ehIhmTMDOBVx/48Q",
      "include_colab_link": true
    },
    "kernelspec": {
      "name": "python3",
      "display_name": "Python 3"
    },
    "language_info": {
      "name": "python"
    }
  },
  "cells": [
    {
      "cell_type": "markdown",
      "metadata": {
        "id": "view-in-github",
        "colab_type": "text"
      },
      "source": [
        "<a href=\"https://colab.research.google.com/github/jansoe/Lehre/blob/main/worksheet1.ipynb\" target=\"_parent\"><img src=\"https://colab.research.google.com/assets/colab-badge.svg\" alt=\"Open In Colab\"/></a>"
      ]
    },
    {
      "cell_type": "markdown",
      "source": [
        "## Worksheet 1: Getting familiar with Python\n",
        "\n",
        "\n",
        "The `in` function lets you check if some object is contained in a sequence "
      ],
      "metadata": {
        "id": "AvumRZ5fpoSV"
      }
    },
    {
      "cell_type": "code",
      "source": [
        "vowels = 'aeiou'\n",
        "print('a' in vowels)\n",
        "print('b' in vowels)"
      ],
      "metadata": {
        "colab": {
          "base_uri": "https://localhost:8080/"
        },
        "id": "23hSxN4clz_0",
        "outputId": "ae5e7d73-15f9-439b-ce0b-ade804f8914b"
      },
      "execution_count": null,
      "outputs": [
        {
          "output_type": "stream",
          "name": "stdout",
          "text": [
            "True\n",
            "False\n"
          ]
        }
      ]
    },
    {
      "cell_type": "markdown",
      "source": [
        "For this worksheet the following `test_string` is provided"
      ],
      "metadata": {
        "id": "d_oypuOup1li"
      }
    },
    {
      "cell_type": "code",
      "execution_count": null,
      "metadata": {
        "id": "HLHj-jjTjfyu"
      },
      "outputs": [],
      "source": [
        "test_string = \"\"\"\\\n",
        "This is just some text to test our function. You could use any other text here. \n",
        "But for now it should be this text.\n",
        "\"\"\""
      ]
    },
    {
      "cell_type": "markdown",
      "source": [
        "### Task1\n",
        "Complete the following code to count how many vowels are contained in the `test_string`"
      ],
      "metadata": {
        "id": "ArNsVyiEp-q3"
      }
    },
    {
      "cell_type": "code",
      "source": [
        "all_vowel_count = 0\n",
        "for letter in test_string:\n",
        "    pass \n",
        "    # delete the pass statement and add code that increases all_vowel_count \n",
        "    # evertime a letter in the test_string is a vowel"
      ],
      "metadata": {
        "colab": {
          "base_uri": "https://localhost:8080/"
        },
        "id": "rgKlF8jKk97F",
        "outputId": "280df1b8-4ad4-4089-95f1-195074403afd"
      },
      "execution_count": null,
      "outputs": [
        {
          "output_type": "stream",
          "name": "stdout",
          "text": [
            "T h i s   i s   j u s t   s o m e   t e x t   t o   t e s t   o u r   f u n c t i o n .   Y o u   c o u l d   u s e   a n y   o t h e r   t e x t   h e r e .   \n",
            " B u t   f o r   n o w   i t   s h o u l d   b e   t h i s   t e x t . \n",
            " "
          ]
        }
      ]
    },
    {
      "cell_type": "markdown",
      "source": [
        "###Task 2 \n",
        "Write now a function that takes 2 string inputs: An `input_string` and a `letters` string. The function shall now compute how often any of the letters appears in the `input_string` and than return the final `letter_count` value"
      ],
      "metadata": {
        "id": "bkY9gW-eqUGb"
      }
    },
    {
      "cell_type": "code",
      "source": [
        "def count_letters(input_string: str, letters: str) -> int:\n",
        "    letter_count = 0\n",
        "    # add code that increases letter_count \n",
        "    # evertime a letter in the test_string is in the letters\n",
        "    return letter_count   "
      ],
      "metadata": {
        "id": "nrhaA8zlnaxB"
      },
      "execution_count": null,
      "outputs": []
    },
    {
      "cell_type": "markdown",
      "source": [
        "You can test your code with the following function call:"
      ],
      "metadata": {
        "id": "2Ar9pWzWrEKL"
      }
    },
    {
      "cell_type": "code",
      "source": [
        "count_letters(test_string, 'ij')"
      ],
      "metadata": {
        "id": "VboIfaVmncbR"
      },
      "execution_count": null,
      "outputs": []
    },
    {
      "cell_type": "markdown",
      "source": [
        "## Task 3\n",
        "\n",
        "Write a function that checks if a number is prime"
      ],
      "metadata": {
        "id": "mHgss8eSsCBE"
      }
    },
    {
      "cell_type": "code",
      "source": [
        "def is_prime(N: int) -> bool:\n",
        "    pass"
      ],
      "metadata": {
        "id": "aXEtmPzesBF4"
      },
      "execution_count": null,
      "outputs": []
    },
    {
      "cell_type": "code",
      "source": [
        "print(is_prime(17))\n",
        "print(is_prime(18))"
      ],
      "metadata": {
        "colab": {
          "base_uri": "https://localhost:8080/"
        },
        "id": "0hjby6P3sV8p",
        "outputId": "521b685d-2d91-4216-fd49-14e30c139c99"
      },
      "execution_count": null,
      "outputs": [
        {
          "output_type": "stream",
          "name": "stdout",
          "text": [
            "None\n",
            "None\n"
          ]
        }
      ]
    },
    {
      "cell_type": "markdown",
      "source": [
        "## Task 4\n",
        "\n",
        "Write a funtion that returns a list with all prime numbers smaller than a given Integer N"
      ],
      "metadata": {
        "id": "v8GPuv65vSY6"
      }
    },
    {
      "cell_type": "code",
      "source": [
        "def all_prime(N: int) -> list[int]:\n",
        "    pass"
      ],
      "metadata": {
        "id": "ocYz_F2fvowR"
      },
      "execution_count": null,
      "outputs": []
    },
    {
      "cell_type": "markdown",
      "source": [
        "## Task 5\n",
        "\n",
        "Use a dictionary to count for each letter, how often it appears in the test_string"
      ],
      "metadata": {
        "id": "XvI8N5OPrelt"
      }
    },
    {
      "cell_type": "code",
      "source": [
        "individual_letter_count = {}\n",
        "for letter in test_string:\n",
        "    # delete the pass statement and add code that increases indiviual_letter_count \n",
        "    # for the current letter in the test_string"
      ],
      "metadata": {
        "id": "dLmoiRO2lfhX"
      },
      "execution_count": null,
      "outputs": []
    },
    {
      "cell_type": "markdown",
      "source": [
        "### Lab Task"
      ],
      "metadata": {
        "id": "NlLUOJE-mADj"
      }
    },
    {
      "cell_type": "code",
      "source": [
        "import random\n",
        "import string"
      ],
      "metadata": {
        "id": "S1lsacMHljr8"
      },
      "execution_count": 10,
      "outputs": []
    },
    {
      "cell_type": "code",
      "source": [
        "def random_letter() -> str:\n",
        "    return random.choice(string.ascii_letters)"
      ],
      "metadata": {
        "id": "cQhVHuQmmvsv"
      },
      "execution_count": 11,
      "outputs": []
    },
    {
      "cell_type": "code",
      "source": [
        "def random_delivery() -> tuple[str, int]:\n",
        "    product = random_letter() + random_letter()\n",
        "    quantity = random.randint(1, 4)\n",
        "    return product, quantity"
      ],
      "metadata": {
        "id": "yU34Ch5ImdMX"
      },
      "execution_count": 14,
      "outputs": []
    },
    {
      "cell_type": "markdown",
      "source": [
        "Write a short script that simulates a warehouse that can store a total quantity of 200 products. \n",
        "* Execute 100 deliveries\n",
        "* Than for further 100 iteration do\n",
        "  * either another delivery with 50% probability\n",
        "  * or perform a request to withdraw a random quantity of a random product\n",
        "    * decrease the amount of the product in the warehouse, but never go below 0\n",
        "    * print out the request and how much of it could be fullfilled "
      ],
      "metadata": {
        "id": "yH6SFkcfpHkk"
      }
    },
    {
      "cell_type": "code",
      "source": [
        "warehouse = {}\n",
        "used_capacity = 0"
      ],
      "metadata": {
        "id": "bmmk2bOonNdF"
      },
      "execution_count": 15,
      "outputs": []
    },
    {
      "cell_type": "code",
      "source": [],
      "metadata": {
        "id": "BON5XQP9ohGy"
      },
      "execution_count": 9,
      "outputs": []
    },
    {
      "cell_type": "code",
      "source": [],
      "metadata": {
        "id": "zUu2boa0oimi"
      },
      "execution_count": null,
      "outputs": []
    }
  ]
}