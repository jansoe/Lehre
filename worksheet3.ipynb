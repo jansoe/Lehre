{
  "nbformat": 4,
  "nbformat_minor": 0,
  "metadata": {
    "colab": {
      "provenance": [],
      "authorship_tag": "ABX9TyPPPNY5terDJ2WZjS9LdOye",
      "include_colab_link": true
    },
    "kernelspec": {
      "name": "python3",
      "display_name": "Python 3"
    },
    "language_info": {
      "name": "python"
    }
  },
  "cells": [
    {
      "cell_type": "markdown",
      "metadata": {
        "id": "view-in-github",
        "colab_type": "text"
      },
      "source": [
        "<a href=\"https://colab.research.google.com/github/jansoe/Lehre/blob/main/worksheet3.ipynb\" target=\"_parent\"><img src=\"https://colab.research.google.com/assets/colab-badge.svg\" alt=\"Open In Colab\"/></a>"
      ]
    },
    {
      "cell_type": "markdown",
      "source": [
        "## Task 1\n",
        "difficulty : easy\n",
        "\n",
        "* Create a class Dog. \n",
        "* Add a Constructor which initializises an Dog-object with the attributes `name`, `breed`, `age` \n",
        "* Add a method `bark` which prints \"Wau Wau, I am\" and than the age of the dog\n",
        "* Add a method `get_older` which increases the age of the dog by 1"
      ],
      "metadata": {
        "id": "FiTKrvis2Ngd"
      }
    },
    {
      "cell_type": "code",
      "source": [
        "class Dog:\n",
        "\n",
        "    pass "
      ],
      "metadata": {
        "id": "rTfUcVfw0M0U"
      },
      "execution_count": 9,
      "outputs": []
    },
    {
      "cell_type": "markdown",
      "source": [
        "If your implementation is correct, the following Code"
      ],
      "metadata": {
        "id": "SGdaMnS64R4Q"
      }
    },
    {
      "cell_type": "code",
      "source": [
        "my_dog = Dog('Lassie', 'Colli', 2)\n",
        "my_dog.bark()\n",
        "my_dog.get_older()\n",
        "my_dog.get_older()\n",
        "my_dog.bark()"
      ],
      "metadata": {
        "colab": {
          "base_uri": "https://localhost:8080/"
        },
        "id": "fmsStYK94Ums",
        "outputId": "c47d2285-653c-49b1-ea0b-ef8e2990baa5"
      },
      "execution_count": 42,
      "outputs": [
        {
          "output_type": "stream",
          "name": "stdout",
          "text": [
            "Wau Wau, I am 2\n",
            "Wau Wau, I am 4\n"
          ]
        }
      ]
    },
    {
      "cell_type": "markdown",
      "source": [
        "\n",
        " should yield:\n",
        "```\n",
        "Wau Wau, I am 2\n",
        "Wau Wau, I am 4\n",
        "```"
      ],
      "metadata": {
        "id": "mP18gAbs3Ohk"
      }
    },
    {
      "cell_type": "markdown",
      "source": [
        "## Task 2 \n",
        "difficulty: medium\n",
        "\n",
        "### prerequisite\n",
        "\n",
        "To solve this task you first have to know a little bit more of how to work with dates in Python. To this end we need to import this functionality:"
      ],
      "metadata": {
        "id": "Nuooqn-75Mm2"
      }
    },
    {
      "cell_type": "code",
      "source": [
        "import datetime\n",
        "import dateutil"
      ],
      "metadata": {
        "id": "CMv2sdyl50Nj"
      },
      "execution_count": 2,
      "outputs": []
    },
    {
      "cell_type": "markdown",
      "source": [
        "With the datetime library we can get for example  a datetime-Object of the current date + time"
      ],
      "metadata": {
        "id": "NYRAyxU28CWu"
      }
    },
    {
      "cell_type": "code",
      "source": [
        "datetime.datetime.now()"
      ],
      "metadata": {
        "colab": {
          "base_uri": "https://localhost:8080/"
        },
        "id": "s7ESVUUE8BRD",
        "outputId": "9d6e097d-6259-4168-b2e0-27660f522f59"
      },
      "execution_count": 3,
      "outputs": [
        {
          "output_type": "execute_result",
          "data": {
            "text/plain": [
              "datetime.datetime(2023, 4, 25, 7, 0, 51, 856935)"
            ]
          },
          "metadata": {},
          "execution_count": 3
        }
      ]
    },
    {
      "cell_type": "markdown",
      "source": [
        "or we can transform a String to a Datetime-Object."
      ],
      "metadata": {
        "id": "nH-syc1056I7"
      }
    },
    {
      "cell_type": "code",
      "source": [
        "# Converting a String with a date to a date-Object\n",
        "date_str = '2023-01-11'\n",
        "datetime_object = datetime.datetime.strptime(date_str, '%Y-%m-%d')"
      ],
      "metadata": {
        "id": "Wpl_rZbXxW8_"
      },
      "execution_count": 4,
      "outputs": []
    },
    {
      "cell_type": "code",
      "source": [
        "datetime_object"
      ],
      "metadata": {
        "colab": {
          "base_uri": "https://localhost:8080/"
        },
        "id": "ahIFHbnh7hID",
        "outputId": "5fb39f97-cfbe-4152-9372-63de99280b7c"
      },
      "execution_count": 5,
      "outputs": [
        {
          "output_type": "execute_result",
          "data": {
            "text/plain": [
              "datetime.datetime(2023, 1, 11, 0, 0)"
            ]
          },
          "metadata": {},
          "execution_count": 5
        }
      ]
    },
    {
      "cell_type": "markdown",
      "source": [
        "If we are only interested in the date, we can extract a date-Object from the datetime:"
      ],
      "metadata": {
        "id": "8ObPf-D97oml"
      }
    },
    {
      "cell_type": "code",
      "source": [
        "date_object = datetime_object.date()"
      ],
      "metadata": {
        "id": "mX0f3Xum7ptP"
      },
      "execution_count": 6,
      "outputs": []
    },
    {
      "cell_type": "code",
      "source": [
        "date_object"
      ],
      "metadata": {
        "colab": {
          "base_uri": "https://localhost:8080/"
        },
        "id": "zN4s9SVA6uMS",
        "outputId": "1050ea4b-1033-4752-d5ff-b92ba943d989"
      },
      "execution_count": 7,
      "outputs": [
        {
          "output_type": "execute_result",
          "data": {
            "text/plain": [
              "datetime.date(2023, 1, 11)"
            ]
          },
          "metadata": {},
          "execution_count": 7
        }
      ]
    },
    {
      "cell_type": "markdown",
      "source": [
        "Datetime objects know how to subtract each other from themselves: "
      ],
      "metadata": {
        "id": "uHp3cElr8zTX"
      }
    },
    {
      "cell_type": "code",
      "source": [
        "date_object2 = datetime.datetime.strptime('2021-02-11', '%Y-%m-%d').date()\n",
        "\n",
        "date_object - date_object2"
      ],
      "metadata": {
        "colab": {
          "base_uri": "https://localhost:8080/"
        },
        "id": "0byeJirf64Ro",
        "outputId": "dbc5ad98-cd7b-4ff6-dd75-89bc7b8f800f"
      },
      "execution_count": 8,
      "outputs": [
        {
          "output_type": "execute_result",
          "data": {
            "text/plain": [
              "datetime.timedelta(days=699)"
            ]
          },
          "metadata": {},
          "execution_count": 8
        }
      ]
    },
    {
      "cell_type": "markdown",
      "source": [
        "But we can also use the relativedelta-Function to get a  difference between dates in full years "
      ],
      "metadata": {
        "id": "JuurPacJ9RDm"
      }
    },
    {
      "cell_type": "code",
      "source": [
        "datediff = dateutil.relativedelta.relativedelta(date_object, date_object2)\n",
        "datediff.years"
      ],
      "metadata": {
        "colab": {
          "base_uri": "https://localhost:8080/"
        },
        "id": "dKhufFuTyDNv",
        "outputId": "ba0cf052-f5c0-49ea-c7d2-c7b792141b21"
      },
      "execution_count": 10,
      "outputs": [
        {
          "output_type": "execute_result",
          "data": {
            "text/plain": [
              "1"
            ]
          },
          "metadata": {},
          "execution_count": 10
        }
      ]
    },
    {
      "cell_type": "markdown",
      "source": [
        "### actual task\n",
        "* Fill in the code for the `age` method of the Student-Class. Use the current date and the date_of_birth to calculate and return the students's age.\n",
        "* Create a `introduce`- Method that prints \"Hello I'am `first_name` `last_name` and I am `age` years old\" for a student (with the actual values of that student)\n",
        "\n",
        "Create 2 student objects and call the `introduce` method for both. "
      ],
      "metadata": {
        "id": "RVMI3NVw9wP1"
      }
    },
    {
      "cell_type": "code",
      "execution_count": 15,
      "metadata": {
        "id": "DaydcdhQtBHz"
      },
      "outputs": [],
      "source": [
        "def Student():\n",
        "\n",
        "    def __init__(self, first_name, second_name, date_of_birth, admission_number, admission_date):\n",
        "        self.first_name = first_name\n",
        "        self.second_name = second_name\n",
        "        self.date_of_birth = date_of_birth\n",
        "        self.admission_number = admission_number\n",
        "        self.admission_date = admission_date\n",
        "\n",
        "    def age(self) -> int:\n",
        "        # Insert Code here\n",
        "        pass\n"
      ]
    },
    {
      "cell_type": "markdown",
      "source": [
        "## Task 3\n",
        "difficulty: medium+\n",
        "\n",
        "For a given class definition of a Course (see below)\n",
        "* complete the `register_student` - method, such that the admission_number of a student is added as key to the `student_grades` dictionary with the value `None`. It should not be possible to register the student if the admission_number is already in the `student_grades`-dict or if adding the student would violate the max_participants number\n",
        "* complete the `set_grade`-method, such that in the `student_grades`-dict the  value associated to the student is set to the grade."
      ],
      "metadata": {
        "id": "PCCPulAbA5Iu"
      }
    },
    {
      "cell_type": "code",
      "source": [
        "def Course():\n",
        "\n",
        "    def __init__(self, name, credits, max_participants):\n",
        "        self.name = name\n",
        "        self.credits = credits\n",
        "        self.max_participants = max_participants\n",
        "        self.student_grades = {}\n",
        "\n",
        "    def register_student(self, student):\n",
        "        # Insert Code here\n",
        "        pass\n",
        "\n",
        "    def set_grade(self, student, grade):\n",
        "        # Insert Code here\n",
        "        pass"
      ],
      "metadata": {
        "id": "eFwzH_64uAXd"
      },
      "execution_count": 16,
      "outputs": []
    },
    {
      "cell_type": "markdown",
      "source": [
        "Create a course with name \"Computer Science\" with a maximum of 4 participants which yields 2 credits. Create 5 new Students and try to register those in the course. Also try to register a student a second time. "
      ],
      "metadata": {
        "id": "GQfokeYv_9gQ"
      }
    },
    {
      "cell_type": "code",
      "source": [],
      "metadata": {
        "id": "O9EhQ6lhAyMN"
      },
      "execution_count": null,
      "outputs": []
    },
    {
      "cell_type": "markdown",
      "source": [
        "### Task 4 (Bonus)\n",
        "difficulty: hard\n",
        "\n",
        "Create a class University. This class should contain a method `student_admission(first_name, last_name, date_of_birth)` that returns a new student-obect. `admission_date` and a`dmission_number` should be automatically filled. To keep track of admission_numbers create a dictionary with the tuple `(first_name, last_name, date_of_birth)` as key and `admission_number` as value. Do not allow double admission of the same person. "
      ],
      "metadata": {
        "id": "VUzVc3fjOt-a"
      }
    },
    {
      "cell_type": "code",
      "source": [],
      "metadata": {
        "id": "powgIpLERy2Y"
      },
      "execution_count": null,
      "outputs": []
    }
  ]
}