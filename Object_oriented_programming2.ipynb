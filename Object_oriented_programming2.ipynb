{
  "cells": [
    {
      "cell_type": "markdown",
      "metadata": {
        "id": "view-in-github",
        "colab_type": "text"
      },
      "source": [
        "<a href=\"https://colab.research.google.com/github/jansoe/Lehre/blob/main/Object_oriented_programming2.ipynb\" target=\"_parent\"><img src=\"https://colab.research.google.com/assets/colab-badge.svg\" alt=\"Open In Colab\"/></a>"
      ]
    },
    {
      "cell_type": "markdown",
      "metadata": {
        "id": "nP8Z4n-YDpke"
      },
      "source": [
        "# Object Oriented Programming \n",
        "adapted from  https://github.com/UofTCoders/studyGroup/blob/gh-pages/lessons/python/classes/lesson.md and https://github.com/UofTCoders/studyGroup/blob/edit-events/lessons/python/object_oriented_programming/Object_oriented_programming.ipynb"
      ]
    },
    {
      "cell_type": "markdown",
      "metadata": {
        "id": "TIk_vocgDpki"
      },
      "source": [
        "\n",
        "Object Oriented Programming is an approach in programming in which properties and behaviors are bundled into individual *objects*.\n",
        "in real world, an object has some properties and functions: a car has color, model, engine type, etc. and can move, speed, brake, etc. or an email has recipient list, subject, body, etc., and behaviors like adding attachments and sending; or a person who has name, height, weight, address and can walk, talk, laugh, etc. \n",
        "\n",
        "We can have the same approach in desigining programs based on objects that represent both properties and functions that can be applied to those properties. \n",
        "\n",
        "## Classes in Python\n",
        "Each object is an instance of a class (each person is an instance of *human beings* class!) \n",
        "Class is a data structure that allows the user to define any needed properties and functions that the object will contain. So the objects are instances of an specific class. \n",
        "Like when Sara with 170 cm height and dark hair is an instance of human() class. \n",
        "\n",
        "so: \n",
        "\n",
        "- A class provides the form or structure\n",
        "- an Object is an instance of a class which has: \n",
        "    - features, that are called **attributes**\n",
        "    - functions, that are called **methods**"
      ]
    },
    {
      "cell_type": "markdown",
      "metadata": {
        "id": "Hxa2gYGODpk1"
      },
      "source": [
        "\n",
        "## Example 1: Student"
      ]
    },
    {
      "cell_type": "code",
      "execution_count": 1,
      "metadata": {
        "id": "ZB3pa9O7Dpk3"
      },
      "outputs": [],
      "source": [
        "class Student: \n",
        "    def __init__(self, fname,lname,ID,date_of_admission):\n",
        "        self.fname = fname\n",
        "        self.lname = lname\n",
        "        self.ID = ID\n",
        "        self.date_of_admission = date_of_admission\n",
        "        \n",
        "    def fullname(self):\n",
        "        print(self.fname,self.lname)\n",
        "    "
      ]
    },
    {
      "cell_type": "markdown",
      "metadata": {
        "id": "esI5TGLbDpk3"
      },
      "source": [
        "In this way, to fill in the objects of a class, we can give it the first name, last name, the ID, and the data of admission in order. "
      ]
    },
    {
      "cell_type": "code",
      "execution_count": 2,
      "metadata": {
        "id": "ncpp_FhmDpk4"
      },
      "outputs": [],
      "source": [
        "# let's fill in the same subjects' info \n",
        "S1 = Student(fname=\"Jane\",lname=\"Doe\",ID=111,date_of_admission=\"2019_01_01\")\n",
        "S2 = Student(\"John\",\"Smith\",112,\"2019_01_02\")"
      ]
    },
    {
      "cell_type": "code",
      "source": [
        "type(S2)"
      ],
      "metadata": {
        "id": "YCEC81zJSvU6",
        "outputId": "8468e63d-f00b-4bbc-b442-bdc2011f09ee",
        "colab": {
          "base_uri": "https://localhost:8080/"
        }
      },
      "execution_count": 7,
      "outputs": [
        {
          "output_type": "execute_result",
          "data": {
            "text/plain": [
              "__main__.Student"
            ]
          },
          "metadata": {},
          "execution_count": 7
        }
      ]
    },
    {
      "cell_type": "code",
      "execution_count": 9,
      "metadata": {
        "id": "TS3JuKHrDpk5",
        "outputId": "a893f336-80a6-4ec4-e091-74efe9ed70eb",
        "colab": {
          "base_uri": "https://localhost:8080/"
        }
      },
      "outputs": [
        {
          "output_type": "stream",
          "name": "stdout",
          "text": [
            "John Smith\n"
          ]
        }
      ],
      "source": [
        "# now the method 'fullname' should give the same info as before:\n",
        "S2.fullname()"
      ]
    },
    {
      "cell_type": "markdown",
      "metadata": {
        "id": "0wrZCyG8Dpk_"
      },
      "source": [
        "## Example 2: Bank Account\n",
        "Now let's work with another example: "
      ]
    },
    {
      "cell_type": "markdown",
      "metadata": {
        "id": "CpgqUrqXDpk_"
      },
      "source": [
        "Programing for a bank: Let's define a class called *Client* in which a new instance stores a client's name, balance, and account level."
      ]
    },
    {
      "cell_type": "code",
      "execution_count": 17,
      "metadata": {
        "id": "WLeMyxF7DplA"
      },
      "outputs": [],
      "source": [
        "# (1) create the Client class \n",
        "class Client:\n",
        "    \n",
        "    def __init__(self, name, balance):\n",
        "        self.name = name\n",
        "        self.balance = balance + 100 #Add a bonus of 100 for new Clients\n",
        "        \n",
        "        #define account level\n",
        "        if self.balance < 5000:\n",
        "            self.level = \"Basic\"\n",
        "        elif self.balance < 15000:\n",
        "            self.level = \"Intermediate\"\n",
        "        else:\n",
        "            self.level = \"Advanced\""
      ]
    },
    {
      "cell_type": "markdown",
      "metadata": {
        "id": "vrR-eVyCDplD"
      },
      "source": [
        "Now, lets try creating some new clients named John_Doe, and Jane_Defoe (i.e. two instances of the 'Client' class, or two objects):\n"
      ]
    },
    {
      "cell_type": "code",
      "execution_count": 18,
      "metadata": {
        "id": "pBHQF0A2DplD"
      },
      "outputs": [],
      "source": [
        "#(2) Instantiates Objects of the Client class\n",
        "C1 = Client(\"John Doe\", 500)\n",
        "C2 = Client(\"Jane Defoe\", 150000)"
      ]
    },
    {
      "cell_type": "markdown",
      "metadata": {
        "id": "vW1aBRnzDplE"
      },
      "source": [
        "We can see the attributes of John_Doe, or Jane_Defoe by calling them:"
      ]
    },
    {
      "cell_type": "code",
      "execution_count": 22,
      "metadata": {
        "id": "cMkUCR7sDplE",
        "outputId": "7ba7f019-285c-4bfe-bb03-6636c1c5f5f0",
        "colab": {
          "base_uri": "https://localhost:8080/",
          "height": 35
        }
      },
      "outputs": [
        {
          "output_type": "execute_result",
          "data": {
            "text/plain": [
              "'Jane Defoe'"
            ],
            "application/vnd.google.colaboratory.intrinsic+json": {
              "type": "string"
            }
          },
          "metadata": {},
          "execution_count": 22
        }
      ],
      "source": [
        "C2.name"
      ]
    },
    {
      "cell_type": "code",
      "execution_count": 23,
      "metadata": {
        "id": "WcjfnwXnDplF",
        "outputId": "3c87c59e-9adc-4f4b-d1f2-8c35b2f223fc",
        "colab": {
          "base_uri": "https://localhost:8080/",
          "height": 35
        }
      },
      "outputs": [
        {
          "output_type": "execute_result",
          "data": {
            "text/plain": [
              "'Advanced'"
            ],
            "application/vnd.google.colaboratory.intrinsic+json": {
              "type": "string"
            }
          },
          "metadata": {},
          "execution_count": 23
        }
      ],
      "source": [
        "C2.level"
      ]
    },
    {
      "cell_type": "code",
      "execution_count": 24,
      "metadata": {
        "id": "JyA7JeYcDplF",
        "outputId": "5bd4938a-e56e-41b6-b45f-45d4c4774271",
        "colab": {
          "base_uri": "https://localhost:8080/"
        }
      },
      "outputs": [
        {
          "output_type": "execute_result",
          "data": {
            "text/plain": [
              "150100"
            ]
          },
          "metadata": {},
          "execution_count": 24
        }
      ],
      "source": [
        "C2.balance"
      ]
    },
    {
      "cell_type": "markdown",
      "metadata": {
        "id": "YDLKr8pTDplJ"
      },
      "source": [
        "In the case of our 'Client' class, we may want to update a person's bank account once they withdraw or deposit money. Let's create these methods below."
      ]
    },
    {
      "cell_type": "code",
      "execution_count": 28,
      "metadata": {
        "id": "mUGfk-oyDplK"
      },
      "outputs": [],
      "source": [
        "class Client:\n",
        "    def __init__(self, name, balance):\n",
        "        self.name = name\n",
        "        self.balance = balance + 100 #Add a bonus of 100 for new Clients\n",
        "        \n",
        "        #define account level\n",
        "        if self.balance < 5000:\n",
        "            self.level = \"Basic\"\n",
        "        elif self.balance < 15000:\n",
        "            self.level = \"Intermediate\"\n",
        "        else:\n",
        "            self.level = \"Advanced\"\n",
        "            \n",
        "    def deposit(self, amount):\n",
        "        self.balance += amount\n",
        "        return self.balance\n",
        "    \n",
        "    def withdraw(self, amount):\n",
        "        if amount > self.balance:\n",
        "            print(\"Insufficient for withdrawal\") \n",
        "        else:\n",
        "            self.balance -= amount\n",
        "        return self.balance"
      ]
    },
    {
      "cell_type": "code",
      "execution_count": 34,
      "metadata": {
        "id": "Sx9C2OpKDplL"
      },
      "outputs": [],
      "source": [
        "#(2) Instantiates Objects of the class\n",
        "C1 = Client(\"John Doe\", 500)\n",
        "C2 = Client(\"Jane Defoe\", 150000)"
      ]
    },
    {
      "cell_type": "code",
      "execution_count": 35,
      "metadata": {
        "id": "HqWfBSE3DplL",
        "outputId": "1c2635dd-31c5-46b1-ef48-9024d151ddd2",
        "colab": {
          "base_uri": "https://localhost:8080/",
          "height": 35
        }
      },
      "outputs": [
        {
          "output_type": "execute_result",
          "data": {
            "text/plain": [
              "'Basic'"
            ],
            "application/vnd.google.colaboratory.intrinsic+json": {
              "type": "string"
            }
          },
          "metadata": {},
          "execution_count": 35
        }
      ],
      "source": [
        "C1.level"
      ]
    },
    {
      "cell_type": "code",
      "execution_count": 36,
      "metadata": {
        "jupyter": {
          "outputs_hidden": false
        },
        "id": "nSi3YF2xDplM",
        "outputId": "2ceaabec-7a16-4491-bfa8-7af987a55a1c",
        "colab": {
          "base_uri": "https://localhost:8080/"
        }
      },
      "outputs": [
        {
          "output_type": "execute_result",
          "data": {
            "text/plain": [
              "150600"
            ]
          },
          "metadata": {},
          "execution_count": 36
        }
      ],
      "source": [
        "C1.deposit(150000)"
      ]
    },
    {
      "cell_type": "code",
      "execution_count": 37,
      "metadata": {
        "id": "yttGh-tJDplM",
        "outputId": "77220f3f-8c8b-433d-c8a8-8466157d103f",
        "colab": {
          "base_uri": "https://localhost:8080/",
          "height": 35
        }
      },
      "outputs": [
        {
          "output_type": "execute_result",
          "data": {
            "text/plain": [
              "'Basic'"
            ],
            "application/vnd.google.colaboratory.intrinsic+json": {
              "type": "string"
            }
          },
          "metadata": {},
          "execution_count": 37
        }
      ],
      "source": [
        "C1.level"
      ]
    },
    {
      "cell_type": "markdown",
      "source": [
        "Level `Basic` is wrong, we have to repeat the part that defines the account level after each deposit:\n"
      ],
      "metadata": {
        "id": "tPlyIlpAk5S_"
      }
    },
    {
      "cell_type": "code",
      "execution_count": 69,
      "metadata": {
        "id": "jw8MUumKDplN"
      },
      "outputs": [],
      "source": [
        "class Client:\n",
        "    def __init__(self, name, balance):\n",
        "        self.name = name\n",
        "        self.balance = balance + 100\n",
        "        self.update_level()\n",
        "        \n",
        "    def update_level(self):\n",
        "         # define account level \n",
        "        if self.balance < 5000: \n",
        "            self.level = \"Basic\"\n",
        "        elif self.balance < 15000:\n",
        "            self.level = \"Intermediate\"\n",
        "        else: \n",
        "            self.level = \"Advanced\"\n",
        "\n",
        "    def deposit(self, amount):\n",
        "            self.balance += amount         \n",
        "            self.update_level()\n",
        "            return self.balance\n",
        "        \n",
        "        \n",
        "    def withdraw(self, amount):\n",
        "            if amount > self.balance: \n",
        "                print(\"Insufficient for withdrawal\") \n",
        "            else: \n",
        "                self.balance -= amount\n",
        "            self.update_level()\n",
        "            return self.balance"
      ]
    },
    {
      "cell_type": "code",
      "source": [
        "C1 = Client(\"John Doe\", 500)\n",
        "C1.level"
      ],
      "metadata": {
        "id": "n8mNS5rwVOyM",
        "outputId": "500537b8-00ff-48bc-e0dd-75c80b1cd533",
        "colab": {
          "base_uri": "https://localhost:8080/",
          "height": 35
        }
      },
      "execution_count": 64,
      "outputs": [
        {
          "output_type": "execute_result",
          "data": {
            "text/plain": [
              "'Basic'"
            ],
            "application/vnd.google.colaboratory.intrinsic+json": {
              "type": "string"
            }
          },
          "metadata": {},
          "execution_count": 64
        }
      ]
    },
    {
      "cell_type": "code",
      "source": [
        "C1.deposit(15000)"
      ],
      "metadata": {
        "id": "FXSJUQHkVO0v",
        "outputId": "5b827cfb-016b-4091-f9d5-5e921d775d6c",
        "colab": {
          "base_uri": "https://localhost:8080/"
        }
      },
      "execution_count": 65,
      "outputs": [
        {
          "output_type": "execute_result",
          "data": {
            "text/plain": [
              "15600"
            ]
          },
          "metadata": {},
          "execution_count": 65
        }
      ]
    },
    {
      "cell_type": "code",
      "source": [
        "C1.level"
      ],
      "metadata": {
        "id": "hBlqp6jKVSIV",
        "outputId": "8b750071-86d0-4fd5-8e7e-c2068237c625",
        "colab": {
          "base_uri": "https://localhost:8080/",
          "height": 35
        }
      },
      "execution_count": 66,
      "outputs": [
        {
          "output_type": "execute_result",
          "data": {
            "text/plain": [
              "'Intermediate'"
            ],
            "application/vnd.google.colaboratory.intrinsic+json": {
              "type": "string"
            }
          },
          "metadata": {},
          "execution_count": 66
        }
      ]
    },
    {
      "cell_type": "code",
      "source": [
        "C1.withdraw(15000)"
      ],
      "metadata": {
        "id": "IifR3D87VduD",
        "outputId": "963fe238-79a0-4980-f1d5-e16498188a7a",
        "colab": {
          "base_uri": "https://localhost:8080/"
        }
      },
      "execution_count": 67,
      "outputs": [
        {
          "output_type": "execute_result",
          "data": {
            "text/plain": [
              "600"
            ]
          },
          "metadata": {},
          "execution_count": 67
        }
      ]
    },
    {
      "cell_type": "code",
      "source": [
        "C1.level"
      ],
      "metadata": {
        "id": "YvT7byWDVeET",
        "outputId": "6ef7a4d0-2dad-4663-e9a7-c7c78b3e90f2",
        "colab": {
          "base_uri": "https://localhost:8080/",
          "height": 35
        }
      },
      "execution_count": 68,
      "outputs": [
        {
          "output_type": "execute_result",
          "data": {
            "text/plain": [
              "'Basic'"
            ],
            "application/vnd.google.colaboratory.intrinsic+json": {
              "type": "string"
            }
          },
          "metadata": {},
          "execution_count": 68
        }
      ]
    },
    {
      "cell_type": "markdown",
      "metadata": {
        "id": "ZtWPwF4xDplN"
      },
      "source": [
        "Is this already correct? No! Why?\n",
        "\n",
        "## Challenge: \n",
        "Can we write this Class in a more efficient way to adapt the level after a change of balance?"
      ]
    },
    {
      "cell_type": "code",
      "source": [],
      "metadata": {
        "id": "9dL2EsPGEs_h"
      },
      "execution_count": null,
      "outputs": []
    },
    {
      "cell_type": "markdown",
      "metadata": {
        "id": "pmgbJqCvDplN"
      },
      "source": [
        "### Static Methods \n",
        "\n",
        "Static methods are methods that belong to a class but do not have access to *self* and hence don't require an instance to function (i.e. it will work on the class level as well as the instance level). \n",
        "\n",
        "We denote these with the line `@staticmethod` before we define our static method.\n",
        "\n",
        "Let's create a static method called make_money_sound() that will simply print \"Cha-ching!\" when called."
      ]
    },
    {
      "cell_type": "code",
      "execution_count": 83,
      "metadata": {
        "jupyter": {
          "outputs_hidden": false
        },
        "id": "n0lx2TGdDplO"
      },
      "outputs": [],
      "source": [
        "# (1) Define the class\n",
        "class Client:\n",
        "    def __init__(self, name, balance):\n",
        "        self.name = name\n",
        "        self.balance = balance + 100\n",
        "        self._set_level()\n",
        "\n",
        "    def _set_level(self):    \n",
        "        #define account level\n",
        "        if self.balance < 5000:\n",
        "            self.level = \"Basic\"\n",
        "        elif self.balance < 15000:\n",
        "            self.level = \"Intermediate\"\n",
        "        else:\n",
        "            self.level = \"Advanced\"\n",
        "    \n",
        "    def deposit(self, amount):\n",
        "        self.balance += amount\n",
        "        self._set_level()\n",
        "        self.make_money_sound()\n",
        "        return self.balance\n",
        "\n",
        "   \n",
        "    def withdraw(self, amount):\n",
        "        if amount > self.balance: \n",
        "            print(\"Insufficient for withdrawal\") \n",
        "        else: \n",
        "            self.balance -= amount\n",
        "            self._set_level()\n",
        "        return self.balance\n",
        "            \n",
        "    @staticmethod\n",
        "    def make_money_sound():\n",
        "        print(\"Cha-ching!\")"
      ]
    },
    {
      "cell_type": "code",
      "execution_count": 84,
      "metadata": {
        "jupyter": {
          "outputs_hidden": false
        },
        "id": "etKGck_SDplP"
      },
      "outputs": [],
      "source": [
        "#(2) Instantiates Objects of the class\n",
        "C1 = Client(\"John Doe\", 500)\n",
        "C2 = Client(\"Jane Defoe\", 150000)"
      ]
    },
    {
      "cell_type": "code",
      "execution_count": 85,
      "metadata": {
        "id": "uuAFZvKvDplP",
        "outputId": "29b5f2e6-708b-438a-ab2c-e3f8eb06e450",
        "colab": {
          "base_uri": "https://localhost:8080/"
        }
      },
      "outputs": [
        {
          "output_type": "stream",
          "name": "stdout",
          "text": [
            "Cha-ching!\n"
          ]
        },
        {
          "output_type": "execute_result",
          "data": {
            "text/plain": [
              "610"
            ]
          },
          "metadata": {},
          "execution_count": 85
        }
      ],
      "source": [
        "C1.deposit(10)"
      ]
    },
    {
      "cell_type": "markdown",
      "metadata": {
        "id": "L4JswfXQDplI"
      },
      "source": [
        "### Class Attributes\n",
        "\n",
        "A class attribute is an attribute set at the class-level rather than the instance-level, such that the value of this attribute will be the same across all instances.\n",
        "\n",
        "For our *Client* class, we might want to set the name of the bank, and the location, which would not change from instance to instance."
      ]
    },
    {
      "cell_type": "code",
      "execution_count": 92,
      "metadata": {
        "id": "XjjZfjZVDplS"
      },
      "outputs": [],
      "source": [
        "#(1) Define the class\n",
        "class Client:\n",
        "    \n",
        "    bank = \"TD\"\n",
        "    location = \"Toronto, ON\"\n",
        "    \n",
        "    def __init__(self, name, balance):\n",
        "        self.name = name\n",
        "        self.balance = balance + 100\n",
        "        self._set_level()\n",
        "\n",
        "    def _set_level(self):    \n",
        "        #define account level\n",
        "        if self.balance < 5000:\n",
        "            self.level = \"Basic\"\n",
        "        elif self.balance < 15000:\n",
        "            self.level = \"Intermediate\"\n",
        "        else:\n",
        "            self.level = \"Advanced\"\n",
        "    \n",
        "    def deposit(self, amount):\n",
        "        self.balance += amount\n",
        "        self._set_level()\n",
        "\n",
        "   \n",
        "    def withdraw(self, amount):\n",
        "        if amount > self.balance: \n",
        "            print(\"Insufficient for withdrawal\") \n",
        "        else: \n",
        "            self.balance -= amount\n",
        "            self._set_level()\n",
        "        return self.balance\n",
        "            \n",
        "    @staticmethod\n",
        "    def make_money_sound():\n",
        "        print(\"Cha-ching!\")"
      ]
    },
    {
      "cell_type": "code",
      "source": [
        "#(2) Instantiates Objects of the class\n",
        "C1 = Client(\"John Doe\", 500)\n",
        "C2 = Client(\"Jane Defoe\", 150000)"
      ],
      "metadata": {
        "id": "eTWGQTZQnWP_"
      },
      "execution_count": 93,
      "outputs": []
    },
    {
      "cell_type": "code",
      "source": [
        "print(C1.bank, C1.location)\n",
        "print(C2.bank, C2.location)"
      ],
      "metadata": {
        "colab": {
          "base_uri": "https://localhost:8080/"
        },
        "id": "mLAdpTHPnMhh",
        "outputId": "bb955a29-1bea-46ec-e595-884cbfa71bd2"
      },
      "execution_count": 94,
      "outputs": [
        {
          "output_type": "stream",
          "name": "stdout",
          "text": [
            "TD Toronto, ON\n",
            "TD Toronto, ON\n"
          ]
        }
      ]
    },
    {
      "cell_type": "markdown",
      "metadata": {
        "id": "eQx6TO6fDplT"
      },
      "source": [
        "### Key Concept: Inheritance\n",
        "\n",
        "A 'child' class can be created from a 'parent' class, whereby the child will bring over attributes and methods that its parent has, but where new features can be created as well. \n",
        "\n",
        "This would be useful if you want to create multiple classes that would have some features that are kept the same between them. You would simply create a parent class of these children classes that have those maintained features.\n",
        "\n",
        "Imagine we want to create different types of clients but still have all the base attributes and methods found in client currently. \n",
        "\n",
        "For example, let's create a class called *Savings* that inherits from the *Client* class. In doing so, we do not need to write another `__init__` method as it will inherit this from its parent."
      ]
    },
    {
      "cell_type": "code",
      "execution_count": 96,
      "metadata": {
        "id": "5ocJCSArDplT"
      },
      "outputs": [],
      "source": [
        "# create the Savings class below\n",
        "class Savings(Client):\n",
        "    interest_rate = 0.005\n",
        "\n",
        "    def __init__(self, name, balance):\n",
        "        # Call the constructor of the parent class \n",
        "        Client.__init__(self, name, balance)\n",
        "    \n",
        "    def update_balance(self):\n",
        "        self.balance += self.balance*self.interest_rate\n",
        "        return self.balance"
      ]
    },
    {
      "cell_type": "code",
      "execution_count": 103,
      "metadata": {
        "id": "iJA0V1YNDplU"
      },
      "outputs": [],
      "source": [
        "# create an instance the same way as a Client but this time by calling Savings instead\n",
        "C3 = Savings(\"Tom Smith\", 50)\n",
        "C3.deposit(30)"
      ]
    },
    {
      "cell_type": "code",
      "execution_count": 104,
      "metadata": {
        "jupyter": {
          "outputs_hidden": false
        },
        "id": "PN0DTdSbDplU",
        "outputId": "3dba3554-ecb6-40c7-aaa4-ca9b7fbab418",
        "colab": {
          "base_uri": "https://localhost:8080/"
        }
      },
      "outputs": [
        {
          "output_type": "stream",
          "name": "stdout",
          "text": [
            "Tom Smith\n",
            "180\n",
            "0.005\n"
          ]
        }
      ],
      "source": [
        "# it now has access to the new attributes and methods in Savings...\n",
        "print(C3.name)\n",
        "print(C3.balance)\n",
        "print(C3.interest_rate)"
      ]
    },
    {
      "cell_type": "code",
      "execution_count": 105,
      "metadata": {
        "jupyter": {
          "outputs_hidden": false
        },
        "id": "Ei3cmdjuDplV",
        "outputId": "320b15d6-494b-4cff-d5d4-381f79ebf3a1",
        "colab": {
          "base_uri": "https://localhost:8080/"
        }
      },
      "outputs": [
        {
          "output_type": "execute_result",
          "data": {
            "text/plain": [
              "180.9"
            ]
          },
          "metadata": {},
          "execution_count": 105
        }
      ],
      "source": [
        "# ...as well as access to attributes and methods from the Client class as well\n",
        "C3.update_balance()"
      ]
    },
    {
      "cell_type": "markdown",
      "metadata": {
        "id": "XGNcfCW0DplW"
      },
      "source": [
        "## Challenge 1:\n",
        "Extent the `Savings` Class in such a way that there are 3 different intrest rates:\n",
        "- 0.5% for Basic Customers\n",
        "- 0.7% for Intermediate Customers\n",
        "- 1.0% for Advanced Customers\n",
        "\n",
        "Test your `Savings` Class by instantiating objects with different balances and executing the `update_balance` method"
      ]
    },
    {
      "cell_type": "code",
      "source": [
        "from math import e\n",
        "class Savings(Client):\n",
        "    interest_rate_basic = 0.005\n",
        "    interest_rate_intermediate = 0.007\n",
        "    interest_rate_advanced = 0.01\n",
        "\n",
        "    def __init__(self, name, balance):\n",
        "        # Call the constructor of the parent class \n",
        "        Client.__init__(self, name, balance)\n",
        "    \n",
        "    def update_balance(self):\n",
        "        if self.level == 'Basic':\n",
        "            intrest_rate = self.interest_rate_basic\n",
        "        elif self.level == 'Intermediate':\n",
        "            intrest_rate = self.interest_rate_intermediate\n",
        "        else:\n",
        "            intrest_rate = self.interest_rate_advanced\n",
        "        self.balance += self.balance * intrest_rate\n",
        "        return self.balance"
      ],
      "metadata": {
        "id": "JmkuiYEOGhsa"
      },
      "execution_count": 114,
      "outputs": []
    },
    {
      "cell_type": "code",
      "source": [
        "C3 = Savings(\"Tom Smith\", 99900)\n",
        "C3.update_balance()"
      ],
      "metadata": {
        "id": "FOw75SsMGkYC",
        "outputId": "927046b4-c758-482c-c033-f1a93d9b079d",
        "colab": {
          "base_uri": "https://localhost:8080/"
        }
      },
      "execution_count": 117,
      "outputs": [
        {
          "output_type": "execute_result",
          "data": {
            "text/plain": [
              "101000.0"
            ]
          },
          "metadata": {},
          "execution_count": 117
        }
      ]
    },
    {
      "cell_type": "markdown",
      "source": [
        "## Challenge 2:\n",
        "Create a child of the `Savings`-Class: `SavingsWithCredit`.\n",
        "Write the method `withdraw(self, amount)`, but instead of refusing payouts if the balance is not sufficient allow an overdraft as long as the balance will not below -5000. \n",
        "\n",
        "Instantiate a `SavingsWithCredit`-Object with an initial balace of 100 and then withdraw 1000 and execute the `update_balance`-Method. What happens?\n",
        "\n",
        "How could we implement an interest rate of 5% for credit?\n",
        "\n"
      ],
      "metadata": {
        "id": "1ddDWmo2CUHP"
      }
    },
    {
      "cell_type": "code",
      "source": [],
      "metadata": {
        "id": "g-aADA5eCTYz"
      },
      "execution_count": null,
      "outputs": []
    }
  ],
  "metadata": {
    "kernelspec": {
      "display_name": "Python 3",
      "language": "python",
      "name": "python3"
    },
    "language_info": {
      "codemirror_mode": {
        "name": "ipython",
        "version": 3
      },
      "file_extension": ".py",
      "mimetype": "text/x-python",
      "name": "python",
      "nbconvert_exporter": "python",
      "pygments_lexer": "ipython3",
      "version": "3.6.5"
    },
    "colab": {
      "provenance": [],
      "include_colab_link": true
    }
  },
  "nbformat": 4,
  "nbformat_minor": 0
}