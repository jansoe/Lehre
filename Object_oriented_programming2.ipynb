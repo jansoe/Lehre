{
  "cells": [
    {
      "cell_type": "markdown",
      "metadata": {
        "id": "view-in-github",
        "colab_type": "text"
      },
      "source": [
        "<a href=\"https://colab.research.google.com/github/jansoe/Lehre/blob/main/Object_oriented_programming2.ipynb\" target=\"_parent\"><img src=\"https://colab.research.google.com/assets/colab-badge.svg\" alt=\"Open In Colab\"/></a>"
      ]
    },
    {
      "cell_type": "markdown",
      "metadata": {
        "id": "nP8Z4n-YDpke"
      },
      "source": [
        "# Object Oriented Programming \n",
        "adapted from  https://github.com/UofTCoders/studyGroup/blob/gh-pages/lessons/python/classes/lesson.md and https://github.com/UofTCoders/studyGroup/blob/edit-events/lessons/python/object_oriented_programming/Object_oriented_programming.ipynb"
      ]
    },
    {
      "cell_type": "markdown",
      "metadata": {
        "id": "TIk_vocgDpki"
      },
      "source": [
        "\n",
        "Object Oriented Programming is an approach in programming in which properties and behaviors are bundled into individual *objects*.\n",
        "in real world, an object has some properties and functions: a car has color, model, engine type, etc. and can move, speed, brake, etc. or an email has recipient list, subject, body, etc., and behaviors like adding attachments and sending; or a person who has name, height, weight, address and can walk, talk, laugh, etc. \n",
        "\n",
        "We can have the same approach in desigining programs based on objects that represent both properties and functions that can be applied to those properties. \n",
        "\n",
        "## Classes in Python\n",
        "Each object is an instance of a class (each person is an instance of *human beings* class!) \n",
        "Class is a data structure that allows the user to define any needed properties and functions that the object will contain. So the objects are instances of an specific class. \n",
        "Like when Sara with 170 cm height and dark hair is an instance of human() class. \n",
        "\n",
        "so: \n",
        "\n",
        "- A class provides the form or structure\n",
        "- an Object is an instance of a class which has: \n",
        "    - features, that are called **attributes**\n",
        "    - functions, that are called **methods**"
      ]
    },
    {
      "cell_type": "markdown",
      "metadata": {
        "id": "Hxa2gYGODpk1"
      },
      "source": [
        "\n",
        "## Example 1: Student"
      ]
    },
    {
      "cell_type": "code",
      "execution_count": 88,
      "metadata": {
        "id": "ZB3pa9O7Dpk3"
      },
      "outputs": [],
      "source": [
        "class Student: \n",
        "    def __init__(self, fname,lname,ID,date_of_admission):\n",
        "        self.fname = fname\n",
        "        self.lname = lname\n",
        "        self.ID = ID\n",
        "        self.date_of_admission = date_of_admission\n",
        "        \n",
        "    def fullname(self):\n",
        "        print(self.fname,self.lname)\n",
        "    "
      ]
    },
    {
      "cell_type": "markdown",
      "metadata": {
        "id": "esI5TGLbDpk3"
      },
      "source": [
        "In this way, to fill in the objects of a class, we can give it the first name, last name, the ID, and the data of admission in order. "
      ]
    },
    {
      "cell_type": "code",
      "execution_count": 89,
      "metadata": {
        "id": "ncpp_FhmDpk4"
      },
      "outputs": [],
      "source": [
        "# let's fill in the same subjects' info \n",
        "S1 = Student(fname=\"Jane\",lname=\"Doe\",ID=111,date_of_admission=\"2019_01_01\")\n",
        "S2 = Student(\"John\",\"Smith\",112,\"2019_01_02\")"
      ]
    },
    {
      "cell_type": "code",
      "execution_count": 90,
      "metadata": {
        "id": "TS3JuKHrDpk5",
        "outputId": "edc69042-334b-4c94-a23c-b1b7a2d09b94",
        "colab": {
          "base_uri": "https://localhost:8080/"
        }
      },
      "outputs": [
        {
          "output_type": "stream",
          "name": "stdout",
          "text": [
            "Jane Doe\n"
          ]
        }
      ],
      "source": [
        "# now the method 'fullname' should give the same info as before:\n",
        "S1.fullname()"
      ]
    },
    {
      "cell_type": "markdown",
      "metadata": {
        "id": "0wrZCyG8Dpk_"
      },
      "source": [
        "## Example 2: Bank Account\n",
        "Now let's work with another example: "
      ]
    },
    {
      "cell_type": "markdown",
      "metadata": {
        "id": "CpgqUrqXDpk_"
      },
      "source": [
        "Programing for a bank: Let's define a class called *Client* in which a new instance stores a client's name, balance, and account level."
      ]
    },
    {
      "cell_type": "code",
      "execution_count": 91,
      "metadata": {
        "id": "WLeMyxF7DplA"
      },
      "outputs": [],
      "source": [
        "# (1) create the Client class \n",
        "class Client:\n",
        "    def __init__(self, name, balance):\n",
        "        self.name = name\n",
        "        self.balance = balance + 100 #Add a bonus of 100 for new Clients\n",
        "        \n",
        "        #define account level\n",
        "        if self.balance < 5000:\n",
        "            self.level = \"Basic\"\n",
        "        elif self.balance < 15000:\n",
        "            self.level = \"Intermediate\"\n",
        "        else:\n",
        "            self.level = \"Advanced\""
      ]
    },
    {
      "cell_type": "markdown",
      "metadata": {
        "id": "vrR-eVyCDplD"
      },
      "source": [
        "Now, lets try creating some new clients named John_Doe, and Jane_Defoe (i.e. two instances of the 'Client' class, or two objects):\n"
      ]
    },
    {
      "cell_type": "code",
      "execution_count": 92,
      "metadata": {
        "id": "pBHQF0A2DplD"
      },
      "outputs": [],
      "source": [
        "#(2) Instantiates Objects of the Client class\n",
        "C1 = Client(\"John Doe\", 500)\n",
        "C2 = Client(\"Jane Defoe\", 150000)"
      ]
    },
    {
      "cell_type": "markdown",
      "metadata": {
        "id": "vW1aBRnzDplE"
      },
      "source": [
        "We can see the attributes of John_Doe, or Jane_Defoe by calling them:"
      ]
    },
    {
      "cell_type": "code",
      "execution_count": 93,
      "metadata": {
        "id": "cMkUCR7sDplE",
        "outputId": "0451c0be-8490-44fb-eb3d-ce9960d531ec",
        "colab": {
          "base_uri": "https://localhost:8080/",
          "height": 35
        }
      },
      "outputs": [
        {
          "output_type": "execute_result",
          "data": {
            "text/plain": [
              "'John Doe'"
            ],
            "application/vnd.google.colaboratory.intrinsic+json": {
              "type": "string"
            }
          },
          "metadata": {},
          "execution_count": 93
        }
      ],
      "source": [
        "C1.name"
      ]
    },
    {
      "cell_type": "code",
      "execution_count": 94,
      "metadata": {
        "id": "WcjfnwXnDplF",
        "outputId": "508b8d69-5670-453a-c420-27943d6f3820",
        "colab": {
          "base_uri": "https://localhost:8080/",
          "height": 35
        }
      },
      "outputs": [
        {
          "output_type": "execute_result",
          "data": {
            "text/plain": [
              "'Advanced'"
            ],
            "application/vnd.google.colaboratory.intrinsic+json": {
              "type": "string"
            }
          },
          "metadata": {},
          "execution_count": 94
        }
      ],
      "source": [
        "C2.level"
      ]
    },
    {
      "cell_type": "code",
      "execution_count": 95,
      "metadata": {
        "id": "JyA7JeYcDplF",
        "outputId": "7cf80086-c85f-4b04-80c7-9fc98ca1168b",
        "colab": {
          "base_uri": "https://localhost:8080/"
        }
      },
      "outputs": [
        {
          "output_type": "execute_result",
          "data": {
            "text/plain": [
              "150100"
            ]
          },
          "metadata": {},
          "execution_count": 95
        }
      ],
      "source": [
        "C2.balance"
      ]
    },
    {
      "cell_type": "markdown",
      "metadata": {
        "id": "YDLKr8pTDplJ"
      },
      "source": [
        "In the case of our 'Client' class, we may want to update a person's bank account once they withdraw or deposit money. Let's create these methods below."
      ]
    },
    {
      "cell_type": "code",
      "execution_count": 96,
      "metadata": {
        "id": "mUGfk-oyDplK"
      },
      "outputs": [],
      "source": [
        "class Client:\n",
        "    def __init__(self, name, balance):\n",
        "        self.name = name\n",
        "        self.balance = balance + 100 #Add a bonus of 100 for new Clients\n",
        "        \n",
        "        #define account level\n",
        "        if self.balance < 5000:\n",
        "            self.level = \"Basic\"\n",
        "        elif self.balance < 15000:\n",
        "            self.level = \"Intermediate\"\n",
        "        else:\n",
        "            self.level = \"Advanced\"\n",
        "            \n",
        "    def deposit(self, amount):\n",
        "        self.balance += amount\n",
        "        return self.balance\n",
        "    \n",
        "    def withdraw(self, amount):\n",
        "        if amount > self.balance:\n",
        "            print(\"Insufficient for withdrawal\") \n",
        "        else:\n",
        "            self.balance -= amount\n",
        "        return self.balance"
      ]
    },
    {
      "cell_type": "code",
      "execution_count": 97,
      "metadata": {
        "id": "Sx9C2OpKDplL"
      },
      "outputs": [],
      "source": [
        "#(2) Instantiates Objects of the class\n",
        "C1 = Client(\"John Doe\", 500)\n",
        "C2 = Client(\"Jane Defoe\", 150000)"
      ]
    },
    {
      "cell_type": "code",
      "execution_count": 98,
      "metadata": {
        "id": "HqWfBSE3DplL",
        "outputId": "8f1601c2-3b5a-4f54-c464-a7db84a5ce91",
        "colab": {
          "base_uri": "https://localhost:8080/",
          "height": 35
        }
      },
      "outputs": [
        {
          "output_type": "execute_result",
          "data": {
            "text/plain": [
              "'Basic'"
            ],
            "application/vnd.google.colaboratory.intrinsic+json": {
              "type": "string"
            }
          },
          "metadata": {},
          "execution_count": 98
        }
      ],
      "source": [
        "C1.level"
      ]
    },
    {
      "cell_type": "code",
      "execution_count": 99,
      "metadata": {
        "jupyter": {
          "outputs_hidden": false
        },
        "id": "nSi3YF2xDplM",
        "outputId": "32422d60-2720-4026-eac3-a8fac0d47839",
        "colab": {
          "base_uri": "https://localhost:8080/"
        }
      },
      "outputs": [
        {
          "output_type": "execute_result",
          "data": {
            "text/plain": [
              "150600"
            ]
          },
          "metadata": {},
          "execution_count": 99
        }
      ],
      "source": [
        "C1.deposit(150000)"
      ]
    },
    {
      "cell_type": "code",
      "execution_count": 100,
      "metadata": {
        "id": "yttGh-tJDplM",
        "outputId": "0f9ff7dc-0709-4485-9cae-623f1020080f",
        "colab": {
          "base_uri": "https://localhost:8080/",
          "height": 35
        }
      },
      "outputs": [
        {
          "output_type": "execute_result",
          "data": {
            "text/plain": [
              "'Basic'"
            ],
            "application/vnd.google.colaboratory.intrinsic+json": {
              "type": "string"
            }
          },
          "metadata": {},
          "execution_count": 100
        }
      ],
      "source": [
        "C1.level"
      ]
    },
    {
      "cell_type": "markdown",
      "source": [
        "Level `Basic` is wrong, we have to repeat the part that defines the account level after each deposit:\n"
      ],
      "metadata": {
        "id": "tPlyIlpAk5S_"
      }
    },
    {
      "cell_type": "code",
      "execution_count": 101,
      "metadata": {
        "id": "jw8MUumKDplN"
      },
      "outputs": [],
      "source": [
        "class Client:\n",
        "    def __init__(self, name, balance):\n",
        "        self.name = name\n",
        "        self.balance = balance + 100\n",
        "        \n",
        "        # define account level \n",
        "        if self.balance < 5000: \n",
        "            self.level = \"Basic\"\n",
        "        elif self.balance < 15000:\n",
        "            self.level = \"Intermediate\"\n",
        "        else: \n",
        "            self.level = \"Advanced\"\n",
        "        \n",
        "    \n",
        "    def deposit(self, amount):\n",
        "            self.balance += amount         \n",
        "\n",
        "            if self.balance < 5000: \n",
        "                self.level = \"Basic\"\n",
        "            elif self.balance < 15000:\n",
        "                self.level = \"Intermediate\"\n",
        "            else: \n",
        "                self.level = \"Advanced\"\n",
        "            return self.balance\n",
        "        \n",
        "        \n",
        "    def withdraw(self, amount):\n",
        "            if amount > self.balance: \n",
        "                print(\"Insufficient for withdrawal\") \n",
        "            else: \n",
        "                self.balance -= amount\n",
        "            return self.balance"
      ]
    },
    {
      "cell_type": "markdown",
      "metadata": {
        "id": "ZtWPwF4xDplN"
      },
      "source": [
        "Is this already correct? No! Why?\n",
        "\n",
        "## Challenge: \n",
        "Can we write this Class in a more efficient way to adapt the level after a change of balance?"
      ]
    },
    {
      "cell_type": "code",
      "source": [],
      "metadata": {
        "id": "9dL2EsPGEs_h"
      },
      "execution_count": 101,
      "outputs": []
    },
    {
      "cell_type": "markdown",
      "metadata": {
        "id": "pmgbJqCvDplN"
      },
      "source": [
        "### Static Methods \n",
        "\n",
        "Static methods are methods that belong to a class but do not have access to *self* and hence don't require an instance to function (i.e. it will work on the class level as well as the instance level). \n",
        "\n",
        "We denote these with the line `@staticmethod` before we define our static method.\n",
        "\n",
        "Let's create a static method called make_money_sound() that will simply print \"Cha-ching!\" when called."
      ]
    },
    {
      "cell_type": "code",
      "execution_count": 102,
      "metadata": {
        "jupyter": {
          "outputs_hidden": false
        },
        "id": "n0lx2TGdDplO"
      },
      "outputs": [],
      "source": [
        "# (1) Define the class\n",
        "class Client:\n",
        "    def __init__(self, name, balance):\n",
        "        self.name = name\n",
        "        self.balance = balance + 100\n",
        "        self._set_level()\n",
        "\n",
        "    def _set_level(self):    \n",
        "        #define account level\n",
        "        if self.balance < 5000:\n",
        "            self.level = \"Basic\"\n",
        "        elif self.balance < 15000:\n",
        "            self.level = \"Intermediate\"\n",
        "        else:\n",
        "            self.level = \"Advanced\"\n",
        "    \n",
        "    def deposit(self, amount):\n",
        "        self.balance += amount\n",
        "        self._set_level()\n",
        "\n",
        "   \n",
        "    def withdraw(self, amount):\n",
        "        if amount > self.balance: \n",
        "            print(\"Insufficient for withdrawal\") \n",
        "        else: \n",
        "            self.balance -= amount\n",
        "            self._set_level()\n",
        "        return self.balance\n",
        "            \n",
        "    @staticmethod\n",
        "    def make_money_sound():\n",
        "        print(\"Cha-ching!\")"
      ]
    },
    {
      "cell_type": "code",
      "execution_count": 103,
      "metadata": {
        "jupyter": {
          "outputs_hidden": false
        },
        "id": "etKGck_SDplP"
      },
      "outputs": [],
      "source": [
        "#(2) Instantiates Objects of the class\n",
        "C1 = Client(\"John Doe\", 500)\n",
        "C2 = Client(\"Jane Defoe\", 150000)"
      ]
    },
    {
      "cell_type": "code",
      "execution_count": 104,
      "metadata": {
        "id": "uuAFZvKvDplP",
        "outputId": "ec7977b0-74c2-4674-d6bd-59aa54a9a96b",
        "colab": {
          "base_uri": "https://localhost:8080/"
        }
      },
      "outputs": [
        {
          "output_type": "stream",
          "name": "stdout",
          "text": [
            "Cha-ching!\n",
            "Cha-ching!\n"
          ]
        }
      ],
      "source": [
        "C1.make_money_sound()\n",
        "C2.make_money_sound()"
      ]
    },
    {
      "cell_type": "markdown",
      "metadata": {
        "id": "L4JswfXQDplI"
      },
      "source": [
        "### Class Attributes\n",
        "\n",
        "A class attribute is an attribute set at the class-level rather than the instance-level, such that the value of this attribute will be the same across all instances.\n",
        "\n",
        "For our *Client* class, we might want to set the name of the bank, and the location, which would not change from instance to instance."
      ]
    },
    {
      "cell_type": "code",
      "execution_count": 137,
      "metadata": {
        "id": "XjjZfjZVDplS"
      },
      "outputs": [],
      "source": [
        "#(1) Define the class\n",
        "class Client(object):\n",
        "    bank = \"TD\"\n",
        "    location = \"Toronto, ON\"\n",
        "    \n",
        "    def __init__(self, name, balance):\n",
        "        self.name = name\n",
        "        self.balance = balance + 100\n",
        "        self._set_level()\n",
        "\n",
        "    def _set_level(self):    \n",
        "        #define account level\n",
        "        if self.balance < 5000:\n",
        "            self.level = \"Basic\"\n",
        "        elif self.balance < 15000:\n",
        "            self.level = \"Intermediate\"\n",
        "        else:\n",
        "            self.level = \"Advanced\"\n",
        "    \n",
        "    def deposit(self, amount):\n",
        "        self.balance += amount\n",
        "        self._set_level()\n",
        "\n",
        "   \n",
        "    def withdraw(self, amount):\n",
        "        if amount > self.balance: \n",
        "            print(\"Insufficient for withdrawal\") \n",
        "        else: \n",
        "            self.balance -= amount\n",
        "            self._set_level()\n",
        "        return self.balance\n",
        "            \n",
        "    @staticmethod\n",
        "    def make_money_sound():\n",
        "        print(\"Cha-ching!\")"
      ]
    },
    {
      "cell_type": "code",
      "source": [
        "#(2) Instantiates Objects of the class\n",
        "C1 = Client(\"John Doe\", 500)\n",
        "C2 = Client(\"Jane Defoe\", 150000)"
      ],
      "metadata": {
        "id": "eTWGQTZQnWP_"
      },
      "execution_count": 138,
      "outputs": []
    },
    {
      "cell_type": "code",
      "source": [
        "print(C1.bank, C1.location)\n",
        "print(C2.bank, C2.location)"
      ],
      "metadata": {
        "colab": {
          "base_uri": "https://localhost:8080/"
        },
        "id": "mLAdpTHPnMhh",
        "outputId": "f845c6a6-6326-41b7-b004-9a467a38b25a"
      },
      "execution_count": 139,
      "outputs": [
        {
          "output_type": "stream",
          "name": "stdout",
          "text": [
            "TD Toronto, ON\n",
            "TD Toronto, ON\n"
          ]
        }
      ]
    },
    {
      "cell_type": "markdown",
      "metadata": {
        "id": "eQx6TO6fDplT"
      },
      "source": [
        "### Key Concept: Inheritance\n",
        "\n",
        "A 'child' class can be created from a 'parent' class, whereby the child will bring over attributes and methods that its parent has, but where new features can be created as well. \n",
        "\n",
        "This would be useful if you want to create multiple classes that would have some features that are kept the same between them. You would simply create a parent class of these children classes that have those maintained features.\n",
        "\n",
        "Imagine we want to create different types of clients but still have all the base attributes and methods found in client currently. \n",
        "\n",
        "For example, let's create a class called *Savings* that inherits from the *Client* class. In doing so, we do not need to write another `__init__` method as it will inherit this from its parent."
      ]
    },
    {
      "cell_type": "code",
      "execution_count": 140,
      "metadata": {
        "id": "5ocJCSArDplT"
      },
      "outputs": [],
      "source": [
        "# create the Savings class below\n",
        "class Savings(Client):\n",
        "    interest_rate = 0.005\n",
        "\n",
        "    def __init__(self, name, balance):\n",
        "        # Call the constructor of the parent class \n",
        "        Client.__init__(self, name, balance)\n",
        "    \n",
        "    def update_balance(self):\n",
        "        self.balance += self.balance*self.interest_rate\n",
        "        return self.balance"
      ]
    },
    {
      "cell_type": "code",
      "execution_count": 141,
      "metadata": {
        "id": "iJA0V1YNDplU"
      },
      "outputs": [],
      "source": [
        "# create an instance the same way as a Client but this time by calling Savings instead\n",
        "C3 = Savings(\"Tom Smith\", 50)"
      ]
    },
    {
      "cell_type": "code",
      "execution_count": 142,
      "metadata": {
        "jupyter": {
          "outputs_hidden": false
        },
        "id": "PN0DTdSbDplU",
        "outputId": "da827966-d668-4230-9514-caa3bc0a7b4a",
        "colab": {
          "base_uri": "https://localhost:8080/"
        }
      },
      "outputs": [
        {
          "output_type": "stream",
          "name": "stdout",
          "text": [
            "Tom Smith\n",
            "150\n",
            "0.005\n"
          ]
        }
      ],
      "source": [
        "# it now has access to the new attributes and methods in Savings...\n",
        "print(C3.name)\n",
        "print(C3.balance)\n",
        "print(C3.interest_rate)"
      ]
    },
    {
      "cell_type": "code",
      "execution_count": 143,
      "metadata": {
        "jupyter": {
          "outputs_hidden": false
        },
        "id": "Ei3cmdjuDplV",
        "outputId": "07056fb2-9d0d-4a5d-b93f-5586e4adaa83",
        "colab": {
          "base_uri": "https://localhost:8080/"
        }
      },
      "outputs": [
        {
          "output_type": "execute_result",
          "data": {
            "text/plain": [
              "150.75"
            ]
          },
          "metadata": {},
          "execution_count": 143
        }
      ],
      "source": [
        "# ...as well as access to attributes and methods from the Client class as well\n",
        "C3.update_balance()"
      ]
    },
    {
      "cell_type": "markdown",
      "metadata": {
        "id": "XGNcfCW0DplW"
      },
      "source": [
        "## Challenge 1:\n",
        "Extent the `Savings` Class in such a way that there are 3 different intrest rates:\n",
        "- 0.5% for Basic Customers\n",
        "- 0.7% for Intermediate Customers\n",
        "- 1.0% for Advanced Customers\n",
        "\n",
        "Test your `Savings` Class by instantiating objects with different balances and executing the `update_balance` method"
      ]
    },
    {
      "cell_type": "code",
      "source": [
        "class Savings(Client):\n",
        "    interest_rate = 0.005\n",
        "\n",
        "    def __init__(self, name, balance):\n",
        "        # Call the constructor of the parent class \n",
        "        Client.__init__(self, name, balance)\n",
        "    \n",
        "    def update_balance(self):\n",
        "        self.balance += self.balance*self.interest_rate\n",
        "        return self.balance"
      ],
      "metadata": {
        "id": "JmkuiYEOGhsa"
      },
      "execution_count": 144,
      "outputs": []
    },
    {
      "cell_type": "code",
      "source": [],
      "metadata": {
        "id": "FOw75SsMGkYC"
      },
      "execution_count": null,
      "outputs": []
    },
    {
      "cell_type": "markdown",
      "source": [
        "## Challenge 2:\n",
        "Create a child of the `Savings`-Class: `SavingsWithCredit`.\n",
        "Write the method `withdraw(self, amount)`, but instead of refusing payouts if the balance is not sufficient allow an overdraft as long as the balance will not below -5000. \n",
        "\n",
        "Instantiate a `SavingsWithCredit`-Object with an initial balace of 100 and then withdraw 1000 and execute the `update_balance`-Method. What happens?\n",
        "\n",
        "How could we implement an interest rate of 5% for credit?\n",
        "\n"
      ],
      "metadata": {
        "id": "1ddDWmo2CUHP"
      }
    },
    {
      "cell_type": "code",
      "source": [],
      "metadata": {
        "id": "g-aADA5eCTYz"
      },
      "execution_count": null,
      "outputs": []
    }
  ],
  "metadata": {
    "kernelspec": {
      "display_name": "Python 3",
      "language": "python",
      "name": "python3"
    },
    "language_info": {
      "codemirror_mode": {
        "name": "ipython",
        "version": 3
      },
      "file_extension": ".py",
      "mimetype": "text/x-python",
      "name": "python",
      "nbconvert_exporter": "python",
      "pygments_lexer": "ipython3",
      "version": "3.6.5"
    },
    "colab": {
      "provenance": [],
      "include_colab_link": true
    }
  },
  "nbformat": 4,
  "nbformat_minor": 0
}