{
  "cells": [
    {
      "cell_type": "markdown",
      "metadata": {
        "id": "view-in-github",
        "colab_type": "text"
      },
      "source": [
        "<a href=\"https://colab.research.google.com/github/jansoe/Lehre/blob/main/Object_oriented_programming2.ipynb\" target=\"_parent\"><img src=\"https://colab.research.google.com/assets/colab-badge.svg\" alt=\"Open In Colab\"/></a>"
      ]
    },
    {
      "cell_type": "markdown",
      "metadata": {
        "id": "nP8Z4n-YDpke"
      },
      "source": [
        "# Object Oriented Programming \n",
        "adapted from  https://github.com/UofTCoders/studyGroup/blob/gh-pages/lessons/python/classes/lesson.md and https://github.com/UofTCoders/studyGroup/blob/edit-events/lessons/python/object_oriented_programming/Object_oriented_programming.ipynb"
      ]
    },
    {
      "cell_type": "markdown",
      "metadata": {
        "id": "TIk_vocgDpki"
      },
      "source": [
        "\n",
        "Object Oriented Programming is an approach in programming in which properties and behaviors are bundled into individual *objects*.\n",
        "in real world, an object has some properties and functions: a car has color, model, engine type, etc. and can move, speed, brake, etc. or an email has recipient list, subject, body, etc., and behaviors like adding attachments and sending; or a person who has name, height, weight, address and can walk, talk, laugh, etc. \n",
        "\n",
        "We can have the same approach in desigining programs based on objects that represent both properties and functions that can be applied to those properties. \n",
        "\n",
        "## Classes in Python\n",
        "Each object is an instance of a class (each person is an instance of *human beings* class!) \n",
        "Class is a data structure that allows the user to define any needed properties and functions that the object will contain. So the objects are instances of an specific class. \n",
        "Like when Sara with 170 cm height and dark hair is an instance of human() class. \n",
        "\n",
        "so: \n",
        "\n",
        "- A class provides the form or structure\n",
        "- an Object is an instance of a class which has: \n",
        "    - features, that are called **attributes**\n",
        "    - functions, that are called **methods**"
      ]
    },
    {
      "cell_type": "markdown",
      "metadata": {
        "id": "Hxa2gYGODpk1"
      },
      "source": [
        "\n",
        "## Example 1: Student"
      ]
    },
    {
      "cell_type": "code",
      "execution_count": 7,
      "metadata": {
        "id": "ZB3pa9O7Dpk3"
      },
      "outputs": [],
      "source": [
        "class Student: \n",
        "    def __init__(self, fname,lname,ID,date_of_admission):\n",
        "        self.fname = fname\n",
        "        self.lname = lname\n",
        "        self.ID = ID\n",
        "        self.date_of_admission = date_of_admission\n",
        "        \n",
        "    def fullname(self):\n",
        "        print(self.fname,self.lname)\n",
        "    "
      ]
    },
    {
      "cell_type": "markdown",
      "metadata": {
        "id": "esI5TGLbDpk3"
      },
      "source": [
        "In this way, to fill in the objects of a class, we can give it the first name, last name, the ID, and the data of admission in order. "
      ]
    },
    {
      "cell_type": "code",
      "execution_count": 8,
      "metadata": {
        "id": "ncpp_FhmDpk4"
      },
      "outputs": [],
      "source": [
        "# let's fill in the same subjects' info \n",
        "S1 = Student(fname=\"Jane\",lname=\"Doe\",ID=111,date_of_admission=\"2019_01_01\")\n",
        "S2 = Student(\"John\",\"Smith\",112,\"2019_01_02\")"
      ]
    },
    {
      "cell_type": "code",
      "execution_count": 9,
      "metadata": {
        "id": "TS3JuKHrDpk5",
        "outputId": "e699016d-93ac-4412-9638-b4d1e6f991dd",
        "colab": {
          "base_uri": "https://localhost:8080/"
        }
      },
      "outputs": [
        {
          "output_type": "stream",
          "name": "stdout",
          "text": [
            "Jane Doe\n"
          ]
        }
      ],
      "source": [
        "# now the method 'fullname' should give the same info as before:\n",
        "S1.fullname()"
      ]
    },
    {
      "cell_type": "markdown",
      "metadata": {
        "id": "0wrZCyG8Dpk_"
      },
      "source": [
        "## Example 2: Bank Account\n",
        "Now let's work with another example: "
      ]
    },
    {
      "cell_type": "markdown",
      "metadata": {
        "id": "CpgqUrqXDpk_"
      },
      "source": [
        "Programing for a bank: Let's define a class called *Client* in which a new instance stores a client's name, balance, and account level."
      ]
    },
    {
      "cell_type": "code",
      "execution_count": 64,
      "metadata": {
        "id": "WLeMyxF7DplA"
      },
      "outputs": [],
      "source": [
        "# (1) create the Client class \n",
        "class Client:\n",
        "    def __init__(self, name, balance):\n",
        "        self.name = name\n",
        "        self.balance = balance + 100 #Add a bonus of 100 for new Clients\n",
        "        \n",
        "        #define account level\n",
        "        if self.balance < 5000:\n",
        "            self.level = \"Basic\"\n",
        "        elif self.balance < 15000:\n",
        "            self.level = \"Intermediate\"\n",
        "        else:\n",
        "            self.level = \"Advanced\""
      ]
    },
    {
      "cell_type": "markdown",
      "metadata": {
        "id": "vrR-eVyCDplD"
      },
      "source": [
        "Now, lets try creating some new clients named John_Doe, and Jane_Defoe (i.e. two instances of the 'Client' class, or two objects):\n"
      ]
    },
    {
      "cell_type": "code",
      "execution_count": 65,
      "metadata": {
        "id": "pBHQF0A2DplD"
      },
      "outputs": [],
      "source": [
        "#(2) Instantiates Objects of the Client class\n",
        "C1 = Client(\"John Doe\", 500)\n",
        "C2 = Client(\"Jane Defoe\", 150000)"
      ]
    },
    {
      "cell_type": "markdown",
      "metadata": {
        "id": "vW1aBRnzDplE"
      },
      "source": [
        "We can see the attributes of John_Doe, or Jane_Defoe by calling them:"
      ]
    },
    {
      "cell_type": "code",
      "execution_count": 66,
      "metadata": {
        "id": "cMkUCR7sDplE",
        "outputId": "7345d469-7c53-4711-da4c-45c9b7d7bde3",
        "colab": {
          "base_uri": "https://localhost:8080/",
          "height": 35
        }
      },
      "outputs": [
        {
          "output_type": "execute_result",
          "data": {
            "text/plain": [
              "'John Doe'"
            ],
            "application/vnd.google.colaboratory.intrinsic+json": {
              "type": "string"
            }
          },
          "metadata": {},
          "execution_count": 66
        }
      ],
      "source": [
        "C1.name"
      ]
    },
    {
      "cell_type": "code",
      "execution_count": 67,
      "metadata": {
        "id": "WcjfnwXnDplF",
        "outputId": "cd8a5d4d-a0af-4ed7-9638-171c4bc486c4",
        "colab": {
          "base_uri": "https://localhost:8080/",
          "height": 35
        }
      },
      "outputs": [
        {
          "output_type": "execute_result",
          "data": {
            "text/plain": [
              "'Advanced'"
            ],
            "application/vnd.google.colaboratory.intrinsic+json": {
              "type": "string"
            }
          },
          "metadata": {},
          "execution_count": 67
        }
      ],
      "source": [
        "C2.level"
      ]
    },
    {
      "cell_type": "code",
      "execution_count": 68,
      "metadata": {
        "id": "JyA7JeYcDplF",
        "outputId": "2ac32b95-6e09-4531-9f98-93d2915b42c5",
        "colab": {
          "base_uri": "https://localhost:8080/"
        }
      },
      "outputs": [
        {
          "output_type": "execute_result",
          "data": {
            "text/plain": [
              "150100"
            ]
          },
          "metadata": {},
          "execution_count": 68
        }
      ],
      "source": [
        "C2.balance"
      ]
    },
    {
      "cell_type": "markdown",
      "metadata": {
        "id": "YDLKr8pTDplJ"
      },
      "source": [
        "In the case of our 'Client' class, we may want to update a person's bank account once they withdraw or deposit money. Let's create these methods below."
      ]
    },
    {
      "cell_type": "code",
      "execution_count": 69,
      "metadata": {
        "id": "mUGfk-oyDplK"
      },
      "outputs": [],
      "source": [
        "class Client:\n",
        "    def __init__(self, name, balance):\n",
        "        self.name = name\n",
        "        self.balance = balance + 100 #Add a bonus of 100 for new Clients\n",
        "        \n",
        "        #define account level\n",
        "        if self.balance < 5000:\n",
        "            self.level = \"Basic\"\n",
        "        elif self.balance < 15000:\n",
        "            self.level = \"Intermediate\"\n",
        "        else:\n",
        "            self.level = \"Advanced\"\n",
        "            \n",
        "    def deposit(self, amount):\n",
        "        self.balance += amount\n",
        "        return self.balance\n",
        "    \n",
        "    def withdraw(self, amount):\n",
        "        if amount > self.balance:\n",
        "            print(\"Insufficient for withdrawal\") \n",
        "        else:\n",
        "            self.balance -= amount\n",
        "        return self.balance"
      ]
    },
    {
      "cell_type": "code",
      "execution_count": 70,
      "metadata": {
        "id": "Sx9C2OpKDplL"
      },
      "outputs": [],
      "source": [
        "#(2) Instantiates Objects of the class\n",
        "C1 = Client(\"John Doe\", 500)\n",
        "C2 = Client(\"Jane Defoe\", 150000)"
      ]
    },
    {
      "cell_type": "code",
      "execution_count": 71,
      "metadata": {
        "id": "HqWfBSE3DplL",
        "outputId": "37266565-dfae-4361-83a6-1756a3cd4ef4",
        "colab": {
          "base_uri": "https://localhost:8080/",
          "height": 35
        }
      },
      "outputs": [
        {
          "output_type": "execute_result",
          "data": {
            "text/plain": [
              "'Basic'"
            ],
            "application/vnd.google.colaboratory.intrinsic+json": {
              "type": "string"
            }
          },
          "metadata": {},
          "execution_count": 71
        }
      ],
      "source": [
        "C1.level"
      ]
    },
    {
      "cell_type": "code",
      "execution_count": 72,
      "metadata": {
        "jupyter": {
          "outputs_hidden": false
        },
        "id": "nSi3YF2xDplM",
        "outputId": "2b92c4f6-54e3-44f3-fd08-d94a072285b0",
        "colab": {
          "base_uri": "https://localhost:8080/"
        }
      },
      "outputs": [
        {
          "output_type": "execute_result",
          "data": {
            "text/plain": [
              "150600"
            ]
          },
          "metadata": {},
          "execution_count": 72
        }
      ],
      "source": [
        "C1.deposit(150000)"
      ]
    },
    {
      "cell_type": "code",
      "execution_count": 73,
      "metadata": {
        "id": "yttGh-tJDplM",
        "outputId": "3fb388b5-3f08-479b-b492-2dd6456ab54f",
        "colab": {
          "base_uri": "https://localhost:8080/",
          "height": 35
        }
      },
      "outputs": [
        {
          "output_type": "execute_result",
          "data": {
            "text/plain": [
              "'Basic'"
            ],
            "application/vnd.google.colaboratory.intrinsic+json": {
              "type": "string"
            }
          },
          "metadata": {},
          "execution_count": 73
        }
      ],
      "source": [
        "C1.level"
      ]
    },
    {
      "cell_type": "markdown",
      "source": [
        "Level `Basic` is wrong, we have to repeat the part that defines the account level after each deposit:\n"
      ],
      "metadata": {
        "id": "tPlyIlpAk5S_"
      }
    },
    {
      "cell_type": "code",
      "execution_count": 74,
      "metadata": {
        "id": "jw8MUumKDplN"
      },
      "outputs": [],
      "source": [
        "class Client:\n",
        "    def __init__(self, name, balance):\n",
        "        self.name = name\n",
        "        self.balance = balance + 100\n",
        "        \n",
        "        # define account level \n",
        "        if self.balance < 5000: \n",
        "            self.level = \"Basic\"\n",
        "        elif self.balance < 15000:\n",
        "            self.level = \"Intermediate\"\n",
        "        else: \n",
        "            self.level = \"Advanced\"\n",
        "        \n",
        "    \n",
        "    def deposit(self, amount):\n",
        "            self.balance += amount         \n",
        "\n",
        "            if self.balance < 5000: \n",
        "                self.level = \"Basic\"\n",
        "            elif self.balance < 15000:\n",
        "                self.level = \"Intermediate\"\n",
        "            else: \n",
        "                self.level = \"Advanced\"\n",
        "            return self.balance\n",
        "        \n",
        "        \n",
        "    def withdraw(self, amount):\n",
        "            if amount > self.balance: \n",
        "                print(\"Insufficient for withdrawal\") \n",
        "            else: \n",
        "                self.balance -= amount\n",
        "            return self.balance"
      ]
    },
    {
      "cell_type": "markdown",
      "metadata": {
        "id": "ZtWPwF4xDplN"
      },
      "source": [
        "Is this already correct? No! Why?\n",
        "\n",
        "## Challenge: \n",
        "Can we write this Class in a more efficient way to adapt the level after a change of balance?"
      ]
    },
    {
      "cell_type": "code",
      "source": [],
      "metadata": {
        "id": "9dL2EsPGEs_h"
      },
      "execution_count": 74,
      "outputs": []
    },
    {
      "cell_type": "markdown",
      "metadata": {
        "id": "pmgbJqCvDplN"
      },
      "source": [
        "### Static Methods \n",
        "\n",
        "Static methods are methods that belong to a class but do not have access to *self* and hence don't require an instance to function (i.e. it will work on the class level as well as the instance level). \n",
        "\n",
        "We denote these with the line `@staticmethod` before we define our static method.\n",
        "\n",
        "Let's create a static method called make_money_sound() that will simply print \"Cha-ching!\" when called."
      ]
    },
    {
      "cell_type": "code",
      "execution_count": 75,
      "metadata": {
        "jupyter": {
          "outputs_hidden": false
        },
        "id": "n0lx2TGdDplO"
      },
      "outputs": [],
      "source": [
        "# (1) Define the class\n",
        "class Client:\n",
        "    def __init__(self, name, balance):\n",
        "        self.name = name\n",
        "        self.balance = balance + 100\n",
        "        self._set_level()\n",
        "\n",
        "    def _set_level(self):    \n",
        "        #define account level\n",
        "        if self.balance < 5000:\n",
        "            self.level = \"Basic\"\n",
        "        elif self.balance < 15000:\n",
        "            self.level = \"Intermediate\"\n",
        "        else:\n",
        "            self.level = \"Advanced\"\n",
        "    \n",
        "    def deposit(self, amount):\n",
        "        self.balance += amount\n",
        "        self._set_level()\n",
        "\n",
        "   \n",
        "    def withdraw(self, amount):\n",
        "        if amount > self.balance: \n",
        "            print(\"Insufficient for withdrawal\") \n",
        "        else: \n",
        "            self.balance -= amount\n",
        "            self._set_level()\n",
        "        return self.balance\n",
        "            \n",
        "    @staticmethod\n",
        "    def make_money_sound():\n",
        "        print(\"Cha-ching!\")"
      ]
    },
    {
      "cell_type": "code",
      "execution_count": 76,
      "metadata": {
        "jupyter": {
          "outputs_hidden": false
        },
        "id": "etKGck_SDplP"
      },
      "outputs": [],
      "source": [
        "#(2) Instantiates Objects of the class\n",
        "C1 = Client(\"John Doe\", 500)\n",
        "C2 = Client(\"Jane Defoe\", 150000)"
      ]
    },
    {
      "cell_type": "code",
      "execution_count": 77,
      "metadata": {
        "id": "uuAFZvKvDplP",
        "outputId": "b6c00fa9-4b6d-4c41-a865-09645d96b335",
        "colab": {
          "base_uri": "https://localhost:8080/"
        }
      },
      "outputs": [
        {
          "output_type": "stream",
          "name": "stdout",
          "text": [
            "Cha-ching!\n",
            "Cha-ching!\n"
          ]
        }
      ],
      "source": [
        "C1.make_money_sound()\n",
        "C2.make_money_sound()"
      ]
    },
    {
      "cell_type": "markdown",
      "metadata": {
        "id": "L4JswfXQDplI"
      },
      "source": [
        "### Class Attributes\n",
        "\n",
        "A class attribute is an attribute set at the class-level rather than the instance-level, such that the value of this attribute will be the same across all instances.\n",
        "\n",
        "For our *Client* class, we might want to set the name of the bank, and the location, which would not change from instance to instance."
      ]
    },
    {
      "cell_type": "code",
      "execution_count": 78,
      "metadata": {
        "id": "XjjZfjZVDplS"
      },
      "outputs": [],
      "source": [
        "#(1) Define the class\n",
        "class Client(object):\n",
        "    bank = \"TD\"\n",
        "    location = \"Toronto, ON\"\n",
        "    \n",
        "    def __init__(self, name, balance):\n",
        "        self.name = name\n",
        "        self.balance = balance + 100\n",
        "        self._set_level()\n",
        "\n",
        "    def _set_level(self):    \n",
        "        #define account level\n",
        "        if self.balance < 5000:\n",
        "            self.level = \"Basic\"\n",
        "        elif self.balance < 15000:\n",
        "            self.level = \"Intermediate\"\n",
        "        else:\n",
        "            self.level = \"Advanced\"\n",
        "    \n",
        "    def deposit(self, amount):\n",
        "        self.balance += amount\n",
        "        self._set_level()\n",
        "\n",
        "   \n",
        "    def withdraw(self, amount):\n",
        "        if amount > self.balance: \n",
        "            print(\"Insufficient for withdrawal\") \n",
        "        else: \n",
        "            self.balance -= amount\n",
        "            self._set_level()\n",
        "        return self.balance\n",
        "            \n",
        "    @staticmethod\n",
        "    def make_money_sound():\n",
        "        print(\"Cha-ching!\")"
      ]
    },
    {
      "cell_type": "code",
      "source": [
        "#(2) Instantiates Objects of the class\n",
        "C1 = Client(\"John Doe\", 500)\n",
        "C2 = Client(\"Jane Defoe\", 150000)"
      ],
      "metadata": {
        "id": "eTWGQTZQnWP_"
      },
      "execution_count": 79,
      "outputs": []
    },
    {
      "cell_type": "code",
      "source": [
        "print(C1.bank)\n",
        "print(C2.bank)"
      ],
      "metadata": {
        "id": "mLAdpTHPnMhh",
        "outputId": "12f34ad1-c747-4274-e3af-966605f87d41",
        "colab": {
          "base_uri": "https://localhost:8080/"
        }
      },
      "execution_count": 80,
      "outputs": [
        {
          "output_type": "stream",
          "name": "stdout",
          "text": [
            "TD\n",
            "TD\n"
          ]
        }
      ]
    },
    {
      "cell_type": "markdown",
      "metadata": {
        "id": "L3lNm59nDplP"
      },
      "source": [
        "### Class Methods\n",
        "\n",
        "A class method is a type of method that will receive the class rather than the instance as the first parameter. It is also identified similarly to a static method, with `@classmethod`.\n",
        "\n",
        "E.g. a class method called bank_location() that prints both the bank name and location when called upon the class."
      ]
    },
    {
      "cell_type": "code",
      "execution_count": 83,
      "metadata": {
        "id": "u7ey7R4iDplP"
      },
      "outputs": [],
      "source": [
        "#(1) Define the class\n",
        "class Client:\n",
        "    bank = \"TD\"\n",
        "    location = \"Toronto, ON\"\n",
        "    \n",
        "    def __init__(self, name, balance):\n",
        "        self.name = name\n",
        "        self.balance = balance + 100\n",
        "        self._set_level()\n",
        "\n",
        "    def _set_level(self):    \n",
        "        #define account level\n",
        "        if self.balance < 5000:\n",
        "            self.level = \"Basic\"\n",
        "        elif self.balance < 15000:\n",
        "            self.level = \"Intermediate\"\n",
        "        else:\n",
        "            self.level = \"Advanced\"\n",
        "    \n",
        "    def deposit(self, amount):\n",
        "        self.balance += amount\n",
        "        self._set_level()\n",
        "\n",
        "   \n",
        "    def withdraw(self, amount):\n",
        "        if amount > self.balance: \n",
        "            print(\"Insufficient for withdrawal\") \n",
        "        else: \n",
        "            self.balance -= amount\n",
        "            self._set_level()\n",
        "        return self.balance\n",
        "            \n",
        "    @staticmethod\n",
        "    def make_money_sound():\n",
        "        print(\"Cha-ching!\")\n",
        "    \n",
        "    @classmethod \n",
        "    def bank_location(cls):\n",
        "        return str(cls.bank + \" \" + cls.location)"
      ]
    },
    {
      "cell_type": "code",
      "source": [
        "#(2) Instantiates Objects of the class\n",
        "C1 = Client(\"John Doe\", 500)\n",
        "C2 = Client(\"Jane Defoe\", 150000)"
      ],
      "metadata": {
        "id": "lBejj5UTo_LM"
      },
      "execution_count": 86,
      "outputs": []
    },
    {
      "cell_type": "code",
      "execution_count": 87,
      "metadata": {
        "id": "XWSBZzBqDplS",
        "outputId": "32fe558f-3db9-44b5-bbfa-e7cff2223e54",
        "colab": {
          "base_uri": "https://localhost:8080/",
          "height": 35
        }
      },
      "outputs": [
        {
          "output_type": "execute_result",
          "data": {
            "text/plain": [
              "'TD Toronto, ON'"
            ],
            "application/vnd.google.colaboratory.intrinsic+json": {
              "type": "string"
            }
          },
          "metadata": {},
          "execution_count": 87
        }
      ],
      "source": [
        "pint(C1.bank_location()\n",
        "C2.bank_location()"
      ]
    },
    {
      "cell_type": "markdown",
      "metadata": {
        "id": "eQx6TO6fDplT"
      },
      "source": [
        "### Key Concept: Inheritance\n",
        "\n",
        "A 'child' class can be created from a 'parent' class, whereby the child will bring over attributes and methods that its parent has, but where new features can be created as well. \n",
        "\n",
        "This would be useful if you want to create multiple classes that would have some features that are kept the same between them. You would simply create a parent class of these children classes that have those maintained features.\n",
        "\n",
        "Imagine we want to create different types of clients but still have all the base attributes and methods found in client currently. \n",
        "\n",
        "For example, let's create a class called *Savings* that inherits from the *Client* class. In doing so, we do not need to write another `__init__` method as it will inherit this from its parent."
      ]
    },
    {
      "cell_type": "code",
      "execution_count": null,
      "metadata": {
        "id": "5ocJCSArDplT"
      },
      "outputs": [],
      "source": [
        "# create the Savings class below\n",
        "class Savings(Client):\n",
        "    interest_rate = 0.005\n",
        "    \n",
        "    def update_balance(self):\n",
        "        self.balance += self.balance*self.interest_rate\n",
        "        return self.balance\n"
      ]
    },
    {
      "cell_type": "code",
      "execution_count": null,
      "metadata": {
        "id": "iJA0V1YNDplU"
      },
      "outputs": [],
      "source": [
        "# create an instance the same way as a Client but this time by calling Savings instead\n",
        "C3 = Savings(\"Tom Smith\", 50)"
      ]
    },
    {
      "cell_type": "code",
      "execution_count": null,
      "metadata": {
        "jupyter": {
          "outputs_hidden": false
        },
        "id": "PN0DTdSbDplU",
        "outputId": "ccdc60f9-c5d2-4029-b9ba-fe22e7f66181"
      },
      "outputs": [
        {
          "name": "stdout",
          "output_type": "stream",
          "text": [
            "Tom Smith\n",
            "150\n",
            "0.005\n"
          ]
        }
      ],
      "source": [
        "# it now has access to the new attributes and methods in Savings...\n",
        "print(C3.name)\n",
        "print(C3.balance)\n",
        "print(C3.interest_rate)"
      ]
    },
    {
      "cell_type": "code",
      "execution_count": null,
      "metadata": {
        "jupyter": {
          "outputs_hidden": false
        },
        "id": "Ei3cmdjuDplV",
        "outputId": "d37f5a9e-e0af-447e-d531-6be3d3b888df"
      },
      "outputs": [
        {
          "data": {
            "text/plain": [
              "150.75"
            ]
          },
          "execution_count": 20,
          "metadata": {},
          "output_type": "execute_result"
        }
      ],
      "source": [
        "# ...as well as access to attributes and methods from the Client class as well\n",
        "C3.update_balance()"
      ]
    },
    {
      "cell_type": "code",
      "execution_count": null,
      "metadata": {
        "jupyter": {
          "outputs_hidden": false
        },
        "id": "Rvh89y6vDplV"
      },
      "outputs": [],
      "source": [
        "#defining a method outside the class definition\n",
        "def check_balance(self):\n",
        "    return self.balance\n",
        "\n",
        "Client.check_balance = check_balance"
      ]
    },
    {
      "cell_type": "code",
      "execution_count": null,
      "metadata": {
        "jupyter": {
          "outputs_hidden": false
        },
        "id": "5xkVEmqnDplV",
        "outputId": "42ff414b-1eb5-4139-85ea-40136139fe59"
      },
      "outputs": [
        {
          "data": {
            "text/plain": [
              "150.75"
            ]
          },
          "execution_count": 23,
          "metadata": {},
          "output_type": "execute_result"
        }
      ],
      "source": [
        "C3.check_balance()"
      ]
    },
    {
      "cell_type": "code",
      "execution_count": null,
      "metadata": {
        "id": "r_-pvjdgDplV",
        "outputId": "16efb873-1c4e-4a63-d560-2d2eaa279e62"
      },
      "outputs": [
        {
          "data": {
            "text/plain": [
              "150100"
            ]
          },
          "execution_count": 26,
          "metadata": {},
          "output_type": "execute_result"
        }
      ],
      "source": [
        "C2.check_balance()"
      ]
    },
    {
      "cell_type": "markdown",
      "metadata": {
        "id": "XGNcfCW0DplW"
      },
      "source": [
        "## Challenge:\n",
        "make a child for Savings Class that doubles the amount of savings and adds 2 more dollars. "
      ]
    }
  ],
  "metadata": {
    "kernelspec": {
      "display_name": "Python 3",
      "language": "python",
      "name": "python3"
    },
    "language_info": {
      "codemirror_mode": {
        "name": "ipython",
        "version": 3
      },
      "file_extension": ".py",
      "mimetype": "text/x-python",
      "name": "python",
      "nbconvert_exporter": "python",
      "pygments_lexer": "ipython3",
      "version": "3.6.5"
    },
    "colab": {
      "provenance": [],
      "include_colab_link": true
    }
  },
  "nbformat": 4,
  "nbformat_minor": 0
}