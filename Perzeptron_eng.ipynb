{
  "nbformat": 4,
  "nbformat_minor": 0,
  "metadata": {
    "colab": {
      "provenance": [],
      "include_colab_link": true
    },
    "kernelspec": {
      "name": "python3",
      "display_name": "Python 3"
    }
  },
  "cells": [
    {
      "cell_type": "markdown",
      "metadata": {
        "id": "view-in-github",
        "colab_type": "text"
      },
      "source": [
        "<a href=\"https://colab.research.google.com/github/jansoe/Lehre/blob/main/Perzeptron_eng.ipynb\" target=\"_parent\"><img src=\"https://colab.research.google.com/assets/colab-badge.svg\" alt=\"Open In Colab\"/></a>"
      ]
    },
    {
      "cell_type": "markdown",
      "metadata": {
        "id": "ybLcVYSTk3UB"
      },
      "source": [
        "# The Perzeptron\n",
        "#### imports\n"
      ]
    },
    {
      "cell_type": "code",
      "metadata": {
        "id": "_As7IcqMMcXx"
      },
      "source": [
        "import time\n",
        "import numpy as np\n",
        "import matplotlib.pyplot as plt\n",
        "\n",
        "# adjusting visual output\n",
        "from matplotlib import rcParams\n",
        "rcParams['figure.figsize'] = (5, 5)\n",
        "rcParams['axes.grid'] = False"
      ],
      "execution_count": 64,
      "outputs": []
    },
    {
      "cell_type": "markdown",
      "source": [
        "## Simulation of a dataset to learn and predict\n",
        "\n",
        "First we simulate a dataset to test our algorithm\n",
        "\n",
        "* There are 2 classes/categories\n",
        "  * Every class hat 2 properties"
      ],
      "metadata": {
        "id": "unxJhULvcnDT"
      }
    },
    {
      "cell_type": "code",
      "metadata": {
        "id": "sg-el3ghOQ7g"
      },
      "source": [
        "n_datapoint = 30 # number of samples\n",
        "separation = 1 # how strong are the 2 classes seperated\n",
        "random_seed = 40"
      ],
      "execution_count": 65,
      "outputs": []
    },
    {
      "cell_type": "code",
      "metadata": {
        "id": "qR-QnvYONNsE",
        "cellView": "form",
        "colab": {
          "base_uri": "https://localhost:8080/",
          "height": 465
        },
        "outputId": "36c27e7c-5109-4654-fd4e-3f612fbb4591"
      },
      "source": [
        "#@markdown hidden code, please execute (code generates a dataset) \n",
        "\n",
        "np.random.seed(random_seed)\n",
        "\n",
        "# generate data\n",
        "data = np.random.rand(n_datapoint,2)\n",
        "targets = 1.*(np.random.rand(n_datapoint)<0.5)\n",
        "data[targets==1, 0] += separation\n",
        "data[targets==1, 1] += 0.5*separation\n",
        "\n",
        "# function to plot the data\n",
        "def plot_data(data, targets, ax):\n",
        "    \n",
        "    ax.plot(data[targets==0,0], data[targets==0,1], 'o', label='class 0')\n",
        "    ax.plot(data[targets==1,0], data[targets==1,1], 'o', label='class 1')\n",
        "\n",
        "    minval = data.min()\n",
        "    maxval = data.max()\n",
        "    lim = [0.95*minval,1.05*maxval]    \n",
        "    plt.ylim(lim)\n",
        "    plt.xlim(lim)\n",
        "    plt.xlabel(\"property 1\")\n",
        "    plt.ylabel(\"property 2\")\n",
        "    \n",
        "    return lim\n",
        "\n",
        "# plot the data    \n",
        "fig, ax = plt.subplots(figsize=(5,5))\n",
        "_ = plot_data(data, targets, ax)\n",
        "_ = plt.legend(bbox_to_anchor=(1.05, 1))"
      ],
      "execution_count": 66,
      "outputs": [
        {
          "output_type": "display_data",
          "data": {
            "text/plain": [
              "<Figure size 500x500 with 1 Axes>"
            ],
            "image/png": "[encoded data removed]"
          },
          "metadata": {}
        }
      ]
    },
    {
      "cell_type": "markdown",
      "source": [
        "## Perceptron"
      ],
      "metadata": {
        "id": "B0rfQ6ms1FAZ"
      }
    },
    {
      "cell_type": "markdown",
      "source": [
        "### Definition\n",
        "\n",
        "**Start executing here for a restart of the perceptron learning**\n",
        "\n",
        "We define a perceptron which assings each 2d-input vector `x` to a class (either 0 or 1) depending on its parameter `w0, w1, theta`."
      ],
      "metadata": {
        "id": "4VrH4s1BPoit"
      }
    },
    {
      "cell_type": "code",
      "source": [
        "def perceptron(x, w0, w1, theta):\n",
        "    activation = x[0]*w0 + x[1]*w1 + theta\n",
        "    output = int(activation > 0)\n",
        "    return output"
      ],
      "metadata": {
        "id": "bxQX4pq-1AhT"
      },
      "execution_count": 67,
      "outputs": []
    },
    {
      "cell_type": "markdown",
      "source": [
        "for a randomly choosen parameter set ..."
      ],
      "metadata": {
        "id": "OiOys5Rw2ENe"
      }
    },
    {
      "cell_type": "code",
      "metadata": {
        "id": "Y9clliLcPIJb"
      },
      "source": [
        "w1 = 1\n",
        "w0 = 0\n",
        "theta = -1\n",
        "\n",
        "num_updates =  0"
      ],
      "execution_count": 68,
      "outputs": []
    },
    {
      "cell_type": "markdown",
      "source": [
        "... the perceptron gives us a class:"
      ],
      "metadata": {
        "id": "ruK4_NFP2NDK"
      }
    },
    {
      "cell_type": "code",
      "source": [
        "x = [0, 0.5]\n",
        "perceptron(x, w0, w1, theta)"
      ],
      "metadata": {
        "colab": {
          "base_uri": "https://localhost:8080/"
        },
        "id": "Wkf4c7g-2X71",
        "outputId": "935e1ac3-b503-4da4-c564-8addbb6e7bb4"
      },
      "execution_count": 69,
      "outputs": [
        {
          "output_type": "execute_result",
          "data": {
            "text/plain": [
              "0"
            ]
          },
          "metadata": {},
          "execution_count": 69
        }
      ]
    },
    {
      "cell_type": "markdown",
      "source": [
        "That is, with the perceptron we can classify each point in our property space"
      ],
      "metadata": {
        "id": "qR6rXMvj2r5E"
      }
    },
    {
      "cell_type": "code",
      "metadata": {
        "id": "RmBdYZLEPbMz",
        "cellView": "form",
        "colab": {
          "base_uri": "https://localhost:8080/",
          "height": 465
        },
        "outputId": "62074412-da8f-4be3-db34-a383e57ea1fb"
      },
      "source": [
        "#@title\n",
        "#@markdown ... Visualisation of the classification ...\n",
        "\n",
        "import time\n",
        "import matplotlib\n",
        "from google.colab import widgets\n",
        "\n",
        "def plot_boundary(w0, w1, theta, lim, ax, background = True,  **kwargs):\n",
        "    \"\"\" plot the decision boundary paramterized by w and theta within the bounds\n",
        "        of a square described by lim.\"\"\"\n",
        "    \n",
        "    if (w0==0) and (w1==0):\n",
        "        x0 = lim\n",
        "        x1 = [theta, theta] \n",
        "    elif w1 == 0:\n",
        "        # senkrecht\n",
        "        x0 = [-theta/w0]*2\n",
        "        x1 = [lim]  \n",
        "    else:\n",
        "        x0 = lim\n",
        "        #x1 = [(x*w0/w1 + theta) for x in x0]\n",
        "        x1 = [(-x*w0 - theta)/w1 for x in x0]\n",
        "    \n",
        "    ax.plot(x0, x1, 'k', **kwargs)\n",
        "    plt.xlim(lim)\n",
        "    \n",
        "    class_00=perceptron((x0[0], x0[0]), w0, w1, theta),\n",
        "    if background:\n",
        "        mi, ma = x0 \n",
        "        b_x0, b_x1 = x1\n",
        "        #color1 = 'b' if w0 < w1 else 'r'\n",
        "        #color2 = 'r' if color1 == 'b' else 'b'\n",
        "        color1 = 'b' if (class_00 and (b_x0 <0)) else 'r'\n",
        "        color2 = 'r' if color1 == 'b' else 'b'\n",
        "        area_0 = matplotlib.patches.Polygon(\n",
        "            [(mi, b_x0), (ma, b_x1), (ma, ma), (mi, ma), (mi, b_x0)],\n",
        "            #[(x0[0], x1[0]), (x0[1], x1[1]), \n",
        "            #(x0[1], x0[0]), (x0[0], x0[0]), \n",
        "            #(x0[0], x1[1]), (x0[0], x0[1]),\n",
        "            #],\n",
        "            alpha=0.2, color=color1\n",
        "        )\n",
        "        area_1 = matplotlib.patches.Polygon(\n",
        "            [(mi, b_x0), (ma, b_x1), (ma, mi), (mi, mi), (mi, b_x0)],\n",
        "            #[(x0[1], x0[1]), (x0[0], x0[1]), (x0[0], x1[0]), \n",
        "            #(x0[1], x1[1]), (x0[1], x0[0]), (x0[1], x1[0])],\n",
        "            alpha=0.2, color=color2\n",
        "        )\n",
        "        plt.gca().add_patch(area_0)\n",
        "        plt.gca().add_patch(area_1)\n",
        "\n",
        "\n",
        "class TrennebenenPlotter():\n",
        "\n",
        "    def __init__(self, data, targets, w0, w1, theta):\n",
        "\n",
        "        self.data = data\n",
        "        self.targets = targets\n",
        "        self.w0_old = w0\n",
        "        self.w1_old = w1\n",
        "        self.theta_old = theta\n",
        "\n",
        "\n",
        "    def plot_update(self, datenpunkt, w0, w1, theta, old=True):\n",
        "        \n",
        "        fig, ax = plt.subplots(figsize=(5,5))\n",
        "        lim = plot_data(self.data, self.targets, ax)\n",
        "        plot_boundary(w0, w1, theta, lim, ax, label='decision boundary after update')\n",
        "\n",
        "        if old:\n",
        "            plot_boundary(\n",
        "                self.w0_old, self.w1_old, self.theta_old, lim, ax, \n",
        "                background = False, alpha=0.2, label='decision boundary before'\n",
        "            )\n",
        "            ax.plot(datenpunkt[0], datenpunkt[1], 'or', markersize = 10, mfc='none')\n",
        "            _ = plt.legend(bbox_to_anchor=(1.05, 1))\n",
        "\n",
        "        # we save the old values to visualize later\n",
        "        self.w0_old = w0\n",
        "        self.w1_old = w1\n",
        "        self.theta_old = theta\n",
        "\n",
        "\n",
        "vis = TrennebenenPlotter(data, targets, w0, w1, theta)\n",
        "fig, ax = plt.subplots(figsize = (5,5))\n",
        "lim = plot_data(data, targets, ax)\n",
        "_ = plot_boundary(w0,  w1, theta, lim, ax, \n",
        "    label=\"current decision boundary\")\n",
        "_ = plt.legend(bbox_to_anchor=(1.05, 1))\n"
      ],
      "execution_count": 70,
      "outputs": [
        {
          "output_type": "display_data",
          "data": {
            "text/plain": [
              "<Figure size 500x500 with 1 Axes>"
            ],
            "image/png": "[encoded data removed]"
          },
          "metadata": {}
        }
      ]
    },
    {
      "cell_type": "markdown",
      "source": [
        "### Learning"
      ],
      "metadata": {
        "id": "nojfxPbEPP18"
      }
    },
    {
      "cell_type": "code",
      "source": [
        "steps = 200 # Learning steps: how many datapoints are updated   \n",
        "learnrate = 0.1 # How strong is an update\n",
        "\n",
        "wait_time = 2 # Time between plotting the next update (to be able to better follow)"
      ],
      "metadata": {
        "id": "Ywobu9DXrsOU"
      },
      "execution_count": 71,
      "outputs": []
    },
    {
      "cell_type": "markdown",
      "source": [
        "The following implements the learning rule. Once a wrongly classified datapoint is found, an update is performed and visualized "
      ],
      "metadata": {
        "id": "SBaS-Avy6fKZ"
      }
    },
    {
      "cell_type": "code",
      "metadata": {
        "id": "A50cEqo8QGL6",
        "colab": {
          "base_uri": "https://localhost:8080/",
          "height": 490
        },
        "outputId": "be92f6ed-b3cc-4682-e3df-22805172c6e9"
      },
      "source": [
        "grid = widgets.Grid(1, 1, header_row=False, header_column=False)\n",
        "for i in range(steps):\n",
        "\n",
        "    # choose the next datapoint\n",
        "    data_point = data[num_updates%len(data)]\n",
        "    target_output = targets[num_updates%len(data)]\n",
        "\n",
        "    # calculate the output\n",
        "    perceptron_output = perceptron(data_point, w0, w1, theta)\n",
        "\n",
        "    # and compare with the target output\n",
        "    error = target_output - perceptron_output \n",
        "\n",
        "    if error != 0:\n",
        "        # decrease/increase output if output was to big/small\n",
        "        # change is proportional to influence of the dimension to the output value\n",
        "        w0 = w0 + learnrate * error * data_point[0]\n",
        "        w1 = w1 + learnrate * error * data_point[1]   \n",
        "        theta = theta + learnrate * error\n",
        "\n",
        "        # only visualitation\n",
        "        with grid.output_to(0, 0):\n",
        "            grid.clear_cell()\n",
        "            vis.plot_update(data_point, w0, w1, theta)\n",
        "            plt.title('updates '+str(num_updates))\n",
        "            plt.show()\n",
        "        if steps > 1:\n",
        "            time.sleep(wait_time)\n",
        "\n",
        "    num_updates += 1\n",
        "\n",
        "\n",
        "with grid.output_to(0, 0):\n",
        "    grid.clear_cell()\n",
        "    vis.plot_update(data_point, w0, w1, theta, old=False)\n",
        "    plt.title('updates '+str(num_updates))"
      ],
      "execution_count": 72,
      "outputs": [
        {
          "output_type": "display_data",
          "data": {
            "text/plain": [
              "<IPython.core.display.HTML object>"
            ],
            "text/html": [
              "<style>\n",
              "       table#id18, #id18 > tbody > tr > th, #id18 > tbody > tr > td {\n",
              "         border: 1px solid lightgray;\n",
              "         border-collapse:collapse;\n",
              "         \n",
              "        }</style>"
            ]
          },
          "metadata": {}
        },
        {
          "output_type": "display_data",
          "data": {
            "text/plain": [
              "<IPython.core.display.HTML object>"
            ],
            "text/html": [
              "<table id=id18><tr><td id=id18-0-0></td></tr></table>"
            ]
          },
          "metadata": {}
        },
        {
          "output_type": "display_data",
          "data": {
            "text/plain": [
              "<IPython.core.display.Javascript object>"
            ],
            "application/javascript": [
              "window[\"3993f36e-0392-11ee-8949-0242ac1c000c\"] = google.colab.output.getActiveOutputArea();\n",
              "//# sourceURL=js_74fc75bbae"
            ]
          },
          "metadata": {}
        },
        {
          "output_type": "display_data",
          "data": {
            "text/plain": [
              "<IPython.core.display.Javascript object>"
            ],
            "application/javascript": [
              "window[\"39943ed2-0392-11ee-8949-0242ac1c000c\"] = document.querySelector(\"#id18-0-0\");\n",
              "//# sourceURL=js_5042ee9bad"
            ]
          },
          "metadata": {}
        },
        {
          "output_type": "display_data",
          "data": {
            "text/plain": [
              "<IPython.core.display.Javascript object>"
            ],
            "application/javascript": [
              "window[\"399485ea-0392-11ee-8949-0242ac1c000c\"] = google.colab.output.setActiveOutputArea(window[\"39943ed2-0392-11ee-8949-0242ac1c000c\"]);\n",
              "//# sourceURL=js_d67a0014d8"
            ]
          },
          "metadata": {}
        },
        {
          "output_type": "display_data",
          "data": {
            "text/plain": [
              "<IPython.core.display.Javascript object>"
            ],
            "application/javascript": [
              "window[\"39c31c48-0392-11ee-8949-0242ac1c000c\"] = google.colab.output.setActiveOutputArea(window[\"3993f36e-0392-11ee-8949-0242ac1c000c\"]);\n",
              "//# sourceURL=js_acaef771a3"
            ]
          },
          "metadata": {}
        },
        {
          "output_type": "display_data",
          "data": {
            "text/plain": [
              "<IPython.core.display.Javascript object>"
            ],
            "application/javascript": [
              "window[\"3af78dec-0392-11ee-8949-0242ac1c000c\"] = google.colab.output.getActiveOutputArea();\n",
              "//# sourceURL=js_f56cb71491"
            ]
          },
          "metadata": {}
        },
        {
          "output_type": "display_data",
          "data": {
            "text/plain": [
              "<IPython.core.display.Javascript object>"
            ],
            "application/javascript": [
              "window[\"3af7deaa-0392-11ee-8949-0242ac1c000c\"] = document.querySelector(\"#id18-0-0\");\n",
              "//# sourceURL=js_e086785d2e"
            ]
          },
          "metadata": {}
        },
        {
          "output_type": "display_data",
          "data": {
            "text/plain": [
              "<IPython.core.display.Javascript object>"
            ],
            "application/javascript": [
              "window[\"3af8327e-0392-11ee-8949-0242ac1c000c\"] = google.colab.output.setActiveOutputArea(window[\"3af7deaa-0392-11ee-8949-0242ac1c000c\"]);\n",
              "//# sourceURL=js_8979d5362f"
            ]
          },
          "metadata": {}
        },
        {
          "output_type": "display_data",
          "data": {
            "text/plain": [
              "<IPython.core.display.Javascript object>"
            ],
            "application/javascript": [
              "window[\"3b2926c2-0392-11ee-8949-0242ac1c000c\"] = google.colab.output.setActiveOutputArea(window[\"3af78dec-0392-11ee-8949-0242ac1c000c\"]);\n",
              "//# sourceURL=js_2ead1760fd"
            ]
          },
          "metadata": {}
        },
        {
          "output_type": "display_data",
          "data": {
            "text/plain": [
              "<IPython.core.display.Javascript object>"
            ],
            "application/javascript": [
              "window[\"3c5d23cc-0392-11ee-8949-0242ac1c000c\"] = google.colab.output.getActiveOutputArea();\n",
              "//# sourceURL=js_d4cc3b7fe7"
            ]
          },
          "metadata": {}
        },
        {
          "output_type": "display_data",
          "data": {
            "text/plain": [
              "<IPython.core.display.Javascript object>"
            ],
            "application/javascript": [
              "window[\"3c5e0a12-0392-11ee-8949-0242ac1c000c\"] = document.querySelector(\"#id18-0-0\");\n",
              "//# sourceURL=js_eba75aeb5b"
            ]
          },
          "metadata": {}
        },
        {
          "output_type": "display_data",
          "data": {
            "text/plain": [
              "<IPython.core.display.Javascript object>"
            ],
            "application/javascript": [
              "window[\"3c5e6732-0392-11ee-8949-0242ac1c000c\"] = google.colab.output.setActiveOutputArea(window[\"3c5e0a12-0392-11ee-8949-0242ac1c000c\"]);\n",
              "//# sourceURL=js_f1fb5ffd13"
            ]
          },
          "metadata": {}
        },
        {
          "output_type": "display_data",
          "data": {
            "text/plain": [
              "<IPython.core.display.Javascript object>"
            ],
            "application/javascript": [
              "window[\"3c8f65da-0392-11ee-8949-0242ac1c000c\"] = google.colab.output.setActiveOutputArea(window[\"3c5d23cc-0392-11ee-8949-0242ac1c000c\"]);\n",
              "//# sourceURL=js_1aa7abbf3e"
            ]
          },
          "metadata": {}
        },
        {
          "output_type": "display_data",
          "data": {
            "text/plain": [
              "<IPython.core.display.Javascript object>"
            ],
            "application/javascript": [
              "window[\"3dc2d964-0392-11ee-8949-0242ac1c000c\"] = google.colab.output.getActiveOutputArea();\n",
              "//# sourceURL=js_5366d5a5df"
            ]
          },
          "metadata": {}
        },
        {
          "output_type": "display_data",
          "data": {
            "text/plain": [
              "<IPython.core.display.Javascript object>"
            ],
            "application/javascript": [
              "window[\"3dc3862a-0392-11ee-8949-0242ac1c000c\"] = document.querySelector(\"#id18-0-0\");\n",
              "//# sourceURL=js_dc0dc42712"
            ]
          },
          "metadata": {}
        },
        {
          "output_type": "display_data",
          "data": {
            "text/plain": [
              "<IPython.core.display.Javascript object>"
            ],
            "application/javascript": [
              "window[\"3dc3fa60-0392-11ee-8949-0242ac1c000c\"] = google.colab.output.setActiveOutputArea(window[\"3dc3862a-0392-11ee-8949-0242ac1c000c\"]);\n",
              "//# sourceURL=js_6c1891f491"
            ]
          },
          "metadata": {}
        },
        {
          "output_type": "display_data",
          "data": {
            "text/plain": [
              "<IPython.core.display.Javascript object>"
            ],
            "application/javascript": [
              "window[\"3df4e5d0-0392-11ee-8949-0242ac1c000c\"] = google.colab.output.setActiveOutputArea(window[\"3dc2d964-0392-11ee-8949-0242ac1c000c\"]);\n",
              "//# sourceURL=js_b1eaab8f0d"
            ]
          },
          "metadata": {}
        },
        {
          "output_type": "display_data",
          "data": {
            "text/plain": [
              "<IPython.core.display.Javascript object>"
            ],
            "application/javascript": [
              "window[\"3f2af192-0392-11ee-8949-0242ac1c000c\"] = google.colab.output.getActiveOutputArea();\n",
              "//# sourceURL=js_e392df2cf7"
            ]
          },
          "metadata": {}
        },
        {
          "output_type": "display_data",
          "data": {
            "text/plain": [
              "<IPython.core.display.Javascript object>"
            ],
            "application/javascript": [
              "window[\"3f2b5146-0392-11ee-8949-0242ac1c000c\"] = document.querySelector(\"#id18-0-0\");\n",
              "//# sourceURL=js_8d8ed8a6e0"
            ]
          },
          "metadata": {}
        },
        {
          "output_type": "display_data",
          "data": {
            "text/plain": [
              "<IPython.core.display.Javascript object>"
            ],
            "application/javascript": [
              "window[\"3f2bb528-0392-11ee-8949-0242ac1c000c\"] = google.colab.output.setActiveOutputArea(window[\"3f2b5146-0392-11ee-8949-0242ac1c000c\"]);\n",
              "//# sourceURL=js_11a59ddfad"
            ]
          },
          "metadata": {}
        },
        {
          "output_type": "display_data",
          "data": {
            "text/plain": [
              "<IPython.core.display.Javascript object>"
            ],
            "application/javascript": [
              "window[\"3f5ba166-0392-11ee-8949-0242ac1c000c\"] = google.colab.output.setActiveOutputArea(window[\"3f2af192-0392-11ee-8949-0242ac1c000c\"]);\n",
              "//# sourceURL=js_79d5aa0791"
            ]
          },
          "metadata": {}
        },
        {
          "output_type": "display_data",
          "data": {
            "text/plain": [
              "<IPython.core.display.Javascript object>"
            ],
            "application/javascript": [
              "window[\"408f1e82-0392-11ee-8949-0242ac1c000c\"] = google.colab.output.getActiveOutputArea();\n",
              "//# sourceURL=js_11f0975a27"
            ]
          },
          "metadata": {}
        },
        {
          "output_type": "display_data",
          "data": {
            "text/plain": [
              "<IPython.core.display.Javascript object>"
            ],
            "application/javascript": [
              "window[\"408f807a-0392-11ee-8949-0242ac1c000c\"] = document.querySelector(\"#id18-0-0\");\n",
              "//# sourceURL=js_cbb1813ce8"
            ]
          },
          "metadata": {}
        },
        {
          "output_type": "display_data",
          "data": {
            "text/plain": [
              "<IPython.core.display.Javascript object>"
            ],
            "application/javascript": [
              "window[\"408fe4ca-0392-11ee-8949-0242ac1c000c\"] = google.colab.output.setActiveOutputArea(window[\"408f807a-0392-11ee-8949-0242ac1c000c\"]);\n",
              "//# sourceURL=js_2338332bb4"
            ]
          },
          "metadata": {}
        },
        {
          "output_type": "display_data",
          "data": {
            "text/plain": [
              "<IPython.core.display.Javascript object>"
            ],
            "application/javascript": [
              "window[\"40c09e26-0392-11ee-8949-0242ac1c000c\"] = google.colab.output.setActiveOutputArea(window[\"408f1e82-0392-11ee-8949-0242ac1c000c\"]);\n",
              "//# sourceURL=js_51b33a1fbb"
            ]
          },
          "metadata": {}
        },
        {
          "output_type": "display_data",
          "data": {
            "text/plain": [
              "<IPython.core.display.Javascript object>"
            ],
            "application/javascript": [
              "window[\"41f5adcc-0392-11ee-8949-0242ac1c000c\"] = google.colab.output.getActiveOutputArea();\n",
              "//# sourceURL=js_efc7f04522"
            ]
          },
          "metadata": {}
        },
        {
          "output_type": "display_data",
          "data": {
            "text/plain": [
              "<IPython.core.display.Javascript object>"
            ],
            "application/javascript": [
              "window[\"41f615a0-0392-11ee-8949-0242ac1c000c\"] = document.querySelector(\"#id18-0-0\");\n",
              "//# sourceURL=js_48472b26ac"
            ]
          },
          "metadata": {}
        },
        {
          "output_type": "display_data",
          "data": {
            "text/plain": [
              "<IPython.core.display.Javascript object>"
            ],
            "application/javascript": [
              "window[\"41f669a6-0392-11ee-8949-0242ac1c000c\"] = google.colab.output.setActiveOutputArea(window[\"41f615a0-0392-11ee-8949-0242ac1c000c\"]);\n",
              "//# sourceURL=js_1144667acd"
            ]
          },
          "metadata": {}
        },
        {
          "output_type": "display_data",
          "data": {
            "text/plain": [
              "<IPython.core.display.Javascript object>"
            ],
            "application/javascript": [
              "window[\"42260da0-0392-11ee-8949-0242ac1c000c\"] = google.colab.output.setActiveOutputArea(window[\"41f5adcc-0392-11ee-8949-0242ac1c000c\"]);\n",
              "//# sourceURL=js_32d91dd312"
            ]
          },
          "metadata": {}
        },
        {
          "output_type": "display_data",
          "data": {
            "text/plain": [
              "<IPython.core.display.Javascript object>"
            ],
            "application/javascript": [
              "window[\"43598972-0392-11ee-8949-0242ac1c000c\"] = google.colab.output.getActiveOutputArea();\n",
              "//# sourceURL=js_743546bd40"
            ]
          },
          "metadata": {}
        },
        {
          "output_type": "display_data",
          "data": {
            "text/plain": [
              "<IPython.core.display.Javascript object>"
            ],
            "application/javascript": [
              "window[\"4359c6ee-0392-11ee-8949-0242ac1c000c\"] = document.querySelector(\"#id18-0-0\");\n",
              "//# sourceURL=js_3e2a07b86d"
            ]
          },
          "metadata": {}
        },
        {
          "output_type": "display_data",
          "data": {
            "text/plain": [
              "<IPython.core.display.Javascript object>"
            ],
            "application/javascript": [
              "window[\"435a00e6-0392-11ee-8949-0242ac1c000c\"] = google.colab.output.setActiveOutputArea(window[\"4359c6ee-0392-11ee-8949-0242ac1c000c\"]);\n",
              "//# sourceURL=js_44e66647e1"
            ]
          },
          "metadata": {}
        },
        {
          "output_type": "display_data",
          "data": {
            "text/plain": [
              "<IPython.core.display.Javascript object>"
            ],
            "application/javascript": [
              "window[\"4389e734-0392-11ee-8949-0242ac1c000c\"] = google.colab.output.setActiveOutputArea(window[\"43598972-0392-11ee-8949-0242ac1c000c\"]);\n",
              "//# sourceURL=js_557356096d"
            ]
          },
          "metadata": {}
        },
        {
          "output_type": "display_data",
          "data": {
            "text/plain": [
              "<IPython.core.display.Javascript object>"
            ],
            "application/javascript": [
              "window[\"44bd6ca2-0392-11ee-8949-0242ac1c000c\"] = google.colab.output.getActiveOutputArea();\n",
              "//# sourceURL=js_6d2b214dc5"
            ]
          },
          "metadata": {}
        },
        {
          "output_type": "display_data",
          "data": {
            "text/plain": [
              "<IPython.core.display.Javascript object>"
            ],
            "application/javascript": [
              "window[\"44bdc698-0392-11ee-8949-0242ac1c000c\"] = document.querySelector(\"#id18-0-0\");\n",
              "//# sourceURL=js_e4fe3e1457"
            ]
          },
          "metadata": {}
        },
        {
          "output_type": "display_data",
          "data": {
            "text/plain": [
              "<IPython.core.display.Javascript object>"
            ],
            "application/javascript": [
              "window[\"44beabda-0392-11ee-8949-0242ac1c000c\"] = google.colab.output.setActiveOutputArea(window[\"44bdc698-0392-11ee-8949-0242ac1c000c\"]);\n",
              "//# sourceURL=js_252da46e62"
            ]
          },
          "metadata": {}
        },
        {
          "output_type": "display_data",
          "data": {
            "text/plain": [
              "<IPython.core.display.Javascript object>"
            ],
            "application/javascript": [
              "window[\"44ffeff0-0392-11ee-8949-0242ac1c000c\"] = google.colab.output.setActiveOutputArea(window[\"44bd6ca2-0392-11ee-8949-0242ac1c000c\"]);\n",
              "//# sourceURL=js_1a8c60a52d"
            ]
          },
          "metadata": {}
        },
        {
          "output_type": "display_data",
          "data": {
            "text/plain": [
              "<IPython.core.display.Javascript object>"
            ],
            "application/javascript": [
              "window[\"46335560-0392-11ee-8949-0242ac1c000c\"] = google.colab.output.getActiveOutputArea();\n",
              "//# sourceURL=js_0e03787cd3"
            ]
          },
          "metadata": {}
        },
        {
          "output_type": "display_data",
          "data": {
            "text/plain": [
              "<IPython.core.display.Javascript object>"
            ],
            "application/javascript": [
              "window[\"4633c05e-0392-11ee-8949-0242ac1c000c\"] = document.querySelector(\"#id18-0-0\");\n",
              "//# sourceURL=js_fd7047adf0"
            ]
          },
          "metadata": {}
        },
        {
          "output_type": "display_data",
          "data": {
            "text/plain": [
              "<IPython.core.display.Javascript object>"
            ],
            "application/javascript": [
              "window[\"46340398-0392-11ee-8949-0242ac1c000c\"] = google.colab.output.setActiveOutputArea(window[\"4633c05e-0392-11ee-8949-0242ac1c000c\"]);\n",
              "//# sourceURL=js_963a65936a"
            ]
          },
          "metadata": {}
        },
        {
          "output_type": "display_data",
          "data": {
            "text/plain": [
              "<IPython.core.display.Javascript object>"
            ],
            "application/javascript": [
              "window[\"46645412-0392-11ee-8949-0242ac1c000c\"] = google.colab.output.setActiveOutputArea(window[\"46335560-0392-11ee-8949-0242ac1c000c\"]);\n",
              "//# sourceURL=js_8fd41e7488"
            ]
          },
          "metadata": {}
        },
        {
          "output_type": "display_data",
          "data": {
            "text/plain": [
              "<IPython.core.display.Javascript object>"
            ],
            "application/javascript": [
              "window[\"4797599c-0392-11ee-8949-0242ac1c000c\"] = google.colab.output.getActiveOutputArea();\n",
              "//# sourceURL=js_217c09140b"
            ]
          },
          "metadata": {}
        },
        {
          "output_type": "display_data",
          "data": {
            "text/plain": [
              "<IPython.core.display.Javascript object>"
            ],
            "application/javascript": [
              "window[\"4797ab36-0392-11ee-8949-0242ac1c000c\"] = document.querySelector(\"#id18-0-0\");\n",
              "//# sourceURL=js_0d357ed27e"
            ]
          },
          "metadata": {}
        },
        {
          "output_type": "display_data",
          "data": {
            "text/plain": [
              "<IPython.core.display.Javascript object>"
            ],
            "application/javascript": [
              "window[\"4797fe10-0392-11ee-8949-0242ac1c000c\"] = google.colab.output.setActiveOutputArea(window[\"4797ab36-0392-11ee-8949-0242ac1c000c\"]);\n",
              "//# sourceURL=js_d12a17246b"
            ]
          },
          "metadata": {}
        },
        {
          "output_type": "display_data",
          "data": {
            "text/plain": [
              "<IPython.core.display.Javascript object>"
            ],
            "application/javascript": [
              "window[\"47cae528-0392-11ee-8949-0242ac1c000c\"] = google.colab.output.setActiveOutputArea(window[\"4797599c-0392-11ee-8949-0242ac1c000c\"]);\n",
              "//# sourceURL=js_21e28f5a16"
            ]
          },
          "metadata": {}
        },
        {
          "output_type": "display_data",
          "data": {
            "text/plain": [
              "<IPython.core.display.Javascript object>"
            ],
            "application/javascript": [
              "window[\"48fecac2-0392-11ee-8949-0242ac1c000c\"] = google.colab.output.getActiveOutputArea();\n",
              "//# sourceURL=js_41e6aa7f4f"
            ]
          },
          "metadata": {}
        },
        {
          "output_type": "display_data",
          "data": {
            "text/plain": [
              "<IPython.core.display.Javascript object>"
            ],
            "application/javascript": [
              "window[\"48ff71e8-0392-11ee-8949-0242ac1c000c\"] = document.querySelector(\"#id18-0-0\");\n",
              "//# sourceURL=js_2a9335a67b"
            ]
          },
          "metadata": {}
        },
        {
          "output_type": "display_data",
          "data": {
            "text/plain": [
              "<IPython.core.display.Javascript object>"
            ],
            "application/javascript": [
              "window[\"48ffceea-0392-11ee-8949-0242ac1c000c\"] = google.colab.output.setActiveOutputArea(window[\"48ff71e8-0392-11ee-8949-0242ac1c000c\"]);\n",
              "//# sourceURL=js_e99931a5ee"
            ]
          },
          "metadata": {}
        },
        {
          "output_type": "display_data",
          "data": {
            "text/plain": [
              "<IPython.core.display.Javascript object>"
            ],
            "application/javascript": [
              "window[\"4940c2ec-0392-11ee-8949-0242ac1c000c\"] = google.colab.output.setActiveOutputArea(window[\"48fecac2-0392-11ee-8949-0242ac1c000c\"]);\n",
              "//# sourceURL=js_d63fcd23ff"
            ]
          },
          "metadata": {}
        },
        {
          "output_type": "display_data",
          "data": {
            "text/plain": [
              "<IPython.core.display.Javascript object>"
            ],
            "application/javascript": [
              "window[\"4a7501c8-0392-11ee-8949-0242ac1c000c\"] = google.colab.output.getActiveOutputArea();\n",
              "//# sourceURL=js_8fbc81d76d"
            ]
          },
          "metadata": {}
        },
        {
          "output_type": "display_data",
          "data": {
            "text/plain": [
              "<IPython.core.display.Javascript object>"
            ],
            "application/javascript": [
              "window[\"4a75586c-0392-11ee-8949-0242ac1c000c\"] = document.querySelector(\"#id18-0-0\");\n",
              "//# sourceURL=js_e2e8b53393"
            ]
          },
          "metadata": {}
        },
        {
          "output_type": "display_data",
          "data": {
            "text/plain": [
              "<IPython.core.display.Javascript object>"
            ],
            "application/javascript": [
              "window[\"4a75accc-0392-11ee-8949-0242ac1c000c\"] = google.colab.output.setActiveOutputArea(window[\"4a75586c-0392-11ee-8949-0242ac1c000c\"]);\n",
              "//# sourceURL=js_a8a57b86f5"
            ]
          },
          "metadata": {}
        },
        {
          "output_type": "display_data",
          "data": {
            "text/plain": [
              "<IPython.core.display.Javascript object>"
            ],
            "application/javascript": [
              "window[\"4aa7317a-0392-11ee-8949-0242ac1c000c\"] = google.colab.output.setActiveOutputArea(window[\"4a7501c8-0392-11ee-8949-0242ac1c000c\"]);\n",
              "//# sourceURL=js_7e4359f0bb"
            ]
          },
          "metadata": {}
        },
        {
          "output_type": "display_data",
          "data": {
            "text/plain": [
              "<IPython.core.display.Javascript object>"
            ],
            "application/javascript": [
              "window[\"4bdbf1ac-0392-11ee-8949-0242ac1c000c\"] = google.colab.output.getActiveOutputArea();\n",
              "//# sourceURL=js_5f02dcf0f7"
            ]
          },
          "metadata": {}
        },
        {
          "output_type": "display_data",
          "data": {
            "text/plain": [
              "<IPython.core.display.Javascript object>"
            ],
            "application/javascript": [
              "window[\"4bdc4da0-0392-11ee-8949-0242ac1c000c\"] = document.querySelector(\"#id18-0-0\");\n",
              "//# sourceURL=js_3342884844"
            ]
          },
          "metadata": {}
        },
        {
          "output_type": "display_data",
          "data": {
            "text/plain": [
              "<IPython.core.display.Javascript object>"
            ],
            "application/javascript": [
              "window[\"4bdce922-0392-11ee-8949-0242ac1c000c\"] = google.colab.output.setActiveOutputArea(window[\"4bdc4da0-0392-11ee-8949-0242ac1c000c\"]);\n",
              "//# sourceURL=js_a58fa18653"
            ]
          },
          "metadata": {}
        },
        {
          "output_type": "display_data",
          "data": {
            "text/plain": [
              "<IPython.core.display.Javascript object>"
            ],
            "application/javascript": [
              "window[\"4c0db692-0392-11ee-8949-0242ac1c000c\"] = google.colab.output.setActiveOutputArea(window[\"4bdbf1ac-0392-11ee-8949-0242ac1c000c\"]);\n",
              "//# sourceURL=js_45fea614a6"
            ]
          },
          "metadata": {}
        },
        {
          "output_type": "display_data",
          "data": {
            "text/plain": [
              "<IPython.core.display.Javascript object>"
            ],
            "application/javascript": [
              "window[\"4d416022-0392-11ee-8949-0242ac1c000c\"] = google.colab.output.getActiveOutputArea();\n",
              "//# sourceURL=js_449e05a97f"
            ]
          },
          "metadata": {}
        },
        {
          "output_type": "display_data",
          "data": {
            "text/plain": [
              "<IPython.core.display.Javascript object>"
            ],
            "application/javascript": [
              "window[\"4d419d62-0392-11ee-8949-0242ac1c000c\"] = document.querySelector(\"#id18-0-0\");\n",
              "//# sourceURL=js_fb1b89668a"
            ]
          },
          "metadata": {}
        },
        {
          "output_type": "display_data",
          "data": {
            "text/plain": [
              "<IPython.core.display.Javascript object>"
            ],
            "application/javascript": [
              "window[\"4d41eccc-0392-11ee-8949-0242ac1c000c\"] = google.colab.output.setActiveOutputArea(window[\"4d419d62-0392-11ee-8949-0242ac1c000c\"]);\n",
              "//# sourceURL=js_a4a55601db"
            ]
          },
          "metadata": {}
        },
        {
          "output_type": "display_data",
          "data": {
            "text/plain": [
              "<IPython.core.display.Javascript object>"
            ],
            "application/javascript": [
              "window[\"4d721960-0392-11ee-8949-0242ac1c000c\"] = google.colab.output.setActiveOutputArea(window[\"4d416022-0392-11ee-8949-0242ac1c000c\"]);\n",
              "//# sourceURL=js_f6d52ffd7c"
            ]
          },
          "metadata": {}
        },
        {
          "output_type": "display_data",
          "data": {
            "text/plain": [
              "<IPython.core.display.Javascript object>"
            ],
            "application/javascript": [
              "window[\"4ea5a19e-0392-11ee-8949-0242ac1c000c\"] = google.colab.output.getActiveOutputArea();\n",
              "//# sourceURL=js_d497ed1eff"
            ]
          },
          "metadata": {}
        },
        {
          "output_type": "display_data",
          "data": {
            "text/plain": [
              "<IPython.core.display.Javascript object>"
            ],
            "application/javascript": [
              "window[\"4ea5fb1c-0392-11ee-8949-0242ac1c000c\"] = document.querySelector(\"#id18-0-0\");\n",
              "//# sourceURL=js_0de4b94faf"
            ]
          },
          "metadata": {}
        },
        {
          "output_type": "display_data",
          "data": {
            "text/plain": [
              "<IPython.core.display.Javascript object>"
            ],
            "application/javascript": [
              "window[\"4ea66fc0-0392-11ee-8949-0242ac1c000c\"] = google.colab.output.setActiveOutputArea(window[\"4ea5fb1c-0392-11ee-8949-0242ac1c000c\"]);\n",
              "//# sourceURL=js_93b1fadbf4"
            ]
          },
          "metadata": {}
        },
        {
          "output_type": "display_data",
          "data": {
            "text/plain": [
              "<IPython.core.display.Javascript object>"
            ],
            "application/javascript": [
              "window[\"4ed553ee-0392-11ee-8949-0242ac1c000c\"] = google.colab.output.setActiveOutputArea(window[\"4ea5a19e-0392-11ee-8949-0242ac1c000c\"]);\n",
              "//# sourceURL=js_70d434b2d9"
            ]
          },
          "metadata": {}
        },
        {
          "output_type": "display_data",
          "data": {
            "text/plain": [
              "<IPython.core.display.Javascript object>"
            ],
            "application/javascript": [
              "window[\"5008f31a-0392-11ee-8949-0242ac1c000c\"] = google.colab.output.getActiveOutputArea();\n",
              "//# sourceURL=js_81bbf92a22"
            ]
          },
          "metadata": {}
        },
        {
          "output_type": "display_data",
          "data": {
            "text/plain": [
              "<IPython.core.display.Javascript object>"
            ],
            "application/javascript": [
              "window[\"50097524-0392-11ee-8949-0242ac1c000c\"] = document.querySelector(\"#id18-0-0\");\n",
              "//# sourceURL=js_55dca5681b"
            ]
          },
          "metadata": {}
        },
        {
          "output_type": "display_data",
          "data": {
            "text/plain": [
              "<IPython.core.display.Javascript object>"
            ],
            "application/javascript": [
              "window[\"5009ce8e-0392-11ee-8949-0242ac1c000c\"] = google.colab.output.setActiveOutputArea(window[\"50097524-0392-11ee-8949-0242ac1c000c\"]);\n",
              "//# sourceURL=js_cb204d6054"
            ]
          },
          "metadata": {}
        },
        {
          "output_type": "display_data",
          "data": {
            "text/plain": [
              "<IPython.core.display.Javascript object>"
            ],
            "application/javascript": [
              "window[\"504b118c-0392-11ee-8949-0242ac1c000c\"] = google.colab.output.setActiveOutputArea(window[\"5008f31a-0392-11ee-8949-0242ac1c000c\"]);\n",
              "//# sourceURL=js_6a91ceb991"
            ]
          },
          "metadata": {}
        },
        {
          "output_type": "display_data",
          "data": {
            "text/plain": [
              "<IPython.core.display.Javascript object>"
            ],
            "application/javascript": [
              "window[\"517e9718-0392-11ee-8949-0242ac1c000c\"] = google.colab.output.getActiveOutputArea();\n",
              "//# sourceURL=js_89ae99f81f"
            ]
          },
          "metadata": {}
        },
        {
          "output_type": "display_data",
          "data": {
            "text/plain": [
              "<IPython.core.display.Javascript object>"
            ],
            "application/javascript": [
              "window[\"517f1b7a-0392-11ee-8949-0242ac1c000c\"] = document.querySelector(\"#id18-0-0\");\n",
              "//# sourceURL=js_8e5ef014a1"
            ]
          },
          "metadata": {}
        },
        {
          "output_type": "display_data",
          "data": {
            "text/plain": [
              "<IPython.core.display.Javascript object>"
            ],
            "application/javascript": [
              "window[\"517f7624-0392-11ee-8949-0242ac1c000c\"] = google.colab.output.setActiveOutputArea(window[\"517f1b7a-0392-11ee-8949-0242ac1c000c\"]);\n",
              "//# sourceURL=js_80dafe889e"
            ]
          },
          "metadata": {}
        },
        {
          "output_type": "display_data",
          "data": {
            "text/plain": [
              "<IPython.core.display.Javascript object>"
            ],
            "application/javascript": [
              "window[\"51ae9198-0392-11ee-8949-0242ac1c000c\"] = google.colab.output.setActiveOutputArea(window[\"517e9718-0392-11ee-8949-0242ac1c000c\"]);\n",
              "//# sourceURL=js_d8e62d25f3"
            ]
          },
          "metadata": {}
        },
        {
          "output_type": "display_data",
          "data": {
            "text/plain": [
              "<IPython.core.display.Javascript object>"
            ],
            "application/javascript": [
              "window[\"52e1ec9a-0392-11ee-8949-0242ac1c000c\"] = google.colab.output.getActiveOutputArea();\n",
              "//# sourceURL=js_e71450a541"
            ]
          },
          "metadata": {}
        },
        {
          "output_type": "display_data",
          "data": {
            "text/plain": [
              "<IPython.core.display.Javascript object>"
            ],
            "application/javascript": [
              "window[\"52e250c2-0392-11ee-8949-0242ac1c000c\"] = document.querySelector(\"#id18-0-0\");\n",
              "//# sourceURL=js_ab786d2567"
            ]
          },
          "metadata": {}
        },
        {
          "output_type": "display_data",
          "data": {
            "text/plain": [
              "<IPython.core.display.Javascript object>"
            ],
            "application/javascript": [
              "window[\"52e2b300-0392-11ee-8949-0242ac1c000c\"] = google.colab.output.setActiveOutputArea(window[\"52e250c2-0392-11ee-8949-0242ac1c000c\"]);\n",
              "//# sourceURL=js_052f043932"
            ]
          },
          "metadata": {}
        },
        {
          "output_type": "display_data",
          "data": {
            "text/plain": [
              "<IPython.core.display.Javascript object>"
            ],
            "application/javascript": [
              "window[\"5313eb00-0392-11ee-8949-0242ac1c000c\"] = google.colab.output.setActiveOutputArea(window[\"52e1ec9a-0392-11ee-8949-0242ac1c000c\"]);\n",
              "//# sourceURL=js_9188f30eaa"
            ]
          },
          "metadata": {}
        },
        {
          "output_type": "display_data",
          "data": {
            "text/plain": [
              "<IPython.core.display.Javascript object>"
            ],
            "application/javascript": [
              "window[\"54476aba-0392-11ee-8949-0242ac1c000c\"] = google.colab.output.getActiveOutputArea();\n",
              "//# sourceURL=js_a3cf5818cb"
            ]
          },
          "metadata": {}
        },
        {
          "output_type": "display_data",
          "data": {
            "text/plain": [
              "<IPython.core.display.Javascript object>"
            ],
            "application/javascript": [
              "window[\"5447c7ee-0392-11ee-8949-0242ac1c000c\"] = document.querySelector(\"#id18-0-0\");\n",
              "//# sourceURL=js_fa21f5da8b"
            ]
          },
          "metadata": {}
        },
        {
          "output_type": "display_data",
          "data": {
            "text/plain": [
              "<IPython.core.display.Javascript object>"
            ],
            "application/javascript": [
              "window[\"54481ae6-0392-11ee-8949-0242ac1c000c\"] = google.colab.output.setActiveOutputArea(window[\"5447c7ee-0392-11ee-8949-0242ac1c000c\"]);\n",
              "//# sourceURL=js_f9f874d8b7"
            ]
          },
          "metadata": {}
        },
        {
          "output_type": "display_data",
          "data": {
            "text/plain": [
              "<IPython.core.display.Javascript object>"
            ],
            "application/javascript": [
              "window[\"5479aeee-0392-11ee-8949-0242ac1c000c\"] = google.colab.output.setActiveOutputArea(window[\"54476aba-0392-11ee-8949-0242ac1c000c\"]);\n",
              "//# sourceURL=js_3f650c234f"
            ]
          },
          "metadata": {}
        },
        {
          "output_type": "display_data",
          "data": {
            "text/plain": [
              "<IPython.core.display.Javascript object>"
            ],
            "application/javascript": [
              "window[\"55ae7b28-0392-11ee-8949-0242ac1c000c\"] = google.colab.output.getActiveOutputArea();\n",
              "//# sourceURL=js_85254ae68a"
            ]
          },
          "metadata": {}
        },
        {
          "output_type": "display_data",
          "data": {
            "text/plain": [
              "<IPython.core.display.Javascript object>"
            ],
            "application/javascript": [
              "window[\"55aedfa0-0392-11ee-8949-0242ac1c000c\"] = document.querySelector(\"#id18-0-0\");\n",
              "//# sourceURL=js_9994a755ad"
            ]
          },
          "metadata": {}
        },
        {
          "output_type": "display_data",
          "data": {
            "text/plain": [
              "<IPython.core.display.Javascript object>"
            ],
            "application/javascript": [
              "window[\"55af3a04-0392-11ee-8949-0242ac1c000c\"] = google.colab.output.setActiveOutputArea(window[\"55aedfa0-0392-11ee-8949-0242ac1c000c\"]);\n",
              "//# sourceURL=js_a2a8a8fdb8"
            ]
          },
          "metadata": {}
        },
        {
          "output_type": "display_data",
          "data": {
            "text/plain": [
              "<IPython.core.display.Javascript object>"
            ],
            "application/javascript": [
              "window[\"55dfc8a4-0392-11ee-8949-0242ac1c000c\"] = google.colab.output.setActiveOutputArea(window[\"55ae7b28-0392-11ee-8949-0242ac1c000c\"]);\n",
              "//# sourceURL=js_0032ade240"
            ]
          },
          "metadata": {}
        },
        {
          "output_type": "display_data",
          "data": {
            "text/plain": [
              "<IPython.core.display.Javascript object>"
            ],
            "application/javascript": [
              "window[\"5713248c-0392-11ee-8949-0242ac1c000c\"] = google.colab.output.getActiveOutputArea();\n",
              "//# sourceURL=js_19d92cef18"
            ]
          },
          "metadata": {}
        },
        {
          "output_type": "display_data",
          "data": {
            "text/plain": [
              "<IPython.core.display.Javascript object>"
            ],
            "application/javascript": [
              "window[\"57137680-0392-11ee-8949-0242ac1c000c\"] = document.querySelector(\"#id18-0-0\");\n",
              "//# sourceURL=js_d539e1c127"
            ]
          },
          "metadata": {}
        },
        {
          "output_type": "display_data",
          "data": {
            "text/plain": [
              "<IPython.core.display.Javascript object>"
            ],
            "application/javascript": [
              "window[\"57142062-0392-11ee-8949-0242ac1c000c\"] = google.colab.output.setActiveOutputArea(window[\"57137680-0392-11ee-8949-0242ac1c000c\"]);\n",
              "//# sourceURL=js_2c9a7683db"
            ]
          },
          "metadata": {}
        },
        {
          "output_type": "display_data",
          "data": {
            "text/plain": [
              "<IPython.core.display.Javascript object>"
            ],
            "application/javascript": [
              "window[\"57197ddc-0392-11ee-8949-0242ac1c000c\"] = google.colab.output.setActiveOutputArea(window[\"5713248c-0392-11ee-8949-0242ac1c000c\"]);\n",
              "//# sourceURL=js_bba010f474"
            ]
          },
          "metadata": {}
        },
        {
          "output_type": "display_data",
          "data": {
            "text/plain": [
              "<Figure size 500x500 with 1 Axes>"
            ],
            "image/png": "[encoded data removed]"
          },
          "metadata": {}
        }
      ]
    },
    {
      "cell_type": "markdown",
      "source": [
        "## Tasks: experiments\n",
        "\n",
        "1. Choose different learning rates. What do you observe? (Remark: If you rerun the training cell, learning will continue.) \n",
        "\n",
        "2. Randomly choose the inital parameters (`w0`, `w1`, `theta`) of the perceptron. What do you observe?\n",
        "\n",
        "3. Change the parameter `separation` such that the classes in the dataset are closer together. Again try different learning rates. What do you observe?"
      ],
      "metadata": {
        "id": "WoHF9o6_QMKT"
      }
    },
    {
      "cell_type": "code",
      "source": [],
      "metadata": {
        "id": "jHjENt3IRHyW"
      },
      "execution_count": 72,
      "outputs": []
    }
  ]
}