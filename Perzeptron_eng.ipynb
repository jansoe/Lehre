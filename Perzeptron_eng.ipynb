{
  "nbformat": 4,
  "nbformat_minor": 0,
  "metadata": {
    "colab": {
      "provenance": [],
      "include_colab_link": true
    },
    "kernelspec": {
      "name": "python3",
      "display_name": "Python 3"
    }
  },
  "cells": [
    {
      "cell_type": "markdown",
      "metadata": {
        "id": "view-in-github",
        "colab_type": "text"
      },
      "source": [
        "<a href=\"https://colab.research.google.com/github/jansoe/Lehre/blob/main/Perzeptron_eng.ipynb\" target=\"_parent\"><img src=\"https://colab.research.google.com/assets/colab-badge.svg\" alt=\"Open In Colab\"/></a>"
      ]
    },
    {
      "cell_type": "markdown",
      "metadata": {
        "id": "ybLcVYSTk3UB"
      },
      "source": [
        "# The Perceptron\n",
        "#### imports\n"
      ]
    },
    {
      "cell_type": "code",
      "metadata": {
        "id": "_As7IcqMMcXx"
      },
      "source": [
        "import time\n",
        "import numpy as np\n",
        "import matplotlib.pyplot as plt\n",
        "\n",
        "# adjusting visual output\n",
        "from matplotlib import rcParams\n",
        "rcParams['figure.figsize'] = (5, 5)\n",
        "rcParams['axes.grid'] = False"
      ],
      "execution_count": 1,
      "outputs": []
    },
    {
      "cell_type": "markdown",
      "source": [
        "## Simulation of a dataset to learn and predict\n",
        "\n",
        "First we simulate a dataset to test our algorithm\n",
        "\n",
        "* There are 2 classes/categories\n",
        "  * Every class hat 2 properties"
      ],
      "metadata": {
        "id": "unxJhULvcnDT"
      }
    },
    {
      "cell_type": "code",
      "metadata": {
        "id": "sg-el3ghOQ7g"
      },
      "source": [
        "n_datapoint = 30 # number of samples\n",
        "separation = 1 # how strong are the 2 classes seperated\n",
        "random_seed = 40"
      ],
      "execution_count": 40,
      "outputs": []
    },
    {
      "cell_type": "code",
      "metadata": {
        "id": "qR-QnvYONNsE",
        "cellView": "form",
        "colab": {
          "base_uri": "https://localhost:8080/",
          "height": 465
        },
        "outputId": "2908c761-b42c-4c29-863b-6a2558d447a2"
      },
      "source": [
        "#@markdown hidden code, please execute (code generates a dataset) \n",
        "\n",
        "np.random.seed(random_seed)\n",
        "\n",
        "# generate data\n",
        "data = np.random.rand(n_datapoint,2)\n",
        "targets = 1.*(np.random.rand(n_datapoint)<0.5)\n",
        "data[targets==1, 0] += separation\n",
        "data[targets==1, 1] += 0.5*separation\n",
        "\n",
        "# function to plot the data\n",
        "def plot_data(data, targets, ax):\n",
        "    \n",
        "    ax.plot(data[targets==0,0], data[targets==0,1], 'o', label='class 0')\n",
        "    ax.plot(data[targets==1,0], data[targets==1,1], 'o', label='class 1')\n",
        "\n",
        "    minval = data.min()\n",
        "    maxval = data.max()\n",
        "    lim = [0.95*minval,1.05*maxval]    \n",
        "    plt.ylim(lim)\n",
        "    plt.xlim(lim)\n",
        "    plt.xlabel(\"property 1\")\n",
        "    plt.ylabel(\"property 2\")\n",
        "    \n",
        "    return lim\n",
        "\n",
        "# plot the data    \n",
        "fig, ax = plt.subplots(figsize=(5,5))\n",
        "_ = plot_data(data, targets, ax)\n",
        "_ = plt.legend(bbox_to_anchor=(1.05, 1))"
      ],
      "execution_count": 41,
      "outputs": [
        {
          "output_type": "display_data",
          "data": {
            "text/plain": [
              "<Figure size 500x500 with 1 Axes>"
            ],
            "image/png": "[encoded data removed]"
          },
          "metadata": {}
        }
      ]
    },
    {
      "cell_type": "markdown",
      "source": [
        "## Perceptron"
      ],
      "metadata": {
        "id": "B0rfQ6ms1FAZ"
      }
    },
    {
      "cell_type": "markdown",
      "source": [
        "### Definition\n",
        "\n",
        "**Start executing here for a restart of the perceptron learning**\n",
        "\n",
        "We define a perceptron which assings each 2d-input vector `x` to a class (either 0 or 1) depending on its parameter `w0, w1, theta`."
      ],
      "metadata": {
        "id": "4VrH4s1BPoit"
      }
    },
    {
      "cell_type": "code",
      "source": [
        "def perceptron(x, w0, w1, theta):\n",
        "    activation = x[0]*w0 + x[1]*w1 + theta\n",
        "    output = int(activation > 0)\n",
        "    return output"
      ],
      "metadata": {
        "id": "bxQX4pq-1AhT"
      },
      "execution_count": 42,
      "outputs": []
    },
    {
      "cell_type": "markdown",
      "source": [
        "for a randomly choosen parameter set ..."
      ],
      "metadata": {
        "id": "OiOys5Rw2ENe"
      }
    },
    {
      "cell_type": "code",
      "metadata": {
        "id": "Y9clliLcPIJb"
      },
      "source": [
        "w1 = 1\n",
        "w0 = 0.5\n",
        "theta = -1\n",
        "\n",
        "num_updates =  0"
      ],
      "execution_count": 58,
      "outputs": []
    },
    {
      "cell_type": "markdown",
      "source": [
        "... the perceptron gives us a class:"
      ],
      "metadata": {
        "id": "ruK4_NFP2NDK"
      }
    },
    {
      "cell_type": "code",
      "source": [
        "x = [0.1, 6.5]\n",
        "perceptron(x, w0, w1, theta)"
      ],
      "metadata": {
        "colab": {
          "base_uri": "https://localhost:8080/"
        },
        "id": "Wkf4c7g-2X71",
        "outputId": "02026feb-19f0-4854-e6d4-96610ddac1bd"
      },
      "execution_count": 59,
      "outputs": [
        {
          "output_type": "execute_result",
          "data": {
            "text/plain": [
              "1"
            ]
          },
          "metadata": {},
          "execution_count": 59
        }
      ]
    },
    {
      "cell_type": "markdown",
      "source": [
        "That is, with the perceptron we can classify each point in our property space"
      ],
      "metadata": {
        "id": "qR6rXMvj2r5E"
      }
    },
    {
      "cell_type": "code",
      "metadata": {
        "id": "RmBdYZLEPbMz",
        "cellView": "form",
        "colab": {
          "base_uri": "https://localhost:8080/",
          "height": 465
        },
        "outputId": "597934d3-dbdd-4683-cde1-c23fa02e20ee"
      },
      "source": [
        "#@title\n",
        "#@markdown ... Visualisation of the classification ...\n",
        "\n",
        "import time\n",
        "import matplotlib\n",
        "from google.colab import widgets\n",
        "\n",
        "def plot_boundary(w0, w1, theta, lim, ax, background = True,  **kwargs):\n",
        "    \"\"\" plot the decision boundary paramterized by w and theta within the bounds\n",
        "        of a square described by lim.\"\"\"\n",
        "    \n",
        "    if (w0==0) and (w1==0):\n",
        "        x0 = lim\n",
        "        x1 = [theta, theta] \n",
        "    elif w1 == 0:\n",
        "        # senkrecht\n",
        "        x0 = [-theta/w0]*2\n",
        "        x1 = [lim]  \n",
        "    else:\n",
        "        x0 = lim\n",
        "        #x1 = [(x*w0/w1 + theta) for x in x0]\n",
        "        x1 = [(-x*w0 - theta)/w1 for x in x0]\n",
        "    \n",
        "    ax.plot(x0, x1, 'k', **kwargs)\n",
        "    plt.xlim(lim)\n",
        "    \n",
        "    class_00=perceptron((x0[0], x0[0]), w0, w1, theta),\n",
        "    if background:\n",
        "        mi, ma = x0 \n",
        "        b_x0, b_x1 = x1\n",
        "        #color1 = 'b' if w0 < w1 else 'r'\n",
        "        #color2 = 'r' if color1 == 'b' else 'b'\n",
        "        color1 = 'b' if (class_00 and (b_x0 <0)) else 'r'\n",
        "        color2 = 'r' if color1 == 'b' else 'b'\n",
        "        area_0 = matplotlib.patches.Polygon(\n",
        "            [(mi, b_x0), (ma, b_x1), (ma, ma), (mi, ma), (mi, b_x0)],\n",
        "            #[(x0[0], x1[0]), (x0[1], x1[1]), \n",
        "            #(x0[1], x0[0]), (x0[0], x0[0]), \n",
        "            #(x0[0], x1[1]), (x0[0], x0[1]),\n",
        "            #],\n",
        "            alpha=0.2, color=color1\n",
        "        )\n",
        "        area_1 = matplotlib.patches.Polygon(\n",
        "            [(mi, b_x0), (ma, b_x1), (ma, mi), (mi, mi), (mi, b_x0)],\n",
        "            #[(x0[1], x0[1]), (x0[0], x0[1]), (x0[0], x1[0]), \n",
        "            #(x0[1], x1[1]), (x0[1], x0[0]), (x0[1], x1[0])],\n",
        "            alpha=0.2, color=color2\n",
        "        )\n",
        "        plt.gca().add_patch(area_0)\n",
        "        plt.gca().add_patch(area_1)\n",
        "\n",
        "\n",
        "class TrennebenenPlotter():\n",
        "\n",
        "    def __init__(self, data, targets, w0, w1, theta):\n",
        "\n",
        "        self.data = data\n",
        "        self.targets = targets\n",
        "        self.w0_old = w0\n",
        "        self.w1_old = w1\n",
        "        self.theta_old = theta\n",
        "\n",
        "\n",
        "    def plot_update(self, datenpunkt, w0, w1, theta, old=True):\n",
        "        \n",
        "        fig, ax = plt.subplots(figsize=(5,5))\n",
        "        lim = plot_data(self.data, self.targets, ax)\n",
        "        plot_boundary(w0, w1, theta, lim, ax, label='decision boundary after update')\n",
        "\n",
        "        if old:\n",
        "            plot_boundary(\n",
        "                self.w0_old, self.w1_old, self.theta_old, lim, ax, \n",
        "                background = False, alpha=0.2, label='decision boundary before'\n",
        "            )\n",
        "            ax.plot(datenpunkt[0], datenpunkt[1], 'or', markersize = 10, mfc='none')\n",
        "            _ = plt.legend(bbox_to_anchor=(1.05, 1))\n",
        "\n",
        "        # we save the old values to visualize later\n",
        "        self.w0_old = w0\n",
        "        self.w1_old = w1\n",
        "        self.theta_old = theta\n",
        "\n",
        "\n",
        "vis = TrennebenenPlotter(data, targets, w0, w1, theta)\n",
        "fig, ax = plt.subplots(figsize = (5,5))\n",
        "lim = plot_data(data, targets, ax)\n",
        "_ = plot_boundary(w0,  w1, theta, lim, ax, \n",
        "    label=\"current decision boundary\")\n",
        "_ = plt.legend(bbox_to_anchor=(1.05, 1))\n"
      ],
      "execution_count": 60,
      "outputs": [
        {
          "output_type": "display_data",
          "data": {
            "text/plain": [
              "<Figure size 500x500 with 1 Axes>"
            ],
            "image/png": "[encoded data removed]"
          },
          "metadata": {}
        }
      ]
    },
    {
      "cell_type": "markdown",
      "source": [
        "### Learning"
      ],
      "metadata": {
        "id": "nojfxPbEPP18"
      }
    },
    {
      "cell_type": "code",
      "source": [
        "steps = 210 # Learning steps: how many datapoints are updated   \n",
        "learnrate = 0.1 # How strong is an update\n",
        "\n",
        "wait_time = 1 # Time between plotting the next update (to be able to better follow)"
      ],
      "metadata": {
        "id": "Ywobu9DXrsOU"
      },
      "execution_count": 53,
      "outputs": []
    },
    {
      "cell_type": "markdown",
      "source": [
        "The following implements the learning rule. Once a wrongly classified datapoint is found, an update is performed and visualized "
      ],
      "metadata": {
        "id": "SBaS-Avy6fKZ"
      }
    },
    {
      "cell_type": "code",
      "source": [
        "num_updates"
      ],
      "metadata": {
        "id": "7s6sb8W1op3l",
        "outputId": "d33dc564-5258-43e3-eea0-528014b4f9fd",
        "colab": {
          "base_uri": "https://localhost:8080/"
        }
      },
      "execution_count": 54,
      "outputs": [
        {
          "output_type": "execute_result",
          "data": {
            "text/plain": [
              "150"
            ]
          },
          "metadata": {},
          "execution_count": 54
        }
      ]
    },
    {
      "cell_type": "code",
      "metadata": {
        "id": "A50cEqo8QGL6",
        "colab": {
          "base_uri": "https://localhost:8080/",
          "height": 490
        },
        "outputId": "f5e77749-dd2b-46ae-d489-3e100201be51"
      },
      "source": [
        "grid = widgets.Grid(1, 1, header_row=False, header_column=False)\n",
        "for i in range(steps):\n",
        "\n",
        "    # choose the next datapoint\n",
        "    data_point = data[num_updates%len(data)]\n",
        "    target_output = targets[num_updates%len(data)]\n",
        "\n",
        "    # calculate the output\n",
        "    perceptron_output = perceptron(data_point, w0, w1, theta)\n",
        "\n",
        "    # and compare with the target output\n",
        "    error = target_output - perceptron_output \n",
        "\n",
        "    if error != 0:\n",
        "        # decrease/increase output if output was to big/small\n",
        "        # change is proportional to influence of the dimension to the output value\n",
        "        w0 = w0 + learnrate * error * data_point[0]\n",
        "        w1 = w1 + learnrate * error * data_point[1]   \n",
        "        theta = theta + learnrate * error\n",
        "\n",
        "        # only visualitation\n",
        "        with grid.output_to(0, 0):\n",
        "            grid.clear_cell()\n",
        "            vis.plot_update(data_point, w0, w1, theta)\n",
        "            plt.title('updates '+str(num_updates))\n",
        "            plt.show()\n",
        "        if steps > 1:\n",
        "            time.sleep(wait_time)\n",
        "\n",
        "    num_updates += 1\n",
        "\n",
        "\n",
        "with grid.output_to(0, 0):\n",
        "    grid.clear_cell()\n",
        "    vis.plot_update(data_point, w0, w1, theta, old=False)\n",
        "    plt.title('updates '+str(num_updates))"
      ],
      "execution_count": 55,
      "outputs": [
        {
          "output_type": "display_data",
          "data": {
            "text/plain": [
              "<IPython.core.display.HTML object>"
            ],
            "text/html": [
              "<style>\n",
              "       table#id6, #id6 > tbody > tr > th, #id6 > tbody > tr > td {\n",
              "         border: 1px solid lightgray;\n",
              "         border-collapse:collapse;\n",
              "         \n",
              "        }</style>"
            ]
          },
          "metadata": {}
        },
        {
          "output_type": "display_data",
          "data": {
            "text/plain": [
              "<IPython.core.display.HTML object>"
            ],
            "text/html": [
              "<table id=id6><tr><td id=id6-0-0></td></tr></table>"
            ]
          },
          "metadata": {}
        },
        {
          "output_type": "display_data",
          "data": {
            "text/plain": [
              "<IPython.core.display.Javascript object>"
            ],
            "application/javascript": [
              "window[\"99553b42-03a0-11ee-9e2d-0242ac1c000c\"] = google.colab.output.getActiveOutputArea();\n",
              "//# sourceURL=js_0652df8204"
            ]
          },
          "metadata": {}
        },
        {
          "output_type": "display_data",
          "data": {
            "text/plain": [
              "<IPython.core.display.Javascript object>"
            ],
            "application/javascript": [
              "window[\"99563920-03a0-11ee-9e2d-0242ac1c000c\"] = document.querySelector(\"#id6-0-0\");\n",
              "//# sourceURL=js_0f87618d64"
            ]
          },
          "metadata": {}
        },
        {
          "output_type": "display_data",
          "data": {
            "text/plain": [
              "<IPython.core.display.Javascript object>"
            ],
            "application/javascript": [
              "window[\"99569d20-03a0-11ee-9e2d-0242ac1c000c\"] = google.colab.output.setActiveOutputArea(window[\"99563920-03a0-11ee-9e2d-0242ac1c000c\"]);\n",
              "//# sourceURL=js_d96966c579"
            ]
          },
          "metadata": {}
        },
        {
          "output_type": "display_data",
          "data": {
            "text/plain": [
              "<IPython.core.display.Javascript object>"
            ],
            "application/javascript": [
              "window[\"99889f00-03a0-11ee-9e2d-0242ac1c000c\"] = google.colab.output.setActiveOutputArea(window[\"99553b42-03a0-11ee-9e2d-0242ac1c000c\"]);\n",
              "//# sourceURL=js_52accb0df9"
            ]
          },
          "metadata": {}
        },
        {
          "output_type": "display_data",
          "data": {
            "text/plain": [
              "<IPython.core.display.Javascript object>"
            ],
            "application/javascript": [
              "window[\"9a23b0c6-03a0-11ee-9e2d-0242ac1c000c\"] = google.colab.output.getActiveOutputArea();\n",
              "//# sourceURL=js_32d3d7e125"
            ]
          },
          "metadata": {}
        },
        {
          "output_type": "display_data",
          "data": {
            "text/plain": [
              "<IPython.core.display.Javascript object>"
            ],
            "application/javascript": [
              "window[\"9a241322-03a0-11ee-9e2d-0242ac1c000c\"] = document.querySelector(\"#id6-0-0\");\n",
              "//# sourceURL=js_85beb167cd"
            ]
          },
          "metadata": {}
        },
        {
          "output_type": "display_data",
          "data": {
            "text/plain": [
              "<IPython.core.display.Javascript object>"
            ],
            "application/javascript": [
              "window[\"9a24765a-03a0-11ee-9e2d-0242ac1c000c\"] = google.colab.output.setActiveOutputArea(window[\"9a241322-03a0-11ee-9e2d-0242ac1c000c\"]);\n",
              "//# sourceURL=js_4949c46f8b"
            ]
          },
          "metadata": {}
        },
        {
          "output_type": "display_data",
          "data": {
            "text/plain": [
              "<IPython.core.display.Javascript object>"
            ],
            "application/javascript": [
              "window[\"9a59f47e-03a0-11ee-9e2d-0242ac1c000c\"] = google.colab.output.setActiveOutputArea(window[\"9a23b0c6-03a0-11ee-9e2d-0242ac1c000c\"]);\n",
              "//# sourceURL=js_cdf65529c4"
            ]
          },
          "metadata": {}
        },
        {
          "output_type": "display_data",
          "data": {
            "text/plain": [
              "<IPython.core.display.Javascript object>"
            ],
            "application/javascript": [
              "window[\"9af5a6d0-03a0-11ee-9e2d-0242ac1c000c\"] = google.colab.output.getActiveOutputArea();\n",
              "//# sourceURL=js_dfdacd3288"
            ]
          },
          "metadata": {}
        },
        {
          "output_type": "display_data",
          "data": {
            "text/plain": [
              "<IPython.core.display.Javascript object>"
            ],
            "application/javascript": [
              "window[\"9af5ea00-03a0-11ee-9e2d-0242ac1c000c\"] = document.querySelector(\"#id6-0-0\");\n",
              "//# sourceURL=js_8b6e7ca934"
            ]
          },
          "metadata": {}
        },
        {
          "output_type": "display_data",
          "data": {
            "text/plain": [
              "<IPython.core.display.Javascript object>"
            ],
            "application/javascript": [
              "window[\"9af69e14-03a0-11ee-9e2d-0242ac1c000c\"] = google.colab.output.setActiveOutputArea(window[\"9af5ea00-03a0-11ee-9e2d-0242ac1c000c\"]);\n",
              "//# sourceURL=js_7459b57770"
            ]
          },
          "metadata": {}
        },
        {
          "output_type": "display_data",
          "data": {
            "text/plain": [
              "<IPython.core.display.Javascript object>"
            ],
            "application/javascript": [
              "window[\"9b2bb84c-03a0-11ee-9e2d-0242ac1c000c\"] = google.colab.output.setActiveOutputArea(window[\"9af5a6d0-03a0-11ee-9e2d-0242ac1c000c\"]);\n",
              "//# sourceURL=js_26c81dd805"
            ]
          },
          "metadata": {}
        },
        {
          "output_type": "display_data",
          "data": {
            "text/plain": [
              "<IPython.core.display.Javascript object>"
            ],
            "application/javascript": [
              "window[\"9bc789de-03a0-11ee-9e2d-0242ac1c000c\"] = google.colab.output.getActiveOutputArea();\n",
              "//# sourceURL=js_1939ced13a"
            ]
          },
          "metadata": {}
        },
        {
          "output_type": "display_data",
          "data": {
            "text/plain": [
              "<IPython.core.display.Javascript object>"
            ],
            "application/javascript": [
              "window[\"9bc7f0c2-03a0-11ee-9e2d-0242ac1c000c\"] = document.querySelector(\"#id6-0-0\");\n",
              "//# sourceURL=js_24052658e5"
            ]
          },
          "metadata": {}
        },
        {
          "output_type": "display_data",
          "data": {
            "text/plain": [
              "<IPython.core.display.Javascript object>"
            ],
            "application/javascript": [
              "window[\"9bc85a12-03a0-11ee-9e2d-0242ac1c000c\"] = google.colab.output.setActiveOutputArea(window[\"9bc7f0c2-03a0-11ee-9e2d-0242ac1c000c\"]);\n",
              "//# sourceURL=js_500b16e16c"
            ]
          },
          "metadata": {}
        },
        {
          "output_type": "display_data",
          "data": {
            "text/plain": [
              "<IPython.core.display.Javascript object>"
            ],
            "application/javascript": [
              "window[\"9bf8d4da-03a0-11ee-9e2d-0242ac1c000c\"] = google.colab.output.setActiveOutputArea(window[\"9bc789de-03a0-11ee-9e2d-0242ac1c000c\"]);\n",
              "//# sourceURL=js_d655661a0d"
            ]
          },
          "metadata": {}
        },
        {
          "output_type": "display_data",
          "data": {
            "text/plain": [
              "<IPython.core.display.Javascript object>"
            ],
            "application/javascript": [
              "window[\"9c941f9e-03a0-11ee-9e2d-0242ac1c000c\"] = google.colab.output.getActiveOutputArea();\n",
              "//# sourceURL=js_cc6030b903"
            ]
          },
          "metadata": {}
        },
        {
          "output_type": "display_data",
          "data": {
            "text/plain": [
              "<IPython.core.display.Javascript object>"
            ],
            "application/javascript": [
              "window[\"9c9485b0-03a0-11ee-9e2d-0242ac1c000c\"] = document.querySelector(\"#id6-0-0\");\n",
              "//# sourceURL=js_e135107b06"
            ]
          },
          "metadata": {}
        },
        {
          "output_type": "display_data",
          "data": {
            "text/plain": [
              "<IPython.core.display.Javascript object>"
            ],
            "application/javascript": [
              "window[\"9c94fd92-03a0-11ee-9e2d-0242ac1c000c\"] = google.colab.output.setActiveOutputArea(window[\"9c9485b0-03a0-11ee-9e2d-0242ac1c000c\"]);\n",
              "//# sourceURL=js_d2cd9752c9"
            ]
          },
          "metadata": {}
        },
        {
          "output_type": "display_data",
          "data": {
            "text/plain": [
              "<IPython.core.display.Javascript object>"
            ],
            "application/javascript": [
              "window[\"9cc59fb0-03a0-11ee-9e2d-0242ac1c000c\"] = google.colab.output.setActiveOutputArea(window[\"9c941f9e-03a0-11ee-9e2d-0242ac1c000c\"]);\n",
              "//# sourceURL=js_a4821406c1"
            ]
          },
          "metadata": {}
        },
        {
          "output_type": "display_data",
          "data": {
            "text/plain": [
              "<IPython.core.display.Javascript object>"
            ],
            "application/javascript": [
              "window[\"9d608868-03a0-11ee-9e2d-0242ac1c000c\"] = google.colab.output.getActiveOutputArea();\n",
              "//# sourceURL=js_e2efc50a4f"
            ]
          },
          "metadata": {}
        },
        {
          "output_type": "display_data",
          "data": {
            "text/plain": [
              "<IPython.core.display.Javascript object>"
            ],
            "application/javascript": [
              "window[\"9d60ee7a-03a0-11ee-9e2d-0242ac1c000c\"] = document.querySelector(\"#id6-0-0\");\n",
              "//# sourceURL=js_4f0d5e7d2f"
            ]
          },
          "metadata": {}
        },
        {
          "output_type": "display_data",
          "data": {
            "text/plain": [
              "<IPython.core.display.Javascript object>"
            ],
            "application/javascript": [
              "window[\"9d618cc2-03a0-11ee-9e2d-0242ac1c000c\"] = google.colab.output.setActiveOutputArea(window[\"9d60ee7a-03a0-11ee-9e2d-0242ac1c000c\"]);\n",
              "//# sourceURL=js_86f632b2bd"
            ]
          },
          "metadata": {}
        },
        {
          "output_type": "display_data",
          "data": {
            "text/plain": [
              "<IPython.core.display.Javascript object>"
            ],
            "application/javascript": [
              "window[\"9d949c16-03a0-11ee-9e2d-0242ac1c000c\"] = google.colab.output.setActiveOutputArea(window[\"9d608868-03a0-11ee-9e2d-0242ac1c000c\"]);\n",
              "//# sourceURL=js_74dbbffcb1"
            ]
          },
          "metadata": {}
        },
        {
          "output_type": "display_data",
          "data": {
            "text/plain": [
              "<IPython.core.display.Javascript object>"
            ],
            "application/javascript": [
              "window[\"9e2fef54-03a0-11ee-9e2d-0242ac1c000c\"] = google.colab.output.getActiveOutputArea();\n",
              "//# sourceURL=js_1fe4e7e69a"
            ]
          },
          "metadata": {}
        },
        {
          "output_type": "display_data",
          "data": {
            "text/plain": [
              "<IPython.core.display.Javascript object>"
            ],
            "application/javascript": [
              "window[\"9e30474c-03a0-11ee-9e2d-0242ac1c000c\"] = document.querySelector(\"#id6-0-0\");\n",
              "//# sourceURL=js_60f50c0b4f"
            ]
          },
          "metadata": {}
        },
        {
          "output_type": "display_data",
          "data": {
            "text/plain": [
              "<IPython.core.display.Javascript object>"
            ],
            "application/javascript": [
              "window[\"9e30f3b8-03a0-11ee-9e2d-0242ac1c000c\"] = google.colab.output.setActiveOutputArea(window[\"9e30474c-03a0-11ee-9e2d-0242ac1c000c\"]);\n",
              "//# sourceURL=js_0b521717ea"
            ]
          },
          "metadata": {}
        },
        {
          "output_type": "display_data",
          "data": {
            "text/plain": [
              "<IPython.core.display.Javascript object>"
            ],
            "application/javascript": [
              "window[\"9e72f524-03a0-11ee-9e2d-0242ac1c000c\"] = google.colab.output.setActiveOutputArea(window[\"9e2fef54-03a0-11ee-9e2d-0242ac1c000c\"]);\n",
              "//# sourceURL=js_c181089d83"
            ]
          },
          "metadata": {}
        },
        {
          "output_type": "display_data",
          "data": {
            "text/plain": [
              "<IPython.core.display.Javascript object>"
            ],
            "application/javascript": [
              "window[\"9f0eb2de-03a0-11ee-9e2d-0242ac1c000c\"] = google.colab.output.getActiveOutputArea();\n",
              "//# sourceURL=js_a934bf6cca"
            ]
          },
          "metadata": {}
        },
        {
          "output_type": "display_data",
          "data": {
            "text/plain": [
              "<IPython.core.display.Javascript object>"
            ],
            "application/javascript": [
              "window[\"9f0f09be-03a0-11ee-9e2d-0242ac1c000c\"] = document.querySelector(\"#id6-0-0\");\n",
              "//# sourceURL=js_38fa34c2f2"
            ]
          },
          "metadata": {}
        },
        {
          "output_type": "display_data",
          "data": {
            "text/plain": [
              "<IPython.core.display.Javascript object>"
            ],
            "application/javascript": [
              "window[\"9f0f5d9c-03a0-11ee-9e2d-0242ac1c000c\"] = google.colab.output.setActiveOutputArea(window[\"9f0f09be-03a0-11ee-9e2d-0242ac1c000c\"]);\n",
              "//# sourceURL=js_2f7a5580f5"
            ]
          },
          "metadata": {}
        },
        {
          "output_type": "display_data",
          "data": {
            "text/plain": [
              "<IPython.core.display.Javascript object>"
            ],
            "application/javascript": [
              "window[\"9f555356-03a0-11ee-9e2d-0242ac1c000c\"] = google.colab.output.setActiveOutputArea(window[\"9f0eb2de-03a0-11ee-9e2d-0242ac1c000c\"]);\n",
              "//# sourceURL=js_3759db48e2"
            ]
          },
          "metadata": {}
        },
        {
          "output_type": "display_data",
          "data": {
            "text/plain": [
              "<IPython.core.display.Javascript object>"
            ],
            "application/javascript": [
              "window[\"9ff06922-03a0-11ee-9e2d-0242ac1c000c\"] = google.colab.output.getActiveOutputArea();\n",
              "//# sourceURL=js_9de03384a7"
            ]
          },
          "metadata": {}
        },
        {
          "output_type": "display_data",
          "data": {
            "text/plain": [
              "<IPython.core.display.Javascript object>"
            ],
            "application/javascript": [
              "window[\"9ff0d074-03a0-11ee-9e2d-0242ac1c000c\"] = document.querySelector(\"#id6-0-0\");\n",
              "//# sourceURL=js_ed807ac05d"
            ]
          },
          "metadata": {}
        },
        {
          "output_type": "display_data",
          "data": {
            "text/plain": [
              "<IPython.core.display.Javascript object>"
            ],
            "application/javascript": [
              "window[\"9ff179f2-03a0-11ee-9e2d-0242ac1c000c\"] = google.colab.output.setActiveOutputArea(window[\"9ff0d074-03a0-11ee-9e2d-0242ac1c000c\"]);\n",
              "//# sourceURL=js_c981c03577"
            ]
          },
          "metadata": {}
        },
        {
          "output_type": "display_data",
          "data": {
            "text/plain": [
              "<IPython.core.display.Javascript object>"
            ],
            "application/javascript": [
              "window[\"a03fd548-03a0-11ee-9e2d-0242ac1c000c\"] = google.colab.output.setActiveOutputArea(window[\"9ff06922-03a0-11ee-9e2d-0242ac1c000c\"]);\n",
              "//# sourceURL=js_70e42bc2e7"
            ]
          },
          "metadata": {}
        },
        {
          "output_type": "display_data",
          "data": {
            "text/plain": [
              "<IPython.core.display.Javascript object>"
            ],
            "application/javascript": [
              "window[\"a0dbe492-03a0-11ee-9e2d-0242ac1c000c\"] = google.colab.output.getActiveOutputArea();\n",
              "//# sourceURL=js_299335cb7c"
            ]
          },
          "metadata": {}
        },
        {
          "output_type": "display_data",
          "data": {
            "text/plain": [
              "<IPython.core.display.Javascript object>"
            ],
            "application/javascript": [
              "window[\"a0dc4716-03a0-11ee-9e2d-0242ac1c000c\"] = document.querySelector(\"#id6-0-0\");\n",
              "//# sourceURL=js_1a33018883"
            ]
          },
          "metadata": {}
        },
        {
          "output_type": "display_data",
          "data": {
            "text/plain": [
              "<IPython.core.display.Javascript object>"
            ],
            "application/javascript": [
              "window[\"a0dca88c-03a0-11ee-9e2d-0242ac1c000c\"] = google.colab.output.setActiveOutputArea(window[\"a0dc4716-03a0-11ee-9e2d-0242ac1c000c\"]);\n",
              "//# sourceURL=js_681e7a77af"
            ]
          },
          "metadata": {}
        },
        {
          "output_type": "display_data",
          "data": {
            "text/plain": [
              "<IPython.core.display.Javascript object>"
            ],
            "application/javascript": [
              "window[\"a11011c2-03a0-11ee-9e2d-0242ac1c000c\"] = google.colab.output.setActiveOutputArea(window[\"a0dbe492-03a0-11ee-9e2d-0242ac1c000c\"]);\n",
              "//# sourceURL=js_51e0e82588"
            ]
          },
          "metadata": {}
        },
        {
          "output_type": "display_data",
          "data": {
            "text/plain": [
              "<IPython.core.display.Javascript object>"
            ],
            "application/javascript": [
              "window[\"a1aaf25a-03a0-11ee-9e2d-0242ac1c000c\"] = google.colab.output.getActiveOutputArea();\n",
              "//# sourceURL=js_32d4cf6c3b"
            ]
          },
          "metadata": {}
        },
        {
          "output_type": "display_data",
          "data": {
            "text/plain": [
              "<IPython.core.display.Javascript object>"
            ],
            "application/javascript": [
              "window[\"a1ab3df0-03a0-11ee-9e2d-0242ac1c000c\"] = document.querySelector(\"#id6-0-0\");\n",
              "//# sourceURL=js_fb6f58164a"
            ]
          },
          "metadata": {}
        },
        {
          "output_type": "display_data",
          "data": {
            "text/plain": [
              "<IPython.core.display.Javascript object>"
            ],
            "application/javascript": [
              "window[\"a1ab8738-03a0-11ee-9e2d-0242ac1c000c\"] = google.colab.output.setActiveOutputArea(window[\"a1ab3df0-03a0-11ee-9e2d-0242ac1c000c\"]);\n",
              "//# sourceURL=js_4a4050abda"
            ]
          },
          "metadata": {}
        },
        {
          "output_type": "display_data",
          "data": {
            "text/plain": [
              "<IPython.core.display.Javascript object>"
            ],
            "application/javascript": [
              "window[\"a1df12c4-03a0-11ee-9e2d-0242ac1c000c\"] = google.colab.output.setActiveOutputArea(window[\"a1aaf25a-03a0-11ee-9e2d-0242ac1c000c\"]);\n",
              "//# sourceURL=js_90bb3eb411"
            ]
          },
          "metadata": {}
        },
        {
          "output_type": "display_data",
          "data": {
            "text/plain": [
              "<IPython.core.display.Javascript object>"
            ],
            "application/javascript": [
              "window[\"a27a813c-03a0-11ee-9e2d-0242ac1c000c\"] = google.colab.output.getActiveOutputArea();\n",
              "//# sourceURL=js_1cd6f0e15c"
            ]
          },
          "metadata": {}
        },
        {
          "output_type": "display_data",
          "data": {
            "text/plain": [
              "<IPython.core.display.Javascript object>"
            ],
            "application/javascript": [
              "window[\"a27ada7e-03a0-11ee-9e2d-0242ac1c000c\"] = document.querySelector(\"#id6-0-0\");\n",
              "//# sourceURL=js_698bb4b7e6"
            ]
          },
          "metadata": {}
        },
        {
          "output_type": "display_data",
          "data": {
            "text/plain": [
              "<IPython.core.display.Javascript object>"
            ],
            "application/javascript": [
              "window[\"a27b3546-03a0-11ee-9e2d-0242ac1c000c\"] = google.colab.output.setActiveOutputArea(window[\"a27ada7e-03a0-11ee-9e2d-0242ac1c000c\"]);\n",
              "//# sourceURL=js_1df4eb1f90"
            ]
          },
          "metadata": {}
        },
        {
          "output_type": "display_data",
          "data": {
            "text/plain": [
              "<IPython.core.display.Javascript object>"
            ],
            "application/javascript": [
              "window[\"a2819ca6-03a0-11ee-9e2d-0242ac1c000c\"] = google.colab.output.setActiveOutputArea(window[\"a27a813c-03a0-11ee-9e2d-0242ac1c000c\"]);\n",
              "//# sourceURL=js_81a328b9e3"
            ]
          },
          "metadata": {}
        },
        {
          "output_type": "display_data",
          "data": {
            "text/plain": [
              "<Figure size 500x500 with 1 Axes>"
            ],
            "image/png": "[encoded data removed]"
          },
          "metadata": {}
        }
      ]
    },
    {
      "cell_type": "code",
      "source": [
        "print(w0, w1, theta)"
      ],
      "metadata": {
        "id": "F0d6REUso53G",
        "outputId": "6a2bbc24-fadc-45a0-f077-5c7acab1e293",
        "colab": {
          "base_uri": "https://localhost:8080/"
        }
      },
      "execution_count": 57,
      "outputs": [
        {
          "output_type": "stream",
          "name": "stdout",
          "text": [
            "0.750193395025942 0.5403325957626798 -1.3000000000000003\n"
          ]
        }
      ]
    },
    {
      "cell_type": "markdown",
      "source": [
        "## Tasks: experiments\n",
        "\n",
        "1. Choose different learning rates. What do you observe? (Remark: If you rerun the training cell, learning will continue.) \n",
        "\n",
        "2. Randomly choose the inital parameters (`w0`, `w1`, `theta`) of the perceptron. What do you observe?\n",
        "\n",
        "3. Change the parameter `separation` such that the classes in the dataset are closer together. Again try different learning rates. What do you observe?\n",
        "\n",
        "4. Rewrite the perceptron, that it takes as input for the data and the weights a numpy array of arbitrary dimension\n",
        "```\n",
        "def perceptron(x_array, w_array, theta):\n",
        "    ...\n",
        "``` "
      ],
      "metadata": {
        "id": "WoHF9o6_QMKT"
      }
    },
    {
      "cell_type": "code",
      "source": [],
      "metadata": {
        "id": "jHjENt3IRHyW"
      },
      "execution_count": null,
      "outputs": []
    }
  ]
}