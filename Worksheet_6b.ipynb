{
  "nbformat": 4,
  "nbformat_minor": 0,
  "metadata": {
    "colab": {
      "provenance": [],
      "authorship_tag": "ABX9TyOE2NFNpYIvM/JRlCE450lJ",
      "include_colab_link": true
    },
    "kernelspec": {
      "name": "python3",
      "display_name": "Python 3"
    },
    "language_info": {
      "name": "python"
    }
  },
  "cells": [
    {
      "cell_type": "markdown",
      "metadata": {
        "id": "view-in-github",
        "colab_type": "text"
      },
      "source": [
        "<a href=\"https://colab.research.google.com/github/jansoe/Lehre/blob/main/Worksheet_6b.ipynb\" target=\"_parent\"><img src=\"https://colab.research.google.com/assets/colab-badge.svg\" alt=\"Open In Colab\"/></a>"
      ]
    },
    {
      "cell_type": "markdown",
      "source": [
        "### Task 1\n",
        " Write a function `count_divisible` that takes 2 input parameters: a `list` and a `number`. The function should count how many of the list elements are divisible by the `number`.  Do not use the the numpy-module.\n"
      ],
      "metadata": {
        "id": "CeVxJTAY6Hni"
      }
    },
    {
      "cell_type": "code",
      "source": [
        "import random"
      ],
      "metadata": {
        "id": "XEcIamvf7xTQ"
      },
      "execution_count": 9,
      "outputs": []
    },
    {
      "cell_type": "code",
      "source": [
        "def count_divisible(numberlist:list, number:int) -> int:\n",
        "    return 0 # calculate and retrun correct value"
      ],
      "metadata": {
        "id": "9pG2wWyu8Ox3"
      },
      "execution_count": 10,
      "outputs": []
    },
    {
      "cell_type": "markdown",
      "source": [
        "Test:"
      ],
      "metadata": {
        "id": "4iLm7qBB8kjc"
      }
    },
    {
      "cell_type": "code",
      "execution_count": 13,
      "metadata": {
        "id": "SSaJEuXX6Gxj"
      },
      "outputs": [],
      "source": [
        "test_list1 = [3,6,9,7,4,5]\n",
        "test_list2 = [random.randint(0, 100000) for ix in range(100)]"
      ]
    },
    {
      "cell_type": "code",
      "source": [
        "count_divisible(test_list1, 3)"
      ],
      "metadata": {
        "colab": {
          "base_uri": "https://localhost:8080/"
        },
        "id": "CF1bPAhT7sCt",
        "outputId": "f96b9597-a1a5-428a-84e2-455091ebe958"
      },
      "execution_count": 14,
      "outputs": [
        {
          "output_type": "execute_result",
          "data": {
            "text/plain": [
              "0"
            ]
          },
          "metadata": {},
          "execution_count": 14
        }
      ]
    },
    {
      "cell_type": "code",
      "source": [
        "count_divisible(test_list2, 3)"
      ],
      "metadata": {
        "colab": {
          "base_uri": "https://localhost:8080/"
        },
        "id": "zcuNRTOzApST",
        "outputId": "084907ba-203c-43cd-84ec-b8de3c46c2cf"
      },
      "execution_count": 16,
      "outputs": [
        {
          "output_type": "execute_result",
          "data": {
            "text/plain": [
              "0"
            ]
          },
          "metadata": {},
          "execution_count": 16
        }
      ]
    },
    {
      "cell_type": "markdown",
      "source": [
        "### Task 2\n",
        "Now implement the same functions with the numpy-module. To this end, we can convert the lists to numpy-arrays."
      ],
      "metadata": {
        "id": "GEgtmQXHApvE"
      }
    },
    {
      "cell_type": "code",
      "source": [
        "import numpy as np"
      ],
      "metadata": {
        "id": "DLybFg09Fnnx"
      },
      "execution_count": 18,
      "outputs": []
    },
    {
      "cell_type": "code",
      "source": [
        "def count_divisible2(numberlist:list, number:int) -> int:\n",
        "    arr = np.array(numberlist)\n",
        "    # Fill your Code here"
      ],
      "metadata": {
        "id": "f7PqvcRm8txH"
      },
      "execution_count": 19,
      "outputs": []
    },
    {
      "cell_type": "code",
      "source": [
        "%timeit count_divisible(test_list2, 3)\n",
        "%timeit count_divisible2(test_list2, 3)"
      ],
      "metadata": {
        "colab": {
          "base_uri": "https://localhost:8080/"
        },
        "id": "6M31qwnQFYWa",
        "outputId": "d4025a67-eaf1-4706-e77a-45f210a8163d"
      },
      "execution_count": 20,
      "outputs": [
        {
          "output_type": "stream",
          "name": "stdout",
          "text": [
            "98.5 ns ± 33.1 ns per loop (mean ± std. dev. of 7 runs, 10000000 loops each)\n",
            "9.74 µs ± 3.2 µs per loop (mean ± std. dev. of 7 runs, 100000 loops each)\n"
          ]
        }
      ]
    },
    {
      "cell_type": "markdown",
      "source": [
        "### Task 3 (difficult)\n",
        "\n",
        "You are provided a function, that splits a text into words, but additionally also tells you the start and end position of the words in the text  "
      ],
      "metadata": {
        "id": "hIYhFgzgF-i7"
      }
    },
    {
      "cell_type": "code",
      "source": [
        "test_text = \"This is just a test text for a test\"\n",
        "\n",
        "def split_with_pos(text):\n",
        "    out = []\n",
        "    prev = 0\n",
        "    for pos in range(len(text)):\n",
        "        if text[pos] == ' ': # split the string\n",
        "            word = text[prev:pos]\n",
        "            if word:\n",
        "                out.append((word, prev, pos))\n",
        "            prev = pos+1\n",
        "    return out"
      ],
      "metadata": {
        "id": "knKNxtETGoeV"
      },
      "execution_count": 31,
      "outputs": []
    },
    {
      "cell_type": "code",
      "source": [
        "split_with_pos(test_text)"
      ],
      "metadata": {
        "colab": {
          "base_uri": "https://localhost:8080/"
        },
        "id": "VGj3SGPUNmLX",
        "outputId": "32376ab1-67e0-43af-954f-7a775065099d"
      },
      "execution_count": 32,
      "outputs": [
        {
          "output_type": "execute_result",
          "data": {
            "text/plain": [
              "[('This', 0, 4),\n",
              " ('is', 5, 7),\n",
              " ('just', 8, 12),\n",
              " ('a', 13, 14),\n",
              " ('test', 15, 19),\n",
              " ('text', 20, 24),\n",
              " ('for', 25, 28),\n",
              " ('a', 29, 30)]"
            ]
          },
          "metadata": {},
          "execution_count": 32
        }
      ]
    },
    {
      "cell_type": "markdown",
      "source": [
        "Create a dictionary that takes words as the key. For each word in the `test_text` add to the dictionary all tuples of (start, end)-positions for all occurences of the word.\n",
        "To this end, if a word is not in the dictionary, add first an empyt list as value. Than append the position to this list. "
      ],
      "metadata": {
        "id": "IjVabN81QXgW"
      }
    },
    {
      "cell_type": "markdown",
      "source": [
        "### Task 4\n",
        "\n",
        "1. Create now a class Document. The Constructor shall take as \n",
        "argument a string `text` and store this text. Additionally the text should be split into words with position and the positions of all the words shall be stored in a dictionary like in Task3. \n",
        "\n",
        "2. Create a method `replace(word, replacement)` that replaces a word everywhere it occurs in the text"
      ],
      "metadata": {
        "id": "GFrJcaT5UqHI"
      }
    },
    {
      "cell_type": "code",
      "source": [],
      "metadata": {
        "id": "SQ9YIP7wFiTK"
      },
      "execution_count": null,
      "outputs": []
    }
  ]
}