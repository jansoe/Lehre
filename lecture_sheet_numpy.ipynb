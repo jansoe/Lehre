{
  "nbformat": 4,
  "nbformat_minor": 0,
  "metadata": {
    "colab": {
      "provenance": [],
      "authorship_tag": "ABX9TyM2RgdS1xImtmt97JHLjjxU",
      "include_colab_link": true
    },
    "kernelspec": {
      "name": "python3",
      "display_name": "Python 3"
    },
    "language_info": {
      "name": "python"
    }
  },
  "cells": [
    {
      "cell_type": "markdown",
      "metadata": {
        "id": "view-in-github",
        "colab_type": "text"
      },
      "source": [
        "<a href=\"https://colab.research.google.com/github/jansoe/Lehre/blob/main/lecture_sheet_numpy.ipynb\" target=\"_parent\"><img src=\"https://colab.research.google.com/assets/colab-badge.svg\" alt=\"Open In Colab\"/></a>"
      ]
    },
    {
      "cell_type": "markdown",
      "source": [
        "# Getting familiar with numpy"
      ],
      "metadata": {
        "id": "Alz6mDmi9Wso"
      }
    },
    {
      "cell_type": "markdown",
      "source": [
        "(1) Import the numpy library \n",
        "(under the abbreviation `np` to avoid too much typing)"
      ],
      "metadata": {
        "id": "eqlZ3hTj9cbm"
      }
    },
    {
      "cell_type": "code",
      "execution_count": null,
      "metadata": {
        "id": "8NwtoIpE74UF"
      },
      "outputs": [],
      "source": []
    },
    {
      "cell_type": "markdown",
      "source": [
        "(2) Create the following arrays:\n",
        "- an array with 10 elemtents\n",
        "  - with each element beeing 1\n",
        "  - with the numbers 0-9\n",
        "  - with the numbers 0, 3, 6, 9, 12,...\n",
        "  - with the numbers 30, 40, 50, 60, ....\n",
        "- a 2d array (matrix) of shape `(5,3)`, i.e. 5 rows and 3 columns\n",
        "  - with each element beeing 0\n",
        "  - with each element beeing 1, but with datatype `float64`\n",
        "  - each element beeing a random integer between 0 and 100\n",
        "  - each element beeing a random uniform distributed float between 0 and 1"
      ],
      "metadata": {
        "id": "3h4sl3SU-s2P"
      }
    },
    {
      "cell_type": "code",
      "source": [],
      "metadata": {
        "id": "ypgx3Gcg9bj2"
      },
      "execution_count": null,
      "outputs": []
    },
    {
      "cell_type": "markdown",
      "source": [
        "(3) Create the following matrix using the `reshape`-method\n",
        "```\n",
        "  1  2  3  4\n",
        "  5  6  7  8\n",
        "  9 10 11 12\n",
        " 13 14 15 16\n",
        "```\n",
        "and assign it to a variable named `m` "
      ],
      "metadata": {
        "id": "kfiaN9a2BwYb"
      }
    },
    {
      "cell_type": "code",
      "source": [],
      "metadata": {
        "id": "IxHBHr3CBwrs"
      },
      "execution_count": null,
      "outputs": []
    },
    {
      "cell_type": "markdown",
      "source": [
        "(4) obtain the following parts of the matrix m\n",
        "- the bottom right element (`16`)\n",
        "- the top right element (`4`)\n",
        "- the 3rd row\n",
        "- the 2nd column\n",
        "- the last column in reverse order, i.e. `16, 12, 8, 4`"
      ],
      "metadata": {
        "id": "aHfr39hCCghl"
      }
    },
    {
      "cell_type": "code",
      "source": [],
      "metadata": {
        "id": "y4_q7pt7DEMD"
      },
      "execution_count": null,
      "outputs": []
    },
    {
      "cell_type": "markdown",
      "source": [
        "(5) Create an array with the numbers from 1-9. Then compute new arrays with\n",
        "- all elements squared\n",
        "- all elements raised to the power of 3\n",
        "\n",
        "Finally create form these arrays a new matrix (`concatenate`) such that the first row contains the elements 1-9, the second row the squared numbers and the 3rd the numbers raised to the power of 3, e.g.\n",
        "```\n",
        "1  2  3 ...   9\n",
        "1  4  9 ...  81\n",
        "1  8 27 ... 729\n",
        "```\n"
      ],
      "metadata": {
        "id": "2YOL29vLEBWw"
      }
    },
    {
      "cell_type": "code",
      "source": [],
      "metadata": {
        "id": "X78Ds8B7DuPn"
      },
      "execution_count": null,
      "outputs": []
    },
    {
      "cell_type": "markdown",
      "source": [
        "(6) For the matrix `m`, calculate the mean value for each row and for each column."
      ],
      "metadata": {
        "id": "INBoaO0hKffV"
      }
    },
    {
      "cell_type": "code",
      "source": [],
      "metadata": {
        "id": "JaIS5kufK-UB"
      },
      "execution_count": null,
      "outputs": []
    },
    {
      "cell_type": "markdown",
      "source": [
        "(7) From matrix `m` create the matrix `m2`, such that the values of each row correspond to the row values of `m` but with the mean value of that row subtracted, i.e. centered around 0.\n",
        "\n",
        "I.e. if there ia a row `1,2,3` in `m`, the mean is (1+2+3)/3 = 2. Then the new row in `m2` should be `-1,0,1`\n"
      ],
      "metadata": {
        "id": "wBvO4u6DLqxD"
      }
    },
    {
      "cell_type": "code",
      "source": [],
      "metadata": {
        "id": "u8LsiFhfMnTP"
      },
      "execution_count": null,
      "outputs": []
    },
    {
      "cell_type": "markdown",
      "source": [
        "(8) Create a `(100,50)` - matrix with random integers between 0 and 30. \n",
        "- How many of the elements are divisible by 3\n",
        "- What is the mean value of all elements divisible by 3"
      ],
      "metadata": {
        "id": "fnyano0NO2wT"
      }
    },
    {
      "cell_type": "code",
      "source": [],
      "metadata": {
        "id": "TNJKOgzNPb8v"
      },
      "execution_count": null,
      "outputs": []
    }
  ]
}