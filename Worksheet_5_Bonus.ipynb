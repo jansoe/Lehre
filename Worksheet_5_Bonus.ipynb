{
  "nbformat": 4,
  "nbformat_minor": 0,
  "metadata": {
    "colab": {
      "provenance": [],
      "authorship_tag": "ABX9TyNsOORZARkHN50x+WJl/YDE",
      "include_colab_link": true
    },
    "kernelspec": {
      "name": "python3",
      "display_name": "Python 3"
    },
    "language_info": {
      "name": "python"
    }
  },
  "cells": [
    {
      "cell_type": "markdown",
      "metadata": {
        "id": "view-in-github",
        "colab_type": "text"
      },
      "source": [
        "<a href=\"https://colab.research.google.com/github/jansoe/Lehre/blob/main/Worksheet_5_Bonus.ipynb\" target=\"_parent\"><img src=\"https://colab.research.google.com/assets/colab-badge.svg\" alt=\"Open In Colab\"/></a>"
      ]
    },
    {
      "cell_type": "markdown",
      "source": [
        "# A tiny game"
      ],
      "metadata": {
        "id": "pGxPVJMQjqHE"
      }
    },
    {
      "cell_type": "code",
      "execution_count": 1,
      "metadata": {
        "id": "dDmHLEM5g57-"
      },
      "outputs": [],
      "source": [
        "class Figure:\n",
        "\n",
        "    health = 10\n",
        "    attack_fight = 6\n",
        "    defense_fight = 5\n",
        "    attack_magic = 6\n",
        "    defense_magic = 5\n",
        "\n",
        "    def __init__(self, name):\n",
        "        self.name = name\n",
        "\n",
        "    def is_alive(self):\n",
        "        return self.health > 0\n",
        "\n",
        "    def fight(self, other):\n",
        "        attack_value = self.attack_fight - other.defense_fight\n",
        "        other.receive_hit(attack_value)\n",
        "\n",
        "    def magic(self, other):\n",
        "        attack_value = self.attack_magic - other.defense_magic\n",
        "        other.receive_hit(attack_value)\n",
        "\n",
        "    def receive_hit(self, attack_value):\n",
        "        if attack_value > 0:\n",
        "            self.health -= attack_value\n",
        "            print(f'{self.name} received a hit of {attack_value}')\n",
        "\n",
        "    def __str__(self):\n",
        "        return f\"{self.name} (Health: {self.health})\" "
      ]
    },
    {
      "cell_type": "markdown",
      "source": [
        "## Initial World Setup\n",
        "1 Player and a couple of enemies"
      ],
      "metadata": {
        "id": "_uiOJrnXjy2Z"
      }
    },
    {
      "cell_type": "code",
      "source": [
        "player = Figure(\"Jan\")\n",
        "enemies = [Figure(\"Fly1\"), Figure(\"Fly2\"), Figure(\"Orc\"), Figure(\"Dragon\")]"
      ],
      "metadata": {
        "id": "we4T0QWMXX4E"
      },
      "execution_count": 2,
      "outputs": []
    },
    {
      "cell_type": "markdown",
      "source": [
        "## Turn by turn text based fighting"
      ],
      "metadata": {
        "id": "_qza_dLqkQH_"
      }
    },
    {
      "cell_type": "code",
      "source": [
        "enemy = enemies.pop(0)\n",
        "while player.is_alive():\n",
        "\n",
        "    # Turn of the Player\n",
        "    print(f\"{player} is fighting {enemy}\")\n",
        "    while True:\n",
        "        input_value = input('Choose (1) for fight and (2) for magic: ')\n",
        "        if input_value == '1':\n",
        "            player.fight(enemy)\n",
        "            break\n",
        "        elif input_value == '2':\n",
        "            player.magic(enemy)\n",
        "            break\n",
        "        else:\n",
        "            print(f'{input_value} is no valid option')\n",
        "    \n",
        "    # Turn of the enemy\n",
        "    if enemy.is_alive():\n",
        "        print(f\"{player} is fighting {enemy}\")\n",
        "        enemy.fight(player)\n",
        "    else: # get next enemy\n",
        "        print(f\"{enemy} is dead\")\n",
        "        enemy = enemies.pop(0)\n"
      ],
      "metadata": {
        "id": "WKGb5syshBib",
        "colab": {
          "base_uri": "https://localhost:8080/"
        },
        "outputId": "30d02538-926e-4948-ddff-52df049e8ce0"
      },
      "execution_count": 3,
      "outputs": [
        {
          "output_type": "stream",
          "name": "stdout",
          "text": [
            "Jan (Health: 10) is fighting Fly1 (Health: 10)\n",
            "Choose (1) for fight and (2) for magic: 1\n",
            "Fly1 received a hit of 1\n",
            "Jan (Health: 10) is fighting Fly1 (Health: 9)\n",
            "Jan received a hit of 1\n",
            "Jan (Health: 9) is fighting Fly1 (Health: 9)\n",
            "Choose (1) for fight and (2) for magic: 2\n",
            "Fly1 received a hit of 1\n",
            "Jan (Health: 9) is fighting Fly1 (Health: 8)\n",
            "Jan received a hit of 1\n",
            "Jan (Health: 8) is fighting Fly1 (Health: 8)\n",
            "Choose (1) for fight and (2) for magic: 2\n",
            "Fly1 received a hit of 1\n",
            "Jan (Health: 8) is fighting Fly1 (Health: 7)\n",
            "Jan received a hit of 1\n",
            "Jan (Health: 7) is fighting Fly1 (Health: 7)\n",
            "Choose (1) for fight and (2) for magic: 2\n",
            "Fly1 received a hit of 1\n",
            "Jan (Health: 7) is fighting Fly1 (Health: 6)\n",
            "Jan received a hit of 1\n",
            "Jan (Health: 6) is fighting Fly1 (Health: 6)\n",
            "Choose (1) for fight and (2) for magic: 2\n",
            "Fly1 received a hit of 1\n",
            "Jan (Health: 6) is fighting Fly1 (Health: 5)\n",
            "Jan received a hit of 1\n",
            "Jan (Health: 5) is fighting Fly1 (Health: 5)\n",
            "Choose (1) for fight and (2) for magic: 2\n",
            "Fly1 received a hit of 1\n",
            "Jan (Health: 5) is fighting Fly1 (Health: 4)\n",
            "Jan received a hit of 1\n",
            "Jan (Health: 4) is fighting Fly1 (Health: 4)\n",
            "Choose (1) for fight and (2) for magic: 2\n",
            "Fly1 received a hit of 1\n",
            "Jan (Health: 4) is fighting Fly1 (Health: 3)\n",
            "Jan received a hit of 1\n",
            "Jan (Health: 3) is fighting Fly1 (Health: 3)\n",
            "Choose (1) for fight and (2) for magic: 2\n",
            "Fly1 received a hit of 1\n",
            "Jan (Health: 3) is fighting Fly1 (Health: 2)\n",
            "Jan received a hit of 1\n",
            "Jan (Health: 2) is fighting Fly1 (Health: 2)\n",
            "Choose (1) for fight and (2) for magic: 2\n",
            "Fly1 received a hit of 1\n",
            "Jan (Health: 2) is fighting Fly1 (Health: 1)\n",
            "Jan received a hit of 1\n",
            "Jan (Health: 1) is fighting Fly1 (Health: 1)\n",
            "Choose (1) for fight and (2) for magic: 2\n",
            "Fly1 received a hit of 1\n",
            "Fly1 (Health: 0) is dead\n",
            "Jan (Health: 1) is fighting Fly2 (Health: 10)\n",
            "Choose (1) for fight and (2) for magic: \n",
            " is no valid option\n",
            "Choose (1) for fight and (2) for magic: 2\n",
            "Fly2 received a hit of 1\n",
            "Jan (Health: 1) is fighting Fly2 (Health: 9)\n",
            "Jan received a hit of 1\n"
          ]
        }
      ]
    },
    {
      "cell_type": "markdown",
      "source": [
        "## Tasks\n",
        " 1. Create 3 different child classes `Fly`, `Orc`, `Dragon` that inherit from `Figure` and give them each different values for defense and attack strength. Instatiate now the objects in the `enemies`-List from those child classes instead of the parent `Figure` class\n",
        " 2. Choose randomly if the enemy will `fight` or use `magic`. You can use the `randint` function as below \n",
        " 3. Print out a victory message if no enemy is left."
      ],
      "metadata": {
        "id": "OFQaUMzUf3BF"
      }
    },
    {
      "cell_type": "code",
      "source": [
        "import random\n",
        "random.randint(0, 1)"
      ],
      "metadata": {
        "colab": {
          "base_uri": "https://localhost:8080/"
        },
        "id": "WKB_D-RahJTI",
        "outputId": "fb88cb38-1d09-406e-c2ae-6f9e648a482d"
      },
      "execution_count": 36,
      "outputs": [
        {
          "output_type": "execute_result",
          "data": {
            "text/plain": [
              "1"
            ]
          },
          "metadata": {},
          "execution_count": 36
        }
      ]
    },
    {
      "cell_type": "code",
      "source": [],
      "metadata": {
        "id": "zw9ARBlWhK6s"
      },
      "execution_count": null,
      "outputs": []
    }
  ]
}