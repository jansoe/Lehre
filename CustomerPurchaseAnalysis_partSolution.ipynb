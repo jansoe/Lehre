{
  "nbformat": 4,
  "nbformat_minor": 0,
  "metadata": {
    "colab": {
      "provenance": [],
      "authorship_tag": "ABX9TyOPLdcfP9chQzfRchvQMwiS",
      "include_colab_link": true
    },
    "kernelspec": {
      "name": "python3",
      "display_name": "Python 3"
    },
    "language_info": {
      "name": "python"
    }
  },
  "cells": [
    {
      "cell_type": "markdown",
      "metadata": {
        "id": "view-in-github",
        "colab_type": "text"
      },
      "source": [
        "<a href=\"https://colab.research.google.com/github/jansoe/Lehre/blob/main/CustomerPurchaseAnalysis_partSolution.ipynb\" target=\"_parent\"><img src=\"https://colab.research.google.com/assets/colab-badge.svg\" alt=\"Open In Colab\"/></a>"
      ]
    },
    {
      "cell_type": "code",
      "execution_count": 14,
      "metadata": {
        "id": "oAdZSvAYsVii"
      },
      "outputs": [],
      "source": [
        "class Customer:\n",
        "\n",
        "    def __init__(self, name_in, customer_id):\n",
        "        self.name = name_in\n",
        "        self.customer_id = customer_id\n",
        "        self.purchases = {}\n",
        "\n",
        "    def add_purchase(self, product_id, amount):\n",
        "        #if product_id in self.purchases:\n",
        "        #    self.purchases[product_id].append(amount)\n",
        "        #else:\n",
        "        #    self.purchases[product_id] = [amount]\n",
        "\n",
        "        if product_id not in self.purchases:\n",
        "            self.purchases[product_id] = []\n",
        "        self.purchases[product_id].append(amount)\n",
        "\n",
        "    def get_total_spent(self):\n",
        "        total = 0\n",
        "        for key in self.purchases:\n",
        "            total += sum(self.purchases[key])\n",
        "        return total\n",
        "\n",
        "    def __repr__(self):\n",
        "        return self.name"
      ]
    },
    {
      "cell_type": "code",
      "source": [
        "cust1 = Customer(\"jan\", 12312)\n",
        "cust2 = Customer(\"anne\", 12313)"
      ],
      "metadata": {
        "id": "RO8e1gcBsqPr"
      },
      "execution_count": 15,
      "outputs": []
    },
    {
      "cell_type": "code",
      "source": [
        "cust1.add_purchase(22, 3)\n",
        "cust1.add_purchase(22, 2)\n",
        "cust1.add_purchase(24, 1)\n",
        "cust1.add_purchase(24, 7)"
      ],
      "metadata": {
        "id": "XImNVhm8svOy"
      },
      "execution_count": 16,
      "outputs": []
    },
    {
      "cell_type": "code",
      "source": [
        "cust1.get_total_spent()"
      ],
      "metadata": {
        "colab": {
          "base_uri": "https://localhost:8080/"
        },
        "id": "-WXCHQgQs4CB",
        "outputId": "302c483b-5f99-4692-dfbd-5bbd9f3c3af6"
      },
      "execution_count": 17,
      "outputs": [
        {
          "output_type": "execute_result",
          "data": {
            "text/plain": [
              "13"
            ]
          },
          "metadata": {},
          "execution_count": 17
        }
      ]
    },
    {
      "cell_type": "code",
      "source": [
        "class CustomerAnalytics:\n",
        "\n",
        "    def __init__(self):\n",
        "        self.customers = {}\n",
        "\n",
        "    def add_customer(self, customer):\n",
        "        self.customers[customer.customer_id] = customer\n",
        "\n",
        "    def add_purchase_to_customer(self, customer_id, product_id, amount):\n",
        "        customer = self.customers[customer_id]\n",
        "        customer.add_purchase(product_id, amount)\n",
        "\n",
        "    def get_customer_total_spent(self, customer_id):\n",
        "        customer = self.customers[customer_id]\n",
        "        return customer.get_total_spent()\n",
        "\n",
        "    def get_total_spent(self):\n",
        "        total_spent = 0\n",
        "        for customer_id in self.customers:\n",
        "            total_spent += self.get_customer_total_spent(customer_id)\n",
        "        return total_spent"
      ],
      "metadata": {
        "id": "a8mWTHl6ubkk"
      },
      "execution_count": 39,
      "outputs": []
    },
    {
      "cell_type": "code",
      "source": [
        "ca = CustomerAnalytics()\n",
        "ca.add_customer(cust1)\n",
        "ca.add_customer(cust2)"
      ],
      "metadata": {
        "id": "oWAmJm4bvhwF"
      },
      "execution_count": 40,
      "outputs": []
    },
    {
      "cell_type": "code",
      "source": [
        "cust1.purchases"
      ],
      "metadata": {
        "colab": {
          "base_uri": "https://localhost:8080/"
        },
        "id": "83SQZfPcvnWz",
        "outputId": "e9dcf81f-7bdc-4bbf-f53a-14c3c682c369"
      },
      "execution_count": 41,
      "outputs": [
        {
          "output_type": "execute_result",
          "data": {
            "text/plain": [
              "{22: [3, 2, 5], 24: [1, 7, 5, 5]}"
            ]
          },
          "metadata": {},
          "execution_count": 41
        }
      ]
    },
    {
      "cell_type": "code",
      "source": [
        "ca.customers[12312].purchases"
      ],
      "metadata": {
        "colab": {
          "base_uri": "https://localhost:8080/"
        },
        "id": "ZPPATYtPwcOh",
        "outputId": "3db79b66-c883-4fa6-abe7-9ddd459ecc88"
      },
      "execution_count": 54,
      "outputs": [
        {
          "output_type": "execute_result",
          "data": {
            "text/plain": [
              "{22: [3, 2, 5], 24: [1, 7, 5, 5]}"
            ]
          },
          "metadata": {},
          "execution_count": 54
        }
      ]
    },
    {
      "cell_type": "code",
      "source": [
        "ca.customers[12313].purchases"
      ],
      "metadata": {
        "colab": {
          "base_uri": "https://localhost:8080/"
        },
        "id": "CUwXL3Vry25f",
        "outputId": "d90ac3a2-25d1-4ead-b00e-3f0f7a94002c"
      },
      "execution_count": 55,
      "outputs": [
        {
          "output_type": "execute_result",
          "data": {
            "text/plain": [
              "{22: [4, 2]}"
            ]
          },
          "metadata": {},
          "execution_count": 55
        }
      ]
    },
    {
      "cell_type": "code",
      "source": [
        "ca.add_purchase_to_customer(12313, 22, 4)\n",
        "ca.add_purchase_to_customer(12313, 22, 2)"
      ],
      "metadata": {
        "id": "v8WakA7IxJiR"
      },
      "execution_count": 45,
      "outputs": []
    },
    {
      "cell_type": "code",
      "source": [
        "ca.get_customer_total_spent(12312)"
      ],
      "metadata": {
        "colab": {
          "base_uri": "https://localhost:8080/"
        },
        "id": "XCjIjpfvvuQU",
        "outputId": "a59e583f-5afe-4bda-fa75-4269e0473dc4"
      },
      "execution_count": 46,
      "outputs": [
        {
          "output_type": "execute_result",
          "data": {
            "text/plain": [
              "28"
            ]
          },
          "metadata": {},
          "execution_count": 46
        }
      ]
    },
    {
      "cell_type": "code",
      "source": [
        "ca.get_total_spent()"
      ],
      "metadata": {
        "colab": {
          "base_uri": "https://localhost:8080/"
        },
        "id": "SDHMhQV1wV95",
        "outputId": "f503c8c9-5c34-41fd-9cbb-99d68d66dc97"
      },
      "execution_count": 47,
      "outputs": [
        {
          "output_type": "execute_result",
          "data": {
            "text/plain": [
              "34"
            ]
          },
          "metadata": {},
          "execution_count": 47
        }
      ]
    },
    {
      "cell_type": "code",
      "source": [
        "import numpy as np\n",
        "\n",
        "class ProductAnalytics:\n",
        "\n",
        "    def __init__(self, customer_analytics):\n",
        "        self.all_products = {}\n",
        "        for cust_id in customer_analytics.customers:\n",
        "            purchases = customer_analytics.customers[cust_id].purchases\n",
        "            for prod_id in purchases:\n",
        "                if prod_id not in self.all_products:\n",
        "                    self.all_products[prod_id] = []\n",
        "                self.all_products[prod_id] += purchases[prod_id]\n",
        "\n",
        "        for prod_id in self.all_products:\n",
        "            self.all_products[prod_id] = np.array(self.all_products[prod_id])"
      ],
      "metadata": {
        "id": "wRiqvUuExGvK"
      },
      "execution_count": 59,
      "outputs": []
    },
    {
      "cell_type": "code",
      "source": [
        "pa = ProductAnalytics(ca)"
      ],
      "metadata": {
        "id": "S-l_uRVFyovj"
      },
      "execution_count": 60,
      "outputs": []
    },
    {
      "cell_type": "code",
      "source": [
        "pa.all_products"
      ],
      "metadata": {
        "colab": {
          "base_uri": "https://localhost:8080/"
        },
        "id": "LIgqLKySyq9C",
        "outputId": "9c78d08b-0063-41c4-e7ec-326085f39d82"
      },
      "execution_count": 61,
      "outputs": [
        {
          "output_type": "execute_result",
          "data": {
            "text/plain": [
              "{22: array([3, 2, 5, 4, 2]), 24: array([1, 7, 5, 5])}"
            ]
          },
          "metadata": {},
          "execution_count": 61
        }
      ]
    },
    {
      "cell_type": "code",
      "source": [],
      "metadata": {
        "id": "bG_ngDEZytKy"
      },
      "execution_count": null,
      "outputs": []
    }
  ]
}