{
  "nbformat": 4,
  "nbformat_minor": 0,
  "metadata": {
    "colab": {
      "provenance": [],
      "authorship_tag": "ABX9TyM57GhIPdRkyG11tKku3eBP",
      "include_colab_link": true
    },
    "kernelspec": {
      "name": "python3",
      "display_name": "Python 3"
    },
    "language_info": {
      "name": "python"
    }
  },
  "cells": [
    {
      "cell_type": "markdown",
      "metadata": {
        "id": "view-in-github",
        "colab_type": "text"
      },
      "source": [
        "<a href=\"https://colab.research.google.com/github/jansoe/Lehre/blob/main/CodeExamples.ipynb\" target=\"_parent\"><img src=\"https://colab.research.google.com/assets/colab-badge.svg\" alt=\"Open In Colab\"/></a>"
      ]
    },
    {
      "cell_type": "code",
      "execution_count": null,
      "metadata": {
        "id": "U81TIQpj1yoU"
      },
      "outputs": [],
      "source": [
        "myvar = 'hello'"
      ]
    },
    {
      "cell_type": "code",
      "source": [],
      "metadata": {
        "id": "cBPY0LC5MEt7"
      },
      "execution_count": null,
      "outputs": []
    },
    {
      "cell_type": "markdown",
      "source": [
        "## Control Structures"
      ],
      "metadata": {
        "id": "audlxELU69kA"
      }
    },
    {
      "cell_type": "markdown",
      "source": [
        "### If-statement and intendation\n",
        "\n",
        "The following code changes the value of myvar in the following ways\n",
        "* all values smaller as 0 are changed to 0\n",
        "* all values in the range [0, 5] are increased by 5\n",
        "* for all values larger than 5, 2 is subtracted and the resulting value is doubled\n",
        "\n"
      ],
      "metadata": {
        "id": "QP-NJSsE5xkr"
      }
    },
    {
      "cell_type": "code",
      "source": [
        "myvar2 = 4\n",
        "\n",
        "if myvar2 < 0:\n",
        "    myvar2 = 0\n",
        "    print(\"var was smaller 0, now it is 0\")\n",
        "elif myvar2 < 5:\n",
        "    myvar2 += 5\n",
        "    print(\"var was smaller 5, now it is at least 5\")\n",
        "else:\n",
        "    myvar2 -= 2\n",
        "    myvar2 *= 2\n",
        "\n",
        "print(\"var is now:\", myvar2)"
      ],
      "metadata": {
        "colab": {
          "base_uri": "https://localhost:8080/"
        },
        "id": "Vrf4oce_133f",
        "outputId": "60401871-1a71-4778-fb28-9ea853b22089"
      },
      "execution_count": null,
      "outputs": [
        {
          "output_type": "stream",
          "name": "stdout",
          "text": [
            "var was smaller 5, now it is at least 5\n",
            "var is now: 9\n"
          ]
        }
      ]
    },
    {
      "cell_type": "markdown",
      "source": [
        "#### Task\n",
        "Write some code that sets\n",
        "- all odd numbers to 0\n",
        "- all even numbers which are divisible by 3\n",
        "- and all other numbers to 1"
      ],
      "metadata": {
        "id": "5sGxVoVkDlHB"
      }
    },
    {
      "cell_type": "code",
      "source": [],
      "metadata": {
        "id": "X0h6a4zGDloT"
      },
      "execution_count": null,
      "outputs": []
    },
    {
      "cell_type": "markdown",
      "source": [
        "### for-loop"
      ],
      "metadata": {
        "id": "paCmQeUU8EFs"
      }
    },
    {
      "cell_type": "code",
      "source": [
        "list_collection = [3,2,4,1]\n",
        "\n",
        "sum = 0\n",
        "for el in list_collection:\n",
        "    sum += el\n",
        "    print(el, sum)"
      ],
      "metadata": {
        "colab": {
          "base_uri": "https://localhost:8080/"
        },
        "id": "QhJbCRRe4M_1",
        "outputId": "d0fa7db0-76ca-45f9-8f9b-e55f3c5a5ebb"
      },
      "execution_count": null,
      "outputs": [
        {
          "output_type": "stream",
          "name": "stdout",
          "text": [
            "3 3\n",
            "2 5\n",
            "4 9\n",
            "1 10\n"
          ]
        }
      ]
    },
    {
      "cell_type": "code",
      "source": [
        "mystring = \"this is a string\"\n",
        "\n",
        "counter_i = 0\n",
        "for char in mystring:\n",
        "    if char == 'i':\n",
        "        counter_i +=1\n",
        "print(counter_i)"
      ],
      "metadata": {
        "colab": {
          "base_uri": "https://localhost:8080/"
        },
        "id": "vKVkVWJU7uJI",
        "outputId": "637a2bc7-0164-4711-90dc-39e18bb94434"
      },
      "execution_count": null,
      "outputs": [
        {
          "output_type": "stream",
          "name": "stdout",
          "text": [
            "3\n"
          ]
        }
      ]
    },
    {
      "cell_type": "markdown",
      "source": [
        "##### Example 4"
      ],
      "metadata": {
        "id": "vQpcQSrnBZkC"
      }
    },
    {
      "cell_type": "code",
      "source": [
        "mystring = \"a string\"\n",
        "\n",
        "counter_i = 0\n",
        "for char in mystring:\n",
        "    if char == 'i':\n",
        "        continue\n",
        "    counter_i +=1"
      ],
      "metadata": {
        "id": "oeQxdh1p8SlU"
      },
      "execution_count": null,
      "outputs": []
    },
    {
      "cell_type": "markdown",
      "source": [
        "##### Example 5"
      ],
      "metadata": {
        "id": "Eh38TGdkBhYN"
      }
    },
    {
      "cell_type": "code",
      "source": [
        "mystring = \"a string\"\n",
        "\n",
        "counter_i = 0\n",
        "for char in mystring:\n",
        "    if char == 'i':\n",
        "        break\n",
        "    counter +=1\n",
        "print(counter)"
      ],
      "metadata": {
        "id": "k5endLQ-BExx"
      },
      "execution_count": null,
      "outputs": []
    }
  ]
}